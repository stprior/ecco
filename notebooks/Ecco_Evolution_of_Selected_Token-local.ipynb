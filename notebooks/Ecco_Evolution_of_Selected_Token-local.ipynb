{
  "nbformat": 4,
  "nbformat_minor": 0,
  "metadata": {
    "colab": {
      "name": "03- Evolution of Selected Token.ipynb",
      "provenance": [],
      "collapsed_sections": [],
      "authorship_tag": "ABX9TyPUUw8FIcUmzmfJ9ve0l85l",
      "include_colab_link": true
    },
    "kernelspec": {
      "name": "python391jvsc74a57bd0ba85587d0f2f867a4e78210392c7bc7374047d8b061b2b933587dccc022acd03",
      "display_name": "Python 3.9.1 64-bit"
    },
    "accelerator": "GPU",
    "metadata": {
      "interpreter": {
        "hash": "ba85587d0f2f867a4e78210392c7bc7374047d8b061b2b933587dccc022acd03"
      }
    }
  },
  "cells": [
    {
      "cell_type": "markdown",
      "metadata": {
        "id": "view-in-github",
        "colab_type": "text"
      },
      "source": [
        "<a href=\"https://colab.research.google.com/github/jalammar/ecco/blob/main/notebooks/Ecco_Evolution_of_Selected_Token.ipynb\" target=\"_parent\"><img src=\"https://colab.research.google.com/assets/colab-badge.svg\" alt=\"Open In Colab\"/></a>"
      ]
    },
    {
      "cell_type": "code",
      "metadata": {
        "id": "8yRvbbiMHrz3"
      },
      "source": [
        "!pip install ecco\n",
        "import warnings\n",
        "warnings.filterwarnings('ignore')"
      ],
      "execution_count": 3,
      "outputs": [
        {
          "output_type": "stream",
          "name": "stdout",
          "text": [
            "Requirement already satisfied: ecco in c:\\users\\stephenprior\\appdata\\local\\programs\\python\\python39\\lib\\site-packages (0.0.14)\n",
            "Requirement already satisfied: seaborn~=0.11 in c:\\users\\stephenprior\\appdata\\local\\programs\\python\\python39\\lib\\site-packages (from ecco) (0.11.1)\n",
            "Requirement already satisfied: scikit-learn~=0.23 in c:\\users\\stephenprior\\appdata\\local\\programs\\python\\python39\\lib\\site-packages (from ecco) (0.24.1)\n",
            "Requirement already satisfied: PyYAML~=5.4 in c:\\users\\stephenprior\\appdata\\local\\programs\\python\\python39\\lib\\site-packages (from ecco) (5.4.1)\n",
            "Requirement already satisfied: transformers~=4.2 in c:\\users\\stephenprior\\appdata\\local\\programs\\python\\python39\\lib\\site-packages (from ecco) (4.5.0)\n",
            "Requirement already satisfied: scipy>=0.19.1 in c:\\users\\stephenprior\\appdata\\local\\programs\\python\\python39\\lib\\site-packages (from scikit-learn~=0.23->ecco) (1.6.2)\n",
            "Requirement already satisfied: joblib>=0.11 in c:\\users\\stephenprior\\appdata\\local\\programs\\python\\python39\\lib\\site-packages (from scikit-learn~=0.23->ecco) (1.0.1)\n",
            "Requirement already satisfied: numpy>=1.13.3 in c:\\users\\stephenprior\\appdata\\local\\programs\\python\\python39\\lib\\site-packages (from scikit-learn~=0.23->ecco) (1.20.2)\n",
            "Requirement already satisfied: threadpoolctl>=2.0.0 in c:\\users\\stephenprior\\appdata\\local\\programs\\python\\python39\\lib\\site-packages (from scikit-learn~=0.23->ecco) (2.1.0)\n",
            "Requirement already satisfied: pandas>=0.23 in c:\\users\\stephenprior\\appdata\\local\\programs\\python\\python39\\lib\\site-packages (from seaborn~=0.11->ecco) (1.2.3)\n",
            "Requirement already satisfied: matplotlib>=2.2 in c:\\users\\stephenprior\\appdata\\local\\programs\\python\\python39\\lib\\site-packages (from seaborn~=0.11->ecco) (3.4.1)\n",
            "Requirement already satisfied: cycler>=0.10 in c:\\users\\stephenprior\\appdata\\local\\programs\\python\\python39\\lib\\site-packages (from matplotlib>=2.2->seaborn~=0.11->ecco) (0.10.0)\n",
            "Requirement already satisfied: pyparsing>=2.2.1 in c:\\users\\stephenprior\\appdata\\local\\programs\\python\\python39\\lib\\site-packages (from matplotlib>=2.2->seaborn~=0.11->ecco) (2.4.7)\n",
            "Requirement already satisfied: pillow>=6.2.0 in c:\\users\\stephenprior\\appdata\\local\\programs\\python\\python39\\lib\\site-packages (from matplotlib>=2.2->seaborn~=0.11->ecco) (8.2.0)\n",
            "Requirement already satisfied: kiwisolver>=1.0.1 in c:\\users\\stephenprior\\appdata\\local\\programs\\python\\python39\\lib\\site-packages (from matplotlib>=2.2->seaborn~=0.11->ecco) (1.3.1)\n",
            "Requirement already satisfied: python-dateutil>=2.7 in c:\\users\\stephenprior\\appdata\\roaming\\python\\python39\\site-packages (from matplotlib>=2.2->seaborn~=0.11->ecco) (2.8.1)\n",
            "Requirement already satisfied: six in c:\\users\\stephenprior\\appdata\\roaming\\python\\python39\\site-packages (from cycler>=0.10->matplotlib>=2.2->seaborn~=0.11->ecco) (1.15.0)\n",
            "Requirement already satisfied: pytz>=2017.3 in c:\\users\\stephenprior\\appdata\\local\\programs\\python\\python39\\lib\\site-packages (from pandas>=0.23->seaborn~=0.11->ecco) (2021.1)\n",
            "Requirement already satisfied: requests in c:\\users\\stephenprior\\appdata\\local\\programs\\python\\python39\\lib\\site-packages (from transformers~=4.2->ecco) (2.24.0)\n",
            "Requirement already satisfied: regex!=2019.12.17 in c:\\users\\stephenprior\\appdata\\local\\programs\\python\\python39\\lib\\site-packages (from transformers~=4.2->ecco) (2021.4.4)\n",
            "Requirement already satisfied: sacremoses in c:\\users\\stephenprior\\appdata\\local\\programs\\python\\python39\\lib\\site-packages (from transformers~=4.2->ecco) (0.0.44)\n",
            "Requirement already satisfied: filelock in c:\\users\\stephenprior\\appdata\\local\\programs\\python\\python39\\lib\\site-packages (from transformers~=4.2->ecco) (3.0.12)\n",
            "Requirement already satisfied: tqdm>=4.27 in c:\\users\\stephenprior\\appdata\\local\\programs\\python\\python39\\lib\\site-packages (from transformers~=4.2->ecco) (4.60.0)\n",
            "Requirement already satisfied: tokenizers<0.11,>=0.10.1 in c:\\users\\stephenprior\\appdata\\local\\programs\\python\\python39\\lib\\site-packages (from transformers~=4.2->ecco) (0.10.2)\n",
            "Requirement already satisfied: packaging in c:\\users\\stephenprior\\appdata\\local\\programs\\python\\python39\\lib\\site-packages (from transformers~=4.2->ecco) (20.9)\n",
            "Requirement already satisfied: chardet<4,>=3.0.2 in c:\\users\\stephenprior\\appdata\\local\\programs\\python\\python39\\lib\\site-packages (from requests->transformers~=4.2->ecco) (3.0.4)\n",
            "Requirement already satisfied: certifi>=2017.4.17 in c:\\users\\stephenprior\\appdata\\local\\programs\\python\\python39\\lib\\site-packages (from requests->transformers~=4.2->ecco) (2019.9.11)\n",
            "Requirement already satisfied: idna<3,>=2.5 in c:\\users\\stephenprior\\appdata\\local\\programs\\python\\python39\\lib\\site-packages (from requests->transformers~=4.2->ecco) (2.10)\n",
            "Requirement already satisfied: urllib3!=1.25.0,!=1.25.1,<1.26,>=1.21.1 in c:\\users\\stephenprior\\appdata\\local\\programs\\python\\python39\\lib\\site-packages (from requests->transformers~=4.2->ecco) (1.25.10)\n",
            "Requirement already satisfied: click in c:\\users\\stephenprior\\appdata\\local\\programs\\python\\python39\\lib\\site-packages (from sacremoses->transformers~=4.2->ecco) (7.1.2)\n"
          ]
        }
      ]
    },
    {
      "cell_type": "code",
      "metadata": {
        "id": "ZoLhtvPRHs1u"
      },
      "source": [
        "import ecco\n",
        "lm = ecco.from_pretrained('distilgpt2')"
      ],
      "execution_count": 4,
      "outputs": []
    },
    {
      "cell_type": "code",
      "metadata": {
        "id": "Ggr5LF8VHurh",
        "colab": {
          "base_uri": "https://localhost:8080/",
          "height": 239
        },
        "outputId": "8ef1116d-dcb3-4ad7-91c7-a78bbad84c69"
      },
      "source": [
        "text= \"The four Provinces in Ireland are; Ulster, Munster,\"\n",
        "\n",
        "output = lm.generate(text, generate=10, do_sample=True)"
      ],
      "execution_count": 46,
      "outputs": [
        {
          "output_type": "display_data",
          "data": {
            "text/plain": "<IPython.core.display.HTML object>",
            "text/html": "<html lang=\"en\">\n<script src=\"https://requirejs.org/docs/release/2.3.6/minified/require.js\"></script>\n<script>\n    var ecco_url = 'https://storage.googleapis.com/ml-intro/ecco/'\n    // var ecco_url = 'http://localhost:8000/ecco/'\n\n    if (window.ecco === undefined) window.ecco = {}\n\n    requirejs.config({\n        urlArgs: \"bust=\" + (new Date()).getTime(),\n        nodeRequire: require,\n        paths: {\n            d3: \"https://d3js.org/d3.v5.min\",\n            \"d3-array\": \"https://d3js.org/d3-array.v2.min\",\n            jquery: \"https://code.jquery.com/jquery-3.5.1.min\",\n            // oldEcco: ecco_url + 'ecco',\n            ecco: ecco_url + 'js/0.0.4/ecco-bundle.min',\n            xregexp: 'https://cdnjs.cloudflare.com/ajax/libs/xregexp/3.2.0/xregexp-all.min'\n        }\n    });\n    requirejs(['d3'],\n        function (d3) {\n            d3.select('#css').attr('href', ecco_url + 'html/styles.css')\n        })\n\n    console.log('Ecco initialize.')\n</script>\n\n<head>\n    <link id='css' rel=\"stylesheet\" type=\"text/css\">\n</head>\n"
          },
          "metadata": {}
        },
        {
          "output_type": "display_data",
          "data": {
            "text/plain": "<IPython.core.display.HTML object>",
            "text/html": "<script>\n    // console.log('defining basic')\n    define('basic', ['d3'],\n        function (d3) {\n            return {\n                init: function (viz_id = null) {\n\n                    // console.log('basic init')\n                    if (viz_id == null){\n                        viz_id = \"viz_\" + Math.round(Math.random() * 10000000)\n                    }\n                    const div = d3.select('#basic').attr('id', viz_id),\n                        div_parent = d3.select('#' + viz_id).node().parentNode\n\n                    // Link to CSS file\n                    d3.select(div_parent).insert('link')\n                        .attr('rel', 'stylesheet')\n                        .attr('type', 'text/css')\n                        .attr('href', ecco_url + 'html/styles.css')\n\n                    return viz_id\n                }\n            }\n        }, function (err) {console.log(err);}\n    )\n    // console.log('after defining basic')\n\n</script>\n<div id=\"basic\"></div>\n"
          },
          "metadata": {}
        },
        {
          "output_type": "display_data",
          "data": {
            "text/plain": "<IPython.core.display.Javascript object>",
            "application/javascript": "\n\n         requirejs( ['basic', 'ecco'], function(basic, ecco){\n            basic.init('viz_669504')\n\n            window.ecco['viz_669504'] = ecco.renderOutputSequence('viz_669504', {'tokens': [{'token': 'The', 'position': 0, 'token_id': 464, 'type': 'input'}, {'token': ' four', 'position': 1, 'token_id': 1440, 'type': 'input'}, {'token': ' Pro', 'position': 2, 'token_id': 1041, 'type': 'input'}, {'token': 'vin', 'position': 3, 'token_id': 7114, 'type': 'input'}, {'token': 'ces', 'position': 4, 'token_id': 728, 'type': 'input'}, {'token': ' in', 'position': 5, 'token_id': 287, 'type': 'input'}, {'token': ' Ireland', 'position': 6, 'token_id': 7517, 'type': 'input'}, {'token': ' are', 'position': 7, 'token_id': 389, 'type': 'input'}, {'token': ';', 'position': 8, 'token_id': 26, 'type': 'input'}, {'token': ' Ulster', 'position': 9, 'token_id': 50026, 'type': 'input'}, {'token': ',', 'position': 10, 'token_id': 11, 'type': 'input'}, {'token': ' Mun', 'position': 11, 'token_id': 12107, 'type': 'input'}, {'token': 'ster', 'position': 12, 'token_id': 1706, 'type': 'input'}, {'token': ',', 'position': 13, 'token_id': 11, 'type': 'input'}]})\n         }, function (err) {\n            console.log(err);\n        })\n"
          },
          "metadata": {}
        },
        {
          "output_type": "display_data",
          "data": {
            "text/plain": "<IPython.core.display.Javascript object>",
            "application/javascript": "\n        // We don't really need these require scripts. But this is to avert\n        //this code from running before display_input_sequence which DOES require external files\n        requirejs(['basic', 'ecco'], function(basic, ecco){\n                console.log('addToken viz_id', 'viz_669504');\n                window.ecco['viz_669504'].addToken({\"token\": \" and\", \"token_id\": 290, \"position\": 14, \"type\": \"output\"})\n                window.ecco['viz_669504'].redraw()\n        })\n        "
          },
          "metadata": {}
        },
        {
          "output_type": "display_data",
          "data": {
            "text/plain": "<IPython.core.display.Javascript object>",
            "application/javascript": "\n        // We don't really need these require scripts. But this is to avert\n        //this code from running before display_input_sequence which DOES require external files\n        requirejs(['basic', 'ecco'], function(basic, ecco){\n                console.log('addToken viz_id', 'viz_669504');\n                window.ecco['viz_669504'].addToken({\"token\": \" Ulster\", \"token_id\": 50026, \"position\": 15, \"type\": \"output\"})\n                window.ecco['viz_669504'].redraw()\n        })\n        "
          },
          "metadata": {}
        },
        {
          "output_type": "display_data",
          "data": {
            "text/plain": "<IPython.core.display.Javascript object>",
            "application/javascript": "\n        // We don't really need these require scripts. But this is to avert\n        //this code from running before display_input_sequence which DOES require external files\n        requirejs(['basic', 'ecco'], function(basic, ecco){\n                console.log('addToken viz_id', 'viz_669504');\n                window.ecco['viz_669504'].addToken({\"token\": \".\", \"token_id\": 13, \"position\": 16, \"type\": \"output\"})\n                window.ecco['viz_669504'].redraw()\n        })\n        "
          },
          "metadata": {}
        },
        {
          "output_type": "display_data",
          "data": {
            "text/plain": "<IPython.core.display.Javascript object>",
            "application/javascript": "\n        // We don't really need these require scripts. But this is to avert\n        //this code from running before display_input_sequence which DOES require external files\n        requirejs(['basic', 'ecco'], function(basic, ecco){\n                console.log('addToken viz_id', 'viz_669504');\n                window.ecco['viz_669504'].addToken({\"token\": \" There\", \"token_id\": 1318, \"position\": 17, \"type\": \"output\"})\n                window.ecco['viz_669504'].redraw()\n        })\n        "
          },
          "metadata": {}
        },
        {
          "output_type": "display_data",
          "data": {
            "text/plain": "<IPython.core.display.Javascript object>",
            "application/javascript": "\n        // We don't really need these require scripts. But this is to avert\n        //this code from running before display_input_sequence which DOES require external files\n        requirejs(['basic', 'ecco'], function(basic, ecco){\n                console.log('addToken viz_id', 'viz_669504');\n                window.ecco['viz_669504'].addToken({\"token\": \" are\", \"token_id\": 389, \"position\": 18, \"type\": \"output\"})\n                window.ecco['viz_669504'].redraw()\n        })\n        "
          },
          "metadata": {}
        },
        {
          "output_type": "display_data",
          "data": {
            "text/plain": "<IPython.core.display.Javascript object>",
            "application/javascript": "\n        // We don't really need these require scripts. But this is to avert\n        //this code from running before display_input_sequence which DOES require external files\n        requirejs(['basic', 'ecco'], function(basic, ecco){\n                console.log('addToken viz_id', 'viz_669504');\n                window.ecco['viz_669504'].addToken({\"token\": \" five\", \"token_id\": 1936, \"position\": 19, \"type\": \"output\"})\n                window.ecco['viz_669504'].redraw()\n        })\n        "
          },
          "metadata": {}
        },
        {
          "output_type": "display_data",
          "data": {
            "text/plain": "<IPython.core.display.Javascript object>",
            "application/javascript": "\n        // We don't really need these require scripts. But this is to avert\n        //this code from running before display_input_sequence which DOES require external files\n        requirejs(['basic', 'ecco'], function(basic, ecco){\n                console.log('addToken viz_id', 'viz_669504');\n                window.ecco['viz_669504'].addToken({\"token\": \" other\", \"token_id\": 584, \"position\": 20, \"type\": \"output\"})\n                window.ecco['viz_669504'].redraw()\n        })\n        "
          },
          "metadata": {}
        },
        {
          "output_type": "display_data",
          "data": {
            "text/plain": "<IPython.core.display.Javascript object>",
            "application/javascript": "\n        // We don't really need these require scripts. But this is to avert\n        //this code from running before display_input_sequence which DOES require external files\n        requirejs(['basic', 'ecco'], function(basic, ecco){\n                console.log('addToken viz_id', 'viz_669504');\n                window.ecco['viz_669504'].addToken({\"token\": \" three\", \"token_id\": 1115, \"position\": 21, \"type\": \"output\"})\n                window.ecco['viz_669504'].redraw()\n        })\n        "
          },
          "metadata": {}
        },
        {
          "output_type": "display_data",
          "data": {
            "text/plain": "<IPython.core.display.Javascript object>",
            "application/javascript": "\n        // We don't really need these require scripts. But this is to avert\n        //this code from running before display_input_sequence which DOES require external files\n        requirejs(['basic', 'ecco'], function(basic, ecco){\n                console.log('addToken viz_id', 'viz_669504');\n                window.ecco['viz_669504'].addToken({\"token\": \" (\", \"token_id\": 357, \"position\": 22, \"type\": \"output\"})\n                window.ecco['viz_669504'].redraw()\n        })\n        "
          },
          "metadata": {}
        },
        {
          "output_type": "display_data",
          "data": {
            "text/plain": "<IPython.core.display.Javascript object>",
            "application/javascript": "\n        // We don't really need these require scripts. But this is to avert\n        //this code from running before display_input_sequence which DOES require external files\n        requirejs(['basic', 'ecco'], function(basic, ecco){\n                console.log('addToken viz_id', 'viz_669504');\n                window.ecco['viz_669504'].addToken({\"token\": \"T\", \"token_id\": 51, \"position\": 23, \"type\": \"output\"})\n                window.ecco['viz_669504'].redraw()\n        })\n        "
          },
          "metadata": {}
        }
      ]
    },
    {
      "cell_type": "code",
      "metadata": {
        "id": "yn0nzNqfH5kC",
        "colab": {
          "base_uri": "https://localhost:8080/",
          "height": 337
        },
        "outputId": "43302d2e-a31c-4e83-9108-2a420bd7835f"
      },
      "source": [
        "output.rankings()"
      ],
      "execution_count": 47,
      "outputs": [
        {
          "output_type": "display_data",
          "data": {
            "text/plain": "<Figure size 720x244.8 with 3 Axes>",
            "image/svg+xml": "<?xml version=\"1.0\" encoding=\"utf-8\" standalone=\"no\"?>\r\n<!DOCTYPE svg PUBLIC \"-//W3C//DTD SVG 1.1//EN\"\r\n  \"http://www.w3.org/Graphics/SVG/1.1/DTD/svg11.dtd\">\r\n<svg height=\"295.9715pt\" version=\"1.1\" viewBox=\"0 0 681.099062 295.9715\" width=\"681.099062pt\" xmlns=\"http://www.w3.org/2000/svg\" xmlns:xlink=\"http://www.w3.org/1999/xlink\">\r\n <metadata>\r\n  <rdf:RDF xmlns:cc=\"http://creativecommons.org/ns#\" xmlns:dc=\"http://purl.org/dc/elements/1.1/\" xmlns:rdf=\"http://www.w3.org/1999/02/22-rdf-syntax-ns#\">\r\n   <cc:Work>\r\n    <dc:type rdf:resource=\"http://purl.org/dc/dcmitype/StillImage\"/>\r\n    <dc:date>2021-04-18T21:39:36.711065</dc:date>\r\n    <dc:format>image/svg+xml</dc:format>\r\n    <dc:creator>\r\n     <cc:Agent>\r\n      <dc:title>Matplotlib v3.4.1, https://matplotlib.org/</dc:title>\r\n     </cc:Agent>\r\n    </dc:creator>\r\n   </cc:Work>\r\n  </rdf:RDF>\r\n </metadata>\r\n <defs>\r\n  <style type=\"text/css\">*{stroke-linecap:butt;stroke-linejoin:round;}</style>\r\n </defs>\r\n <g id=\"figure_1\">\r\n  <g id=\"patch_1\">\r\n   <path d=\"M 0 295.9715 \r\nL 681.099062 295.9715 \r\nL 681.099062 0 \r\nL 0 0 \r\nz\r\n\" style=\"fill:#ffffff;\"/>\r\n  </g>\r\n  <g id=\"axes_1\">\r\n   <g id=\"patch_2\">\r\n    <path d=\"M 66.592813 195.524 \r\nL 572.715261 195.524 \r\nL 572.715261 10.7 \r\nL 66.592813 10.7 \r\nz\r\n\" style=\"fill:#ffffff;\"/>\r\n   </g>\r\n   <g id=\"QuadMesh_1\">\r\n    <path clip-path=\"url(#p2c740c725f)\" d=\"M 66.592813 10.7 \r\nL 117.205057 10.7 \r\nL 117.205057 41.504 \r\nL 66.592813 41.504 \r\nL 66.592813 10.7 \r\n\" style=\"fill:#e23e99;stroke:#f0f0f0;stroke-width:0.5;\"/>\r\n    <path clip-path=\"url(#p2c740c725f)\" d=\"M 117.205057 10.7 \r\nL 167.817302 10.7 \r\nL 167.817302 41.504 \r\nL 117.205057 41.504 \r\nL 117.205057 10.7 \r\n\" style=\"fill:#ffffff;stroke:#f0f0f0;stroke-width:0.5;\"/>\r\n    <path clip-path=\"url(#p2c740c725f)\" d=\"M 167.817302 10.7 \r\nL 218.429547 10.7 \r\nL 218.429547 41.504 \r\nL 167.817302 41.504 \r\nL 167.817302 10.7 \r\n\" style=\"fill:#eb509c;stroke:#f0f0f0;stroke-width:0.5;\"/>\r\n    <path clip-path=\"url(#p2c740c725f)\" d=\"M 218.429547 10.7 \r\nL 269.041792 10.7 \r\nL 269.041792 41.504 \r\nL 218.429547 41.504 \r\nL 218.429547 10.7 \r\n\" style=\"fill:#f993b0;stroke:#f0f0f0;stroke-width:0.5;\"/>\r\n    <path clip-path=\"url(#p2c740c725f)\" d=\"M 269.041792 10.7 \r\nL 319.654037 10.7 \r\nL 319.654037 41.504 \r\nL 269.041792 41.504 \r\nL 269.041792 10.7 \r\n\" style=\"fill:#f25f9f;stroke:#f0f0f0;stroke-width:0.5;\"/>\r\n    <path clip-path=\"url(#p2c740c725f)\" d=\"M 319.654037 10.7 \r\nL 370.266282 10.7 \r\nL 370.266282 41.504 \r\nL 319.654037 41.504 \r\nL 319.654037 10.7 \r\n\" style=\"fill:#fbabb8;stroke:#f0f0f0;stroke-width:0.5;\"/>\r\n    <path clip-path=\"url(#p2c740c725f)\" d=\"M 370.266282 10.7 \r\nL 420.878527 10.7 \r\nL 420.878527 41.504 \r\nL 370.266282 41.504 \r\nL 370.266282 10.7 \r\n\" style=\"fill:#f873a5;stroke:#f0f0f0;stroke-width:0.5;\"/>\r\n    <path clip-path=\"url(#p2c740c725f)\" d=\"M 420.878527 10.7 \r\nL 471.490772 10.7 \r\nL 471.490772 41.504 \r\nL 420.878527 41.504 \r\nL 420.878527 10.7 \r\n\" style=\"fill:#f879a7;stroke:#f0f0f0;stroke-width:0.5;\"/>\r\n    <path clip-path=\"url(#p2c740c725f)\" d=\"M 471.490772 10.7 \r\nL 522.103017 10.7 \r\nL 522.103017 41.504 \r\nL 471.490772 41.504 \r\nL 471.490772 10.7 \r\n\" style=\"fill:#f98bae;stroke:#f0f0f0;stroke-width:0.5;\"/>\r\n    <path clip-path=\"url(#p2c740c725f)\" d=\"M 522.103017 10.7 \r\nL 572.715261 10.7 \r\nL 572.715261 41.504 \r\nL 522.103017 41.504 \r\nL 522.103017 10.7 \r\n\" style=\"fill:#fba9b8;stroke:#f0f0f0;stroke-width:0.5;\"/>\r\n    <path clip-path=\"url(#p2c740c725f)\" d=\"M 66.592813 41.504 \r\nL 117.205057 41.504 \r\nL 117.205057 72.308 \r\nL 66.592813 72.308 \r\nL 66.592813 41.504 \r\n\" style=\"fill:#e23e99;stroke:#f0f0f0;stroke-width:0.5;\"/>\r\n    <path clip-path=\"url(#p2c740c725f)\" d=\"M 117.205057 41.504 \r\nL 167.817302 41.504 \r\nL 167.817302 72.308 \r\nL 117.205057 72.308 \r\nL 117.205057 41.504 \r\n\" style=\"fill:#ffffff;stroke:#f0f0f0;stroke-width:0.5;\"/>\r\n    <path clip-path=\"url(#p2c740c725f)\" d=\"M 167.817302 41.504 \r\nL 218.429547 41.504 \r\nL 218.429547 72.308 \r\nL 167.817302 72.308 \r\nL 167.817302 41.504 \r\n\" style=\"fill:#e7499b;stroke:#f0f0f0;stroke-width:0.5;\"/>\r\n    <path clip-path=\"url(#p2c740c725f)\" d=\"M 218.429547 41.504 \r\nL 269.041792 41.504 \r\nL 269.041792 72.308 \r\nL 218.429547 72.308 \r\nL 218.429547 41.504 \r\n\" style=\"fill:#f883ab;stroke:#f0f0f0;stroke-width:0.5;\"/>\r\n    <path clip-path=\"url(#p2c740c725f)\" d=\"M 269.041792 41.504 \r\nL 319.654037 41.504 \r\nL 319.654037 72.308 \r\nL 269.041792 72.308 \r\nL 269.041792 41.504 \r\n\" style=\"fill:#eb509c;stroke:#f0f0f0;stroke-width:0.5;\"/>\r\n    <path clip-path=\"url(#p2c740c725f)\" d=\"M 319.654037 41.504 \r\nL 370.266282 41.504 \r\nL 370.266282 72.308 \r\nL 319.654037 72.308 \r\nL 319.654037 41.504 \r\n\" style=\"fill:#f993b1;stroke:#f0f0f0;stroke-width:0.5;\"/>\r\n    <path clip-path=\"url(#p2c740c725f)\" d=\"M 370.266282 41.504 \r\nL 420.878527 41.504 \r\nL 420.878527 72.308 \r\nL 370.266282 72.308 \r\nL 370.266282 41.504 \r\n\" style=\"fill:#eb509c;stroke:#f0f0f0;stroke-width:0.5;\"/>\r\n    <path clip-path=\"url(#p2c740c725f)\" d=\"M 420.878527 41.504 \r\nL 471.490772 41.504 \r\nL 471.490772 72.308 \r\nL 420.878527 72.308 \r\nL 420.878527 41.504 \r\n\" style=\"fill:#f771a4;stroke:#f0f0f0;stroke-width:0.5;\"/>\r\n    <path clip-path=\"url(#p2c740c725f)\" d=\"M 471.490772 41.504 \r\nL 522.103017 41.504 \r\nL 522.103017 72.308 \r\nL 471.490772 72.308 \r\nL 471.490772 41.504 \r\n\" style=\"fill:#f874a6;stroke:#f0f0f0;stroke-width:0.5;\"/>\r\n    <path clip-path=\"url(#p2c740c725f)\" d=\"M 522.103017 41.504 \r\nL 572.715261 41.504 \r\nL 572.715261 72.308 \r\nL 522.103017 72.308 \r\nL 522.103017 41.504 \r\n\" style=\"fill:#faa5b7;stroke:#f0f0f0;stroke-width:0.5;\"/>\r\n    <path clip-path=\"url(#p2c740c725f)\" d=\"M 66.592813 72.308 \r\nL 117.205057 72.308 \r\nL 117.205057 103.112 \r\nL 66.592813 103.112 \r\nL 66.592813 72.308 \r\n\" style=\"fill:#9a017b;stroke:#f0f0f0;stroke-width:0.5;\"/>\r\n    <path clip-path=\"url(#p2c740c725f)\" d=\"M 117.205057 72.308 \r\nL 167.817302 72.308 \r\nL 167.817302 103.112 \r\nL 117.205057 103.112 \r\nL 117.205057 72.308 \r\n\" style=\"fill:#ffffff;stroke:#f0f0f0;stroke-width:0.5;\"/>\r\n    <path clip-path=\"url(#p2c740c725f)\" d=\"M 167.817302 72.308 \r\nL 218.429547 72.308 \r\nL 218.429547 103.112 \r\nL 167.817302 103.112 \r\nL 167.817302 72.308 \r\n\" style=\"fill:#e7499b;stroke:#f0f0f0;stroke-width:0.5;\"/>\r\n    <path clip-path=\"url(#p2c740c725f)\" d=\"M 218.429547 72.308 \r\nL 269.041792 72.308 \r\nL 269.041792 103.112 \r\nL 218.429547 103.112 \r\nL 218.429547 72.308 \r\n\" style=\"fill:#f87ba8;stroke:#f0f0f0;stroke-width:0.5;\"/>\r\n    <path clip-path=\"url(#p2c740c725f)\" d=\"M 269.041792 72.308 \r\nL 319.654037 72.308 \r\nL 319.654037 103.112 \r\nL 269.041792 103.112 \r\nL 269.041792 72.308 \r\n\" style=\"fill:#e23e99;stroke:#f0f0f0;stroke-width:0.5;\"/>\r\n    <path clip-path=\"url(#p2c740c725f)\" d=\"M 319.654037 72.308 \r\nL 370.266282 72.308 \r\nL 370.266282 103.112 \r\nL 319.654037 103.112 \r\nL 319.654037 72.308 \r\n\" style=\"fill:#f98faf;stroke:#f0f0f0;stroke-width:0.5;\"/>\r\n    <path clip-path=\"url(#p2c740c725f)\" d=\"M 370.266282 72.308 \r\nL 420.878527 72.308 \r\nL 420.878527 103.112 \r\nL 370.266282 103.112 \r\nL 370.266282 72.308 \r\n\" style=\"fill:#f666a1;stroke:#f0f0f0;stroke-width:0.5;\"/>\r\n    <path clip-path=\"url(#p2c740c725f)\" d=\"M 420.878527 72.308 \r\nL 471.490772 72.308 \r\nL 471.490772 103.112 \r\nL 420.878527 103.112 \r\nL 420.878527 72.308 \r\n\" style=\"fill:#f881aa;stroke:#f0f0f0;stroke-width:0.5;\"/>\r\n    <path clip-path=\"url(#p2c740c725f)\" d=\"M 471.490772 72.308 \r\nL 522.103017 72.308 \r\nL 522.103017 103.112 \r\nL 471.490772 103.112 \r\nL 471.490772 72.308 \r\n\" style=\"fill:#f666a1;stroke:#f0f0f0;stroke-width:0.5;\"/>\r\n    <path clip-path=\"url(#p2c740c725f)\" d=\"M 522.103017 72.308 \r\nL 572.715261 72.308 \r\nL 572.715261 103.112 \r\nL 522.103017 103.112 \r\nL 522.103017 72.308 \r\n\" style=\"fill:#fbadb9;stroke:#f0f0f0;stroke-width:0.5;\"/>\r\n    <path clip-path=\"url(#p2c740c725f)\" d=\"M 66.592813 103.112 \r\nL 117.205057 103.112 \r\nL 117.205057 133.916 \r\nL 66.592813 133.916 \r\nL 66.592813 103.112 \r\n\" style=\"fill:#9a017b;stroke:#f0f0f0;stroke-width:0.5;\"/>\r\n    <path clip-path=\"url(#p2c740c725f)\" d=\"M 117.205057 103.112 \r\nL 167.817302 103.112 \r\nL 167.817302 133.916 \r\nL 117.205057 133.916 \r\nL 117.205057 103.112 \r\n\" style=\"fill:#fde5e1;stroke:#f0f0f0;stroke-width:0.5;\"/>\r\n    <path clip-path=\"url(#p2c740c725f)\" d=\"M 167.817302 103.112 \r\nL 218.429547 103.112 \r\nL 218.429547 133.916 \r\nL 167.817302 133.916 \r\nL 167.817302 103.112 \r\n\" style=\"fill:#e23e99;stroke:#f0f0f0;stroke-width:0.5;\"/>\r\n    <path clip-path=\"url(#p2c740c725f)\" d=\"M 218.429547 103.112 \r\nL 269.041792 103.112 \r\nL 269.041792 133.916 \r\nL 218.429547 133.916 \r\nL 218.429547 103.112 \r\n\" style=\"fill:#f87aa7;stroke:#f0f0f0;stroke-width:0.5;\"/>\r\n    <path clip-path=\"url(#p2c740c725f)\" d=\"M 269.041792 103.112 \r\nL 319.654037 103.112 \r\nL 319.654037 133.916 \r\nL 269.041792 133.916 \r\nL 269.041792 103.112 \r\n\" style=\"fill:#e23e99;stroke:#f0f0f0;stroke-width:0.5;\"/>\r\n    <path clip-path=\"url(#p2c740c725f)\" d=\"M 319.654037 103.112 \r\nL 370.266282 103.112 \r\nL 370.266282 133.916 \r\nL 319.654037 133.916 \r\nL 319.654037 103.112 \r\n\" style=\"fill:#f984ab;stroke:#f0f0f0;stroke-width:0.5;\"/>\r\n    <path clip-path=\"url(#p2c740c725f)\" d=\"M 370.266282 103.112 \r\nL 420.878527 103.112 \r\nL 420.878527 133.916 \r\nL 370.266282 133.916 \r\nL 370.266282 103.112 \r\n\" style=\"fill:#ee569d;stroke:#f0f0f0;stroke-width:0.5;\"/>\r\n    <path clip-path=\"url(#p2c740c725f)\" d=\"M 420.878527 103.112 \r\nL 471.490772 103.112 \r\nL 471.490772 133.916 \r\nL 420.878527 133.916 \r\nL 420.878527 103.112 \r\n\" style=\"fill:#f87da9;stroke:#f0f0f0;stroke-width:0.5;\"/>\r\n    <path clip-path=\"url(#p2c740c725f)\" d=\"M 471.490772 103.112 \r\nL 522.103017 103.112 \r\nL 522.103017 133.916 \r\nL 471.490772 133.916 \r\nL 471.490772 103.112 \r\n\" style=\"fill:#f25f9f;stroke:#f0f0f0;stroke-width:0.5;\"/>\r\n    <path clip-path=\"url(#p2c740c725f)\" d=\"M 522.103017 103.112 \r\nL 572.715261 103.112 \r\nL 572.715261 133.916 \r\nL 522.103017 133.916 \r\nL 522.103017 103.112 \r\n\" style=\"fill:#fbabb9;stroke:#f0f0f0;stroke-width:0.5;\"/>\r\n    <path clip-path=\"url(#p2c740c725f)\" d=\"M 66.592813 133.916 \r\nL 117.205057 133.916 \r\nL 117.205057 164.72 \r\nL 66.592813 164.72 \r\nL 66.592813 133.916 \r\n\" style=\"fill:#9a017b;stroke:#f0f0f0;stroke-width:0.5;\"/>\r\n    <path clip-path=\"url(#p2c740c725f)\" d=\"M 117.205057 133.916 \r\nL 167.817302 133.916 \r\nL 167.817302 164.72 \r\nL 117.205057 164.72 \r\nL 117.205057 133.916 \r\n\" style=\"fill:#fcc6c1;stroke:#f0f0f0;stroke-width:0.5;\"/>\r\n    <path clip-path=\"url(#p2c740c725f)\" d=\"M 167.817302 133.916 \r\nL 218.429547 133.916 \r\nL 218.429547 164.72 \r\nL 167.817302 164.72 \r\nL 167.817302 133.916 \r\n\" style=\"fill:#e23e99;stroke:#f0f0f0;stroke-width:0.5;\"/>\r\n    <path clip-path=\"url(#p2c740c725f)\" d=\"M 218.429547 133.916 \r\nL 269.041792 133.916 \r\nL 269.041792 164.72 \r\nL 218.429547 164.72 \r\nL 218.429547 133.916 \r\n\" style=\"fill:#f990b0;stroke:#f0f0f0;stroke-width:0.5;\"/>\r\n    <path clip-path=\"url(#p2c740c725f)\" d=\"M 269.041792 133.916 \r\nL 319.654037 133.916 \r\nL 319.654037 164.72 \r\nL 269.041792 164.72 \r\nL 269.041792 133.916 \r\n\" style=\"fill:#e23e99;stroke:#f0f0f0;stroke-width:0.5;\"/>\r\n    <path clip-path=\"url(#p2c740c725f)\" d=\"M 319.654037 133.916 \r\nL 370.266282 133.916 \r\nL 370.266282 164.72 \r\nL 319.654037 164.72 \r\nL 319.654037 133.916 \r\n\" style=\"fill:#f87ea9;stroke:#f0f0f0;stroke-width:0.5;\"/>\r\n    <path clip-path=\"url(#p2c740c725f)\" d=\"M 370.266282 133.916 \r\nL 420.878527 133.916 \r\nL 420.878527 164.72 \r\nL 370.266282 164.72 \r\nL 370.266282 133.916 \r\n\" style=\"fill:#f05b9e;stroke:#f0f0f0;stroke-width:0.5;\"/>\r\n    <path clip-path=\"url(#p2c740c725f)\" d=\"M 420.878527 133.916 \r\nL 471.490772 133.916 \r\nL 471.490772 164.72 \r\nL 420.878527 164.72 \r\nL 420.878527 133.916 \r\n\" style=\"fill:#f87aa7;stroke:#f0f0f0;stroke-width:0.5;\"/>\r\n    <path clip-path=\"url(#p2c740c725f)\" d=\"M 471.490772 133.916 \r\nL 522.103017 133.916 \r\nL 522.103017 164.72 \r\nL 471.490772 164.72 \r\nL 471.490772 133.916 \r\n\" style=\"fill:#f463a0;stroke:#f0f0f0;stroke-width:0.5;\"/>\r\n    <path clip-path=\"url(#p2c740c725f)\" d=\"M 522.103017 133.916 \r\nL 572.715261 133.916 \r\nL 572.715261 164.72 \r\nL 522.103017 164.72 \r\nL 522.103017 133.916 \r\n\" style=\"fill:#fa9fb5;stroke:#f0f0f0;stroke-width:0.5;\"/>\r\n    <path clip-path=\"url(#p2c740c725f)\" d=\"M 66.592813 164.72 \r\nL 117.205057 164.72 \r\nL 117.205057 195.524 \r\nL 66.592813 195.524 \r\nL 66.592813 164.72 \r\n\" style=\"fill:#9a017b;stroke:#f0f0f0;stroke-width:0.5;\"/>\r\n    <path clip-path=\"url(#p2c740c725f)\" d=\"M 117.205057 164.72 \r\nL 167.817302 164.72 \r\nL 167.817302 195.524 \r\nL 117.205057 195.524 \r\nL 117.205057 164.72 \r\n\" style=\"fill:#9a017b;stroke:#f0f0f0;stroke-width:0.5;\"/>\r\n    <path clip-path=\"url(#p2c740c725f)\" d=\"M 167.817302 164.72 \r\nL 218.429547 164.72 \r\nL 218.429547 195.524 \r\nL 167.817302 195.524 \r\nL 167.817302 164.72 \r\n\" style=\"fill:#9a017b;stroke:#f0f0f0;stroke-width:0.5;\"/>\r\n    <path clip-path=\"url(#p2c740c725f)\" d=\"M 218.429547 164.72 \r\nL 269.041792 164.72 \r\nL 269.041792 195.524 \r\nL 218.429547 195.524 \r\nL 218.429547 164.72 \r\n\" style=\"fill:#f769a1;stroke:#f0f0f0;stroke-width:0.5;\"/>\r\n    <path clip-path=\"url(#p2c740c725f)\" d=\"M 269.041792 164.72 \r\nL 319.654037 164.72 \r\nL 319.654037 195.524 \r\nL 269.041792 195.524 \r\nL 269.041792 164.72 \r\n\" style=\"fill:#9a017b;stroke:#f0f0f0;stroke-width:0.5;\"/>\r\n    <path clip-path=\"url(#p2c740c725f)\" d=\"M 319.654037 164.72 \r\nL 370.266282 164.72 \r\nL 370.266282 195.524 \r\nL 319.654037 195.524 \r\nL 319.654037 164.72 \r\n\" style=\"fill:#f05b9e;stroke:#f0f0f0;stroke-width:0.5;\"/>\r\n    <path clip-path=\"url(#p2c740c725f)\" d=\"M 370.266282 164.72 \r\nL 420.878527 164.72 \r\nL 420.878527 195.524 \r\nL 370.266282 195.524 \r\nL 370.266282 164.72 \r\n\" style=\"fill:#e7499b;stroke:#f0f0f0;stroke-width:0.5;\"/>\r\n    <path clip-path=\"url(#p2c740c725f)\" d=\"M 420.878527 164.72 \r\nL 471.490772 164.72 \r\nL 471.490772 195.524 \r\nL 420.878527 195.524 \r\nL 420.878527 164.72 \r\n\" style=\"fill:#f771a4;stroke:#f0f0f0;stroke-width:0.5;\"/>\r\n    <path clip-path=\"url(#p2c740c725f)\" d=\"M 471.490772 164.72 \r\nL 522.103017 164.72 \r\nL 522.103017 195.524 \r\nL 471.490772 195.524 \r\nL 471.490772 164.72 \r\n\" style=\"fill:#f879a7;stroke:#f0f0f0;stroke-width:0.5;\"/>\r\n    <path clip-path=\"url(#p2c740c725f)\" d=\"M 522.103017 164.72 \r\nL 572.715261 164.72 \r\nL 572.715261 195.524 \r\nL 522.103017 195.524 \r\nL 522.103017 164.72 \r\n\" style=\"fill:#f873a5;stroke:#f0f0f0;stroke-width:0.5;\"/>\r\n   </g>\r\n   <g id=\"matplotlib.axis_1\">\r\n    <g id=\"xtick_1\">\r\n     <g id=\"line2d_1\">\r\n      <defs>\r\n       <path d=\"M 0 0 \r\nL 0 3.5 \r\n\" id=\"m6a8cdd9d47\" style=\"stroke:#000000;stroke-width:0.8;\"/>\r\n      </defs>\r\n      <g>\r\n       <use style=\"stroke:#000000;stroke-width:0.8;\" x=\"91.898935\" xlink:href=\"#m6a8cdd9d47\" y=\"195.524\"/>\r\n      </g>\r\n     </g>\r\n     <g id=\"text_1\">\r\n      <!-- ' and' -->\r\n      <g transform=\"translate(86.93206 202.524)rotate(-270)scale(0.18 -0.18)\">\r\n       <defs>\r\n        <path d=\"M 1147 4666 \r\nL 1147 2931 \r\nL 616 2931 \r\nL 616 4666 \r\nL 1147 4666 \r\nz\r\n\" id=\"DejaVuSans-27\" transform=\"scale(0.015625)\"/>\r\n        <path id=\"DejaVuSans-20\" transform=\"scale(0.015625)\"/>\r\n        <path d=\"M 2194 1759 \r\nQ 1497 1759 1228 1600 \r\nQ 959 1441 959 1056 \r\nQ 959 750 1161 570 \r\nQ 1363 391 1709 391 \r\nQ 2188 391 2477 730 \r\nQ 2766 1069 2766 1631 \r\nL 2766 1759 \r\nL 2194 1759 \r\nz\r\nM 3341 1997 \r\nL 3341 0 \r\nL 2766 0 \r\nL 2766 531 \r\nQ 2569 213 2275 61 \r\nQ 1981 -91 1556 -91 \r\nQ 1019 -91 701 211 \r\nQ 384 513 384 1019 \r\nQ 384 1609 779 1909 \r\nQ 1175 2209 1959 2209 \r\nL 2766 2209 \r\nL 2766 2266 \r\nQ 2766 2663 2505 2880 \r\nQ 2244 3097 1772 3097 \r\nQ 1472 3097 1187 3025 \r\nQ 903 2953 641 2809 \r\nL 641 3341 \r\nQ 956 3463 1253 3523 \r\nQ 1550 3584 1831 3584 \r\nQ 2591 3584 2966 3190 \r\nQ 3341 2797 3341 1997 \r\nz\r\n\" id=\"DejaVuSans-61\" transform=\"scale(0.015625)\"/>\r\n        <path d=\"M 3513 2113 \r\nL 3513 0 \r\nL 2938 0 \r\nL 2938 2094 \r\nQ 2938 2591 2744 2837 \r\nQ 2550 3084 2163 3084 \r\nQ 1697 3084 1428 2787 \r\nQ 1159 2491 1159 1978 \r\nL 1159 0 \r\nL 581 0 \r\nL 581 3500 \r\nL 1159 3500 \r\nL 1159 2956 \r\nQ 1366 3272 1645 3428 \r\nQ 1925 3584 2291 3584 \r\nQ 2894 3584 3203 3211 \r\nQ 3513 2838 3513 2113 \r\nz\r\n\" id=\"DejaVuSans-6e\" transform=\"scale(0.015625)\"/>\r\n        <path d=\"M 2906 2969 \r\nL 2906 4863 \r\nL 3481 4863 \r\nL 3481 0 \r\nL 2906 0 \r\nL 2906 525 \r\nQ 2725 213 2448 61 \r\nQ 2172 -91 1784 -91 \r\nQ 1150 -91 751 415 \r\nQ 353 922 353 1747 \r\nQ 353 2572 751 3078 \r\nQ 1150 3584 1784 3584 \r\nQ 2172 3584 2448 3432 \r\nQ 2725 3281 2906 2969 \r\nz\r\nM 947 1747 \r\nQ 947 1113 1208 752 \r\nQ 1469 391 1925 391 \r\nQ 2381 391 2643 752 \r\nQ 2906 1113 2906 1747 \r\nQ 2906 2381 2643 2742 \r\nQ 2381 3103 1925 3103 \r\nQ 1469 3103 1208 2742 \r\nQ 947 2381 947 1747 \r\nz\r\n\" id=\"DejaVuSans-64\" transform=\"scale(0.015625)\"/>\r\n       </defs>\r\n       <use xlink:href=\"#DejaVuSans-27\"/>\r\n       <use x=\"27.490234\" xlink:href=\"#DejaVuSans-20\"/>\r\n       <use x=\"59.277344\" xlink:href=\"#DejaVuSans-61\"/>\r\n       <use x=\"120.556641\" xlink:href=\"#DejaVuSans-6e\"/>\r\n       <use x=\"183.935547\" xlink:href=\"#DejaVuSans-64\"/>\r\n       <use x=\"247.412109\" xlink:href=\"#DejaVuSans-27\"/>\r\n      </g>\r\n     </g>\r\n    </g>\r\n    <g id=\"xtick_2\">\r\n     <g id=\"line2d_2\">\r\n      <g>\r\n       <use style=\"stroke:#000000;stroke-width:0.8;\" x=\"142.51118\" xlink:href=\"#m6a8cdd9d47\" y=\"195.524\"/>\r\n      </g>\r\n     </g>\r\n     <g id=\"text_2\">\r\n      <!-- ' Ulster' -->\r\n      <g transform=\"translate(137.544305 202.524)rotate(-270)scale(0.18 -0.18)\">\r\n       <defs>\r\n        <path d=\"M 556 4666 \r\nL 1191 4666 \r\nL 1191 1831 \r\nQ 1191 1081 1462 751 \r\nQ 1734 422 2344 422 \r\nQ 2950 422 3222 751 \r\nQ 3494 1081 3494 1831 \r\nL 3494 4666 \r\nL 4128 4666 \r\nL 4128 1753 \r\nQ 4128 841 3676 375 \r\nQ 3225 -91 2344 -91 \r\nQ 1459 -91 1007 375 \r\nQ 556 841 556 1753 \r\nL 556 4666 \r\nz\r\n\" id=\"DejaVuSans-55\" transform=\"scale(0.015625)\"/>\r\n        <path d=\"M 603 4863 \r\nL 1178 4863 \r\nL 1178 0 \r\nL 603 0 \r\nL 603 4863 \r\nz\r\n\" id=\"DejaVuSans-6c\" transform=\"scale(0.015625)\"/>\r\n        <path d=\"M 2834 3397 \r\nL 2834 2853 \r\nQ 2591 2978 2328 3040 \r\nQ 2066 3103 1784 3103 \r\nQ 1356 3103 1142 2972 \r\nQ 928 2841 928 2578 \r\nQ 928 2378 1081 2264 \r\nQ 1234 2150 1697 2047 \r\nL 1894 2003 \r\nQ 2506 1872 2764 1633 \r\nQ 3022 1394 3022 966 \r\nQ 3022 478 2636 193 \r\nQ 2250 -91 1575 -91 \r\nQ 1294 -91 989 -36 \r\nQ 684 19 347 128 \r\nL 347 722 \r\nQ 666 556 975 473 \r\nQ 1284 391 1588 391 \r\nQ 1994 391 2212 530 \r\nQ 2431 669 2431 922 \r\nQ 2431 1156 2273 1281 \r\nQ 2116 1406 1581 1522 \r\nL 1381 1569 \r\nQ 847 1681 609 1914 \r\nQ 372 2147 372 2553 \r\nQ 372 3047 722 3315 \r\nQ 1072 3584 1716 3584 \r\nQ 2034 3584 2315 3537 \r\nQ 2597 3491 2834 3397 \r\nz\r\n\" id=\"DejaVuSans-73\" transform=\"scale(0.015625)\"/>\r\n        <path d=\"M 1172 4494 \r\nL 1172 3500 \r\nL 2356 3500 \r\nL 2356 3053 \r\nL 1172 3053 \r\nL 1172 1153 \r\nQ 1172 725 1289 603 \r\nQ 1406 481 1766 481 \r\nL 2356 481 \r\nL 2356 0 \r\nL 1766 0 \r\nQ 1100 0 847 248 \r\nQ 594 497 594 1153 \r\nL 594 3053 \r\nL 172 3053 \r\nL 172 3500 \r\nL 594 3500 \r\nL 594 4494 \r\nL 1172 4494 \r\nz\r\n\" id=\"DejaVuSans-74\" transform=\"scale(0.015625)\"/>\r\n        <path d=\"M 3597 1894 \r\nL 3597 1613 \r\nL 953 1613 \r\nQ 991 1019 1311 708 \r\nQ 1631 397 2203 397 \r\nQ 2534 397 2845 478 \r\nQ 3156 559 3463 722 \r\nL 3463 178 \r\nQ 3153 47 2828 -22 \r\nQ 2503 -91 2169 -91 \r\nQ 1331 -91 842 396 \r\nQ 353 884 353 1716 \r\nQ 353 2575 817 3079 \r\nQ 1281 3584 2069 3584 \r\nQ 2775 3584 3186 3129 \r\nQ 3597 2675 3597 1894 \r\nz\r\nM 3022 2063 \r\nQ 3016 2534 2758 2815 \r\nQ 2500 3097 2075 3097 \r\nQ 1594 3097 1305 2825 \r\nQ 1016 2553 972 2059 \r\nL 3022 2063 \r\nz\r\n\" id=\"DejaVuSans-65\" transform=\"scale(0.015625)\"/>\r\n        <path d=\"M 2631 2963 \r\nQ 2534 3019 2420 3045 \r\nQ 2306 3072 2169 3072 \r\nQ 1681 3072 1420 2755 \r\nQ 1159 2438 1159 1844 \r\nL 1159 0 \r\nL 581 0 \r\nL 581 3500 \r\nL 1159 3500 \r\nL 1159 2956 \r\nQ 1341 3275 1631 3429 \r\nQ 1922 3584 2338 3584 \r\nQ 2397 3584 2469 3576 \r\nQ 2541 3569 2628 3553 \r\nL 2631 2963 \r\nz\r\n\" id=\"DejaVuSans-72\" transform=\"scale(0.015625)\"/>\r\n       </defs>\r\n       <use xlink:href=\"#DejaVuSans-27\"/>\r\n       <use x=\"27.490234\" xlink:href=\"#DejaVuSans-20\"/>\r\n       <use x=\"59.277344\" xlink:href=\"#DejaVuSans-55\"/>\r\n       <use x=\"132.470703\" xlink:href=\"#DejaVuSans-6c\"/>\r\n       <use x=\"160.253906\" xlink:href=\"#DejaVuSans-73\"/>\r\n       <use x=\"212.353516\" xlink:href=\"#DejaVuSans-74\"/>\r\n       <use x=\"251.5625\" xlink:href=\"#DejaVuSans-65\"/>\r\n       <use x=\"313.085938\" xlink:href=\"#DejaVuSans-72\"/>\r\n       <use x=\"354.199219\" xlink:href=\"#DejaVuSans-27\"/>\r\n      </g>\r\n     </g>\r\n    </g>\r\n    <g id=\"xtick_3\">\r\n     <g id=\"line2d_3\">\r\n      <g>\r\n       <use style=\"stroke:#000000;stroke-width:0.8;\" x=\"193.123425\" xlink:href=\"#m6a8cdd9d47\" y=\"195.524\"/>\r\n      </g>\r\n     </g>\r\n     <g id=\"text_3\">\r\n      <!-- '.' -->\r\n      <g transform=\"translate(188.15655 202.524)rotate(-270)scale(0.18 -0.18)\">\r\n       <defs>\r\n        <path d=\"M 684 794 \r\nL 1344 794 \r\nL 1344 0 \r\nL 684 0 \r\nL 684 794 \r\nz\r\n\" id=\"DejaVuSans-2e\" transform=\"scale(0.015625)\"/>\r\n       </defs>\r\n       <use xlink:href=\"#DejaVuSans-27\"/>\r\n       <use x=\"27.490234\" xlink:href=\"#DejaVuSans-2e\"/>\r\n       <use x=\"59.277344\" xlink:href=\"#DejaVuSans-27\"/>\r\n      </g>\r\n     </g>\r\n    </g>\r\n    <g id=\"xtick_4\">\r\n     <g id=\"line2d_4\">\r\n      <g>\r\n       <use style=\"stroke:#000000;stroke-width:0.8;\" x=\"243.73567\" xlink:href=\"#m6a8cdd9d47\" y=\"195.524\"/>\r\n      </g>\r\n     </g>\r\n     <g id=\"text_4\">\r\n      <!-- ' There' -->\r\n      <g transform=\"translate(238.768795 202.524)rotate(-270)scale(0.18 -0.18)\">\r\n       <defs>\r\n        <path d=\"M -19 4666 \r\nL 3928 4666 \r\nL 3928 4134 \r\nL 2272 4134 \r\nL 2272 0 \r\nL 1638 0 \r\nL 1638 4134 \r\nL -19 4134 \r\nL -19 4666 \r\nz\r\n\" id=\"DejaVuSans-54\" transform=\"scale(0.015625)\"/>\r\n        <path d=\"M 3513 2113 \r\nL 3513 0 \r\nL 2938 0 \r\nL 2938 2094 \r\nQ 2938 2591 2744 2837 \r\nQ 2550 3084 2163 3084 \r\nQ 1697 3084 1428 2787 \r\nQ 1159 2491 1159 1978 \r\nL 1159 0 \r\nL 581 0 \r\nL 581 4863 \r\nL 1159 4863 \r\nL 1159 2956 \r\nQ 1366 3272 1645 3428 \r\nQ 1925 3584 2291 3584 \r\nQ 2894 3584 3203 3211 \r\nQ 3513 2838 3513 2113 \r\nz\r\n\" id=\"DejaVuSans-68\" transform=\"scale(0.015625)\"/>\r\n       </defs>\r\n       <use xlink:href=\"#DejaVuSans-27\"/>\r\n       <use x=\"27.490234\" xlink:href=\"#DejaVuSans-20\"/>\r\n       <use x=\"59.277344\" xlink:href=\"#DejaVuSans-54\"/>\r\n       <use x=\"120.361328\" xlink:href=\"#DejaVuSans-68\"/>\r\n       <use x=\"183.740234\" xlink:href=\"#DejaVuSans-65\"/>\r\n       <use x=\"245.263672\" xlink:href=\"#DejaVuSans-72\"/>\r\n       <use x=\"284.126953\" xlink:href=\"#DejaVuSans-65\"/>\r\n       <use x=\"345.650391\" xlink:href=\"#DejaVuSans-27\"/>\r\n      </g>\r\n     </g>\r\n    </g>\r\n    <g id=\"xtick_5\">\r\n     <g id=\"line2d_5\">\r\n      <g>\r\n       <use style=\"stroke:#000000;stroke-width:0.8;\" x=\"294.347915\" xlink:href=\"#m6a8cdd9d47\" y=\"195.524\"/>\r\n      </g>\r\n     </g>\r\n     <g id=\"text_5\">\r\n      <!-- ' are' -->\r\n      <g transform=\"translate(289.38104 202.524)rotate(-270)scale(0.18 -0.18)\">\r\n       <use xlink:href=\"#DejaVuSans-27\"/>\r\n       <use x=\"27.490234\" xlink:href=\"#DejaVuSans-20\"/>\r\n       <use x=\"59.277344\" xlink:href=\"#DejaVuSans-61\"/>\r\n       <use x=\"120.556641\" xlink:href=\"#DejaVuSans-72\"/>\r\n       <use x=\"159.419922\" xlink:href=\"#DejaVuSans-65\"/>\r\n       <use x=\"220.943359\" xlink:href=\"#DejaVuSans-27\"/>\r\n      </g>\r\n     </g>\r\n    </g>\r\n    <g id=\"xtick_6\">\r\n     <g id=\"line2d_6\">\r\n      <g>\r\n       <use style=\"stroke:#000000;stroke-width:0.8;\" x=\"344.960159\" xlink:href=\"#m6a8cdd9d47\" y=\"195.524\"/>\r\n      </g>\r\n     </g>\r\n     <g id=\"text_6\">\r\n      <!-- ' five' -->\r\n      <g transform=\"translate(339.993284 202.524)rotate(-270)scale(0.18 -0.18)\">\r\n       <defs>\r\n        <path d=\"M 2375 4863 \r\nL 2375 4384 \r\nL 1825 4384 \r\nQ 1516 4384 1395 4259 \r\nQ 1275 4134 1275 3809 \r\nL 1275 3500 \r\nL 2222 3500 \r\nL 2222 3053 \r\nL 1275 3053 \r\nL 1275 0 \r\nL 697 0 \r\nL 697 3053 \r\nL 147 3053 \r\nL 147 3500 \r\nL 697 3500 \r\nL 697 3744 \r\nQ 697 4328 969 4595 \r\nQ 1241 4863 1831 4863 \r\nL 2375 4863 \r\nz\r\n\" id=\"DejaVuSans-66\" transform=\"scale(0.015625)\"/>\r\n        <path d=\"M 603 3500 \r\nL 1178 3500 \r\nL 1178 0 \r\nL 603 0 \r\nL 603 3500 \r\nz\r\nM 603 4863 \r\nL 1178 4863 \r\nL 1178 4134 \r\nL 603 4134 \r\nL 603 4863 \r\nz\r\n\" id=\"DejaVuSans-69\" transform=\"scale(0.015625)\"/>\r\n        <path d=\"M 191 3500 \r\nL 800 3500 \r\nL 1894 563 \r\nL 2988 3500 \r\nL 3597 3500 \r\nL 2284 0 \r\nL 1503 0 \r\nL 191 3500 \r\nz\r\n\" id=\"DejaVuSans-76\" transform=\"scale(0.015625)\"/>\r\n       </defs>\r\n       <use xlink:href=\"#DejaVuSans-27\"/>\r\n       <use x=\"27.490234\" xlink:href=\"#DejaVuSans-20\"/>\r\n       <use x=\"59.277344\" xlink:href=\"#DejaVuSans-66\"/>\r\n       <use x=\"94.482422\" xlink:href=\"#DejaVuSans-69\"/>\r\n       <use x=\"122.265625\" xlink:href=\"#DejaVuSans-76\"/>\r\n       <use x=\"181.445312\" xlink:href=\"#DejaVuSans-65\"/>\r\n       <use x=\"242.96875\" xlink:href=\"#DejaVuSans-27\"/>\r\n      </g>\r\n     </g>\r\n    </g>\r\n    <g id=\"xtick_7\">\r\n     <g id=\"line2d_7\">\r\n      <g>\r\n       <use style=\"stroke:#000000;stroke-width:0.8;\" x=\"395.572404\" xlink:href=\"#m6a8cdd9d47\" y=\"195.524\"/>\r\n      </g>\r\n     </g>\r\n     <g id=\"text_7\">\r\n      <!-- ' other' -->\r\n      <g transform=\"translate(390.605529 202.524)rotate(-270)scale(0.18 -0.18)\">\r\n       <defs>\r\n        <path d=\"M 1959 3097 \r\nQ 1497 3097 1228 2736 \r\nQ 959 2375 959 1747 \r\nQ 959 1119 1226 758 \r\nQ 1494 397 1959 397 \r\nQ 2419 397 2687 759 \r\nQ 2956 1122 2956 1747 \r\nQ 2956 2369 2687 2733 \r\nQ 2419 3097 1959 3097 \r\nz\r\nM 1959 3584 \r\nQ 2709 3584 3137 3096 \r\nQ 3566 2609 3566 1747 \r\nQ 3566 888 3137 398 \r\nQ 2709 -91 1959 -91 \r\nQ 1206 -91 779 398 \r\nQ 353 888 353 1747 \r\nQ 353 2609 779 3096 \r\nQ 1206 3584 1959 3584 \r\nz\r\n\" id=\"DejaVuSans-6f\" transform=\"scale(0.015625)\"/>\r\n       </defs>\r\n       <use xlink:href=\"#DejaVuSans-27\"/>\r\n       <use x=\"27.490234\" xlink:href=\"#DejaVuSans-20\"/>\r\n       <use x=\"59.277344\" xlink:href=\"#DejaVuSans-6f\"/>\r\n       <use x=\"120.458984\" xlink:href=\"#DejaVuSans-74\"/>\r\n       <use x=\"159.667969\" xlink:href=\"#DejaVuSans-68\"/>\r\n       <use x=\"223.046875\" xlink:href=\"#DejaVuSans-65\"/>\r\n       <use x=\"284.570312\" xlink:href=\"#DejaVuSans-72\"/>\r\n       <use x=\"325.683594\" xlink:href=\"#DejaVuSans-27\"/>\r\n      </g>\r\n     </g>\r\n    </g>\r\n    <g id=\"xtick_8\">\r\n     <g id=\"line2d_8\">\r\n      <g>\r\n       <use style=\"stroke:#000000;stroke-width:0.8;\" x=\"446.184649\" xlink:href=\"#m6a8cdd9d47\" y=\"195.524\"/>\r\n      </g>\r\n     </g>\r\n     <g id=\"text_8\">\r\n      <!-- ' three' -->\r\n      <g transform=\"translate(441.217774 202.524)rotate(-270)scale(0.18 -0.18)\">\r\n       <use xlink:href=\"#DejaVuSans-27\"/>\r\n       <use x=\"27.490234\" xlink:href=\"#DejaVuSans-20\"/>\r\n       <use x=\"59.277344\" xlink:href=\"#DejaVuSans-74\"/>\r\n       <use x=\"98.486328\" xlink:href=\"#DejaVuSans-68\"/>\r\n       <use x=\"161.865234\" xlink:href=\"#DejaVuSans-72\"/>\r\n       <use x=\"200.728516\" xlink:href=\"#DejaVuSans-65\"/>\r\n       <use x=\"262.251953\" xlink:href=\"#DejaVuSans-65\"/>\r\n       <use x=\"323.775391\" xlink:href=\"#DejaVuSans-27\"/>\r\n      </g>\r\n     </g>\r\n    </g>\r\n    <g id=\"xtick_9\">\r\n     <g id=\"line2d_9\">\r\n      <g>\r\n       <use style=\"stroke:#000000;stroke-width:0.8;\" x=\"496.796894\" xlink:href=\"#m6a8cdd9d47\" y=\"195.524\"/>\r\n      </g>\r\n     </g>\r\n     <g id=\"text_9\">\r\n      <!-- ' (' -->\r\n      <g transform=\"translate(491.830019 202.524)rotate(-270)scale(0.18 -0.18)\">\r\n       <defs>\r\n        <path d=\"M 1984 4856 \r\nQ 1566 4138 1362 3434 \r\nQ 1159 2731 1159 2009 \r\nQ 1159 1288 1364 580 \r\nQ 1569 -128 1984 -844 \r\nL 1484 -844 \r\nQ 1016 -109 783 600 \r\nQ 550 1309 550 2009 \r\nQ 550 2706 781 3412 \r\nQ 1013 4119 1484 4856 \r\nL 1984 4856 \r\nz\r\n\" id=\"DejaVuSans-28\" transform=\"scale(0.015625)\"/>\r\n       </defs>\r\n       <use xlink:href=\"#DejaVuSans-27\"/>\r\n       <use x=\"27.490234\" xlink:href=\"#DejaVuSans-20\"/>\r\n       <use x=\"59.277344\" xlink:href=\"#DejaVuSans-28\"/>\r\n       <use x=\"98.291016\" xlink:href=\"#DejaVuSans-27\"/>\r\n      </g>\r\n     </g>\r\n    </g>\r\n    <g id=\"xtick_10\">\r\n     <g id=\"line2d_10\">\r\n      <g>\r\n       <use style=\"stroke:#000000;stroke-width:0.8;\" x=\"547.409139\" xlink:href=\"#m6a8cdd9d47\" y=\"195.524\"/>\r\n      </g>\r\n     </g>\r\n     <g id=\"text_10\">\r\n      <!-- 'T' -->\r\n      <g transform=\"translate(542.442264 202.524)rotate(-270)scale(0.18 -0.18)\">\r\n       <use xlink:href=\"#DejaVuSans-27\"/>\r\n       <use x=\"27.490234\" xlink:href=\"#DejaVuSans-54\"/>\r\n       <use x=\"88.574219\" xlink:href=\"#DejaVuSans-27\"/>\r\n      </g>\r\n     </g>\r\n    </g>\r\n    <g id=\"text_11\">\r\n     <!-- Output Token -->\r\n     <g transform=\"translate(273.202474 285.859938)scale(0.14 -0.14)\">\r\n      <defs>\r\n       <path d=\"M 2522 4238 \r\nQ 1834 4238 1429 3725 \r\nQ 1025 3213 1025 2328 \r\nQ 1025 1447 1429 934 \r\nQ 1834 422 2522 422 \r\nQ 3209 422 3611 934 \r\nQ 4013 1447 4013 2328 \r\nQ 4013 3213 3611 3725 \r\nQ 3209 4238 2522 4238 \r\nz\r\nM 2522 4750 \r\nQ 3503 4750 4090 4092 \r\nQ 4678 3434 4678 2328 \r\nQ 4678 1225 4090 567 \r\nQ 3503 -91 2522 -91 \r\nQ 1538 -91 948 565 \r\nQ 359 1222 359 2328 \r\nQ 359 3434 948 4092 \r\nQ 1538 4750 2522 4750 \r\nz\r\n\" id=\"DejaVuSans-4f\" transform=\"scale(0.015625)\"/>\r\n       <path d=\"M 544 1381 \r\nL 544 3500 \r\nL 1119 3500 \r\nL 1119 1403 \r\nQ 1119 906 1312 657 \r\nQ 1506 409 1894 409 \r\nQ 2359 409 2629 706 \r\nQ 2900 1003 2900 1516 \r\nL 2900 3500 \r\nL 3475 3500 \r\nL 3475 0 \r\nL 2900 0 \r\nL 2900 538 \r\nQ 2691 219 2414 64 \r\nQ 2138 -91 1772 -91 \r\nQ 1169 -91 856 284 \r\nQ 544 659 544 1381 \r\nz\r\nM 1991 3584 \r\nL 1991 3584 \r\nz\r\n\" id=\"DejaVuSans-75\" transform=\"scale(0.015625)\"/>\r\n       <path d=\"M 1159 525 \r\nL 1159 -1331 \r\nL 581 -1331 \r\nL 581 3500 \r\nL 1159 3500 \r\nL 1159 2969 \r\nQ 1341 3281 1617 3432 \r\nQ 1894 3584 2278 3584 \r\nQ 2916 3584 3314 3078 \r\nQ 3713 2572 3713 1747 \r\nQ 3713 922 3314 415 \r\nQ 2916 -91 2278 -91 \r\nQ 1894 -91 1617 61 \r\nQ 1341 213 1159 525 \r\nz\r\nM 3116 1747 \r\nQ 3116 2381 2855 2742 \r\nQ 2594 3103 2138 3103 \r\nQ 1681 3103 1420 2742 \r\nQ 1159 2381 1159 1747 \r\nQ 1159 1113 1420 752 \r\nQ 1681 391 2138 391 \r\nQ 2594 391 2855 752 \r\nQ 3116 1113 3116 1747 \r\nz\r\n\" id=\"DejaVuSans-70\" transform=\"scale(0.015625)\"/>\r\n       <path d=\"M 581 4863 \r\nL 1159 4863 \r\nL 1159 1991 \r\nL 2875 3500 \r\nL 3609 3500 \r\nL 1753 1863 \r\nL 3688 0 \r\nL 2938 0 \r\nL 1159 1709 \r\nL 1159 0 \r\nL 581 0 \r\nL 581 4863 \r\nz\r\n\" id=\"DejaVuSans-6b\" transform=\"scale(0.015625)\"/>\r\n      </defs>\r\n      <use xlink:href=\"#DejaVuSans-4f\"/>\r\n      <use x=\"78.710938\" xlink:href=\"#DejaVuSans-75\"/>\r\n      <use x=\"142.089844\" xlink:href=\"#DejaVuSans-74\"/>\r\n      <use x=\"181.298828\" xlink:href=\"#DejaVuSans-70\"/>\r\n      <use x=\"244.775391\" xlink:href=\"#DejaVuSans-75\"/>\r\n      <use x=\"308.154297\" xlink:href=\"#DejaVuSans-74\"/>\r\n      <use x=\"347.363281\" xlink:href=\"#DejaVuSans-20\"/>\r\n      <use x=\"379.150391\" xlink:href=\"#DejaVuSans-54\"/>\r\n      <use x=\"423.234375\" xlink:href=\"#DejaVuSans-6f\"/>\r\n      <use x=\"484.416016\" xlink:href=\"#DejaVuSans-6b\"/>\r\n      <use x=\"538.701172\" xlink:href=\"#DejaVuSans-65\"/>\r\n      <use x=\"600.224609\" xlink:href=\"#DejaVuSans-6e\"/>\r\n     </g>\r\n    </g>\r\n   </g>\r\n   <g id=\"matplotlib.axis_2\">\r\n    <g id=\"ytick_1\">\r\n     <g id=\"line2d_11\">\r\n      <defs>\r\n       <path d=\"M 0 0 \r\nL -3.5 0 \r\n\" id=\"m064b5a8c2a\" style=\"stroke:#000000;stroke-width:0.8;\"/>\r\n      </defs>\r\n      <g>\r\n       <use style=\"stroke:#000000;stroke-width:0.8;\" x=\"66.592813\" xlink:href=\"#m064b5a8c2a\" y=\"26.102\"/>\r\n      </g>\r\n     </g>\r\n     <g id=\"text_12\">\r\n      <!-- Layer 0 -->\r\n      <g transform=\"translate(7.2 31.420906)scale(0.14 -0.14)\">\r\n       <defs>\r\n        <path d=\"M 628 4666 \r\nL 1259 4666 \r\nL 1259 531 \r\nL 3531 531 \r\nL 3531 0 \r\nL 628 0 \r\nL 628 4666 \r\nz\r\n\" id=\"DejaVuSans-4c\" transform=\"scale(0.015625)\"/>\r\n        <path d=\"M 2059 -325 \r\nQ 1816 -950 1584 -1140 \r\nQ 1353 -1331 966 -1331 \r\nL 506 -1331 \r\nL 506 -850 \r\nL 844 -850 \r\nQ 1081 -850 1212 -737 \r\nQ 1344 -625 1503 -206 \r\nL 1606 56 \r\nL 191 3500 \r\nL 800 3500 \r\nL 1894 763 \r\nL 2988 3500 \r\nL 3597 3500 \r\nL 2059 -325 \r\nz\r\n\" id=\"DejaVuSans-79\" transform=\"scale(0.015625)\"/>\r\n        <path d=\"M 2034 4250 \r\nQ 1547 4250 1301 3770 \r\nQ 1056 3291 1056 2328 \r\nQ 1056 1369 1301 889 \r\nQ 1547 409 2034 409 \r\nQ 2525 409 2770 889 \r\nQ 3016 1369 3016 2328 \r\nQ 3016 3291 2770 3770 \r\nQ 2525 4250 2034 4250 \r\nz\r\nM 2034 4750 \r\nQ 2819 4750 3233 4129 \r\nQ 3647 3509 3647 2328 \r\nQ 3647 1150 3233 529 \r\nQ 2819 -91 2034 -91 \r\nQ 1250 -91 836 529 \r\nQ 422 1150 422 2328 \r\nQ 422 3509 836 4129 \r\nQ 1250 4750 2034 4750 \r\nz\r\n\" id=\"DejaVuSans-30\" transform=\"scale(0.015625)\"/>\r\n       </defs>\r\n       <use xlink:href=\"#DejaVuSans-4c\"/>\r\n       <use x=\"55.712891\" xlink:href=\"#DejaVuSans-61\"/>\r\n       <use x=\"116.992188\" xlink:href=\"#DejaVuSans-79\"/>\r\n       <use x=\"176.171875\" xlink:href=\"#DejaVuSans-65\"/>\r\n       <use x=\"237.695312\" xlink:href=\"#DejaVuSans-72\"/>\r\n       <use x=\"278.808594\" xlink:href=\"#DejaVuSans-20\"/>\r\n       <use x=\"310.595703\" xlink:href=\"#DejaVuSans-30\"/>\r\n      </g>\r\n     </g>\r\n    </g>\r\n    <g id=\"ytick_2\">\r\n     <g id=\"line2d_12\">\r\n      <g>\r\n       <use style=\"stroke:#000000;stroke-width:0.8;\" x=\"66.592813\" xlink:href=\"#m064b5a8c2a\" y=\"56.906\"/>\r\n      </g>\r\n     </g>\r\n     <g id=\"text_13\">\r\n      <!-- Layer 1 -->\r\n      <g transform=\"translate(7.2 62.224906)scale(0.14 -0.14)\">\r\n       <defs>\r\n        <path d=\"M 794 531 \r\nL 1825 531 \r\nL 1825 4091 \r\nL 703 3866 \r\nL 703 4441 \r\nL 1819 4666 \r\nL 2450 4666 \r\nL 2450 531 \r\nL 3481 531 \r\nL 3481 0 \r\nL 794 0 \r\nL 794 531 \r\nz\r\n\" id=\"DejaVuSans-31\" transform=\"scale(0.015625)\"/>\r\n       </defs>\r\n       <use xlink:href=\"#DejaVuSans-4c\"/>\r\n       <use x=\"55.712891\" xlink:href=\"#DejaVuSans-61\"/>\r\n       <use x=\"116.992188\" xlink:href=\"#DejaVuSans-79\"/>\r\n       <use x=\"176.171875\" xlink:href=\"#DejaVuSans-65\"/>\r\n       <use x=\"237.695312\" xlink:href=\"#DejaVuSans-72\"/>\r\n       <use x=\"278.808594\" xlink:href=\"#DejaVuSans-20\"/>\r\n       <use x=\"310.595703\" xlink:href=\"#DejaVuSans-31\"/>\r\n      </g>\r\n     </g>\r\n    </g>\r\n    <g id=\"ytick_3\">\r\n     <g id=\"line2d_13\">\r\n      <g>\r\n       <use style=\"stroke:#000000;stroke-width:0.8;\" x=\"66.592813\" xlink:href=\"#m064b5a8c2a\" y=\"87.71\"/>\r\n      </g>\r\n     </g>\r\n     <g id=\"text_14\">\r\n      <!-- Layer 2 -->\r\n      <g transform=\"translate(7.2 93.028906)scale(0.14 -0.14)\">\r\n       <defs>\r\n        <path d=\"M 1228 531 \r\nL 3431 531 \r\nL 3431 0 \r\nL 469 0 \r\nL 469 531 \r\nQ 828 903 1448 1529 \r\nQ 2069 2156 2228 2338 \r\nQ 2531 2678 2651 2914 \r\nQ 2772 3150 2772 3378 \r\nQ 2772 3750 2511 3984 \r\nQ 2250 4219 1831 4219 \r\nQ 1534 4219 1204 4116 \r\nQ 875 4013 500 3803 \r\nL 500 4441 \r\nQ 881 4594 1212 4672 \r\nQ 1544 4750 1819 4750 \r\nQ 2544 4750 2975 4387 \r\nQ 3406 4025 3406 3419 \r\nQ 3406 3131 3298 2873 \r\nQ 3191 2616 2906 2266 \r\nQ 2828 2175 2409 1742 \r\nQ 1991 1309 1228 531 \r\nz\r\n\" id=\"DejaVuSans-32\" transform=\"scale(0.015625)\"/>\r\n       </defs>\r\n       <use xlink:href=\"#DejaVuSans-4c\"/>\r\n       <use x=\"55.712891\" xlink:href=\"#DejaVuSans-61\"/>\r\n       <use x=\"116.992188\" xlink:href=\"#DejaVuSans-79\"/>\r\n       <use x=\"176.171875\" xlink:href=\"#DejaVuSans-65\"/>\r\n       <use x=\"237.695312\" xlink:href=\"#DejaVuSans-72\"/>\r\n       <use x=\"278.808594\" xlink:href=\"#DejaVuSans-20\"/>\r\n       <use x=\"310.595703\" xlink:href=\"#DejaVuSans-32\"/>\r\n      </g>\r\n     </g>\r\n    </g>\r\n    <g id=\"ytick_4\">\r\n     <g id=\"line2d_14\">\r\n      <g>\r\n       <use style=\"stroke:#000000;stroke-width:0.8;\" x=\"66.592813\" xlink:href=\"#m064b5a8c2a\" y=\"118.514\"/>\r\n      </g>\r\n     </g>\r\n     <g id=\"text_15\">\r\n      <!-- Layer 3 -->\r\n      <g transform=\"translate(7.2 123.832906)scale(0.14 -0.14)\">\r\n       <defs>\r\n        <path d=\"M 2597 2516 \r\nQ 3050 2419 3304 2112 \r\nQ 3559 1806 3559 1356 \r\nQ 3559 666 3084 287 \r\nQ 2609 -91 1734 -91 \r\nQ 1441 -91 1130 -33 \r\nQ 819 25 488 141 \r\nL 488 750 \r\nQ 750 597 1062 519 \r\nQ 1375 441 1716 441 \r\nQ 2309 441 2620 675 \r\nQ 2931 909 2931 1356 \r\nQ 2931 1769 2642 2001 \r\nQ 2353 2234 1838 2234 \r\nL 1294 2234 \r\nL 1294 2753 \r\nL 1863 2753 \r\nQ 2328 2753 2575 2939 \r\nQ 2822 3125 2822 3475 \r\nQ 2822 3834 2567 4026 \r\nQ 2313 4219 1838 4219 \r\nQ 1578 4219 1281 4162 \r\nQ 984 4106 628 3988 \r\nL 628 4550 \r\nQ 988 4650 1302 4700 \r\nQ 1616 4750 1894 4750 \r\nQ 2613 4750 3031 4423 \r\nQ 3450 4097 3450 3541 \r\nQ 3450 3153 3228 2886 \r\nQ 3006 2619 2597 2516 \r\nz\r\n\" id=\"DejaVuSans-33\" transform=\"scale(0.015625)\"/>\r\n       </defs>\r\n       <use xlink:href=\"#DejaVuSans-4c\"/>\r\n       <use x=\"55.712891\" xlink:href=\"#DejaVuSans-61\"/>\r\n       <use x=\"116.992188\" xlink:href=\"#DejaVuSans-79\"/>\r\n       <use x=\"176.171875\" xlink:href=\"#DejaVuSans-65\"/>\r\n       <use x=\"237.695312\" xlink:href=\"#DejaVuSans-72\"/>\r\n       <use x=\"278.808594\" xlink:href=\"#DejaVuSans-20\"/>\r\n       <use x=\"310.595703\" xlink:href=\"#DejaVuSans-33\"/>\r\n      </g>\r\n     </g>\r\n    </g>\r\n    <g id=\"ytick_5\">\r\n     <g id=\"line2d_15\">\r\n      <g>\r\n       <use style=\"stroke:#000000;stroke-width:0.8;\" x=\"66.592813\" xlink:href=\"#m064b5a8c2a\" y=\"149.318\"/>\r\n      </g>\r\n     </g>\r\n     <g id=\"text_16\">\r\n      <!-- Layer 4 -->\r\n      <g transform=\"translate(7.2 154.636906)scale(0.14 -0.14)\">\r\n       <defs>\r\n        <path d=\"M 2419 4116 \r\nL 825 1625 \r\nL 2419 1625 \r\nL 2419 4116 \r\nz\r\nM 2253 4666 \r\nL 3047 4666 \r\nL 3047 1625 \r\nL 3713 1625 \r\nL 3713 1100 \r\nL 3047 1100 \r\nL 3047 0 \r\nL 2419 0 \r\nL 2419 1100 \r\nL 313 1100 \r\nL 313 1709 \r\nL 2253 4666 \r\nz\r\n\" id=\"DejaVuSans-34\" transform=\"scale(0.015625)\"/>\r\n       </defs>\r\n       <use xlink:href=\"#DejaVuSans-4c\"/>\r\n       <use x=\"55.712891\" xlink:href=\"#DejaVuSans-61\"/>\r\n       <use x=\"116.992188\" xlink:href=\"#DejaVuSans-79\"/>\r\n       <use x=\"176.171875\" xlink:href=\"#DejaVuSans-65\"/>\r\n       <use x=\"237.695312\" xlink:href=\"#DejaVuSans-72\"/>\r\n       <use x=\"278.808594\" xlink:href=\"#DejaVuSans-20\"/>\r\n       <use x=\"310.595703\" xlink:href=\"#DejaVuSans-34\"/>\r\n      </g>\r\n     </g>\r\n    </g>\r\n    <g id=\"ytick_6\">\r\n     <g id=\"line2d_16\">\r\n      <g>\r\n       <use style=\"stroke:#000000;stroke-width:0.8;\" x=\"66.592813\" xlink:href=\"#m064b5a8c2a\" y=\"180.122\"/>\r\n      </g>\r\n     </g>\r\n     <g id=\"text_17\">\r\n      <!-- Layer 5 -->\r\n      <g transform=\"translate(7.2 185.440906)scale(0.14 -0.14)\">\r\n       <defs>\r\n        <path d=\"M 691 4666 \r\nL 3169 4666 \r\nL 3169 4134 \r\nL 1269 4134 \r\nL 1269 2991 \r\nQ 1406 3038 1543 3061 \r\nQ 1681 3084 1819 3084 \r\nQ 2600 3084 3056 2656 \r\nQ 3513 2228 3513 1497 \r\nQ 3513 744 3044 326 \r\nQ 2575 -91 1722 -91 \r\nQ 1428 -91 1123 -41 \r\nQ 819 9 494 109 \r\nL 494 744 \r\nQ 775 591 1075 516 \r\nQ 1375 441 1709 441 \r\nQ 2250 441 2565 725 \r\nQ 2881 1009 2881 1497 \r\nQ 2881 1984 2565 2268 \r\nQ 2250 2553 1709 2553 \r\nQ 1456 2553 1204 2497 \r\nQ 953 2441 691 2322 \r\nL 691 4666 \r\nz\r\n\" id=\"DejaVuSans-35\" transform=\"scale(0.015625)\"/>\r\n       </defs>\r\n       <use xlink:href=\"#DejaVuSans-4c\"/>\r\n       <use x=\"55.712891\" xlink:href=\"#DejaVuSans-61\"/>\r\n       <use x=\"116.992188\" xlink:href=\"#DejaVuSans-79\"/>\r\n       <use x=\"176.171875\" xlink:href=\"#DejaVuSans-65\"/>\r\n       <use x=\"237.695312\" xlink:href=\"#DejaVuSans-72\"/>\r\n       <use x=\"278.808594\" xlink:href=\"#DejaVuSans-20\"/>\r\n       <use x=\"310.595703\" xlink:href=\"#DejaVuSans-35\"/>\r\n      </g>\r\n     </g>\r\n    </g>\r\n   </g>\r\n   <g id=\"text_18\">\r\n    <!-- 2 -->\r\n    <g style=\"fill:#ffffff;\" transform=\"translate(88.081435 29.41325)scale(0.12 -0.12)\">\r\n     <use xlink:href=\"#DejaVuSans-32\"/>\r\n    </g>\r\n   </g>\r\n   <g id=\"text_19\">\r\n    <!-- 37247 -->\r\n    <g style=\"fill:#262626;\" transform=\"translate(123.42368 29.41325)scale(0.12 -0.12)\">\r\n     <defs>\r\n      <path d=\"M 525 4666 \r\nL 3525 4666 \r\nL 3525 4397 \r\nL 1831 0 \r\nL 1172 0 \r\nL 2766 4134 \r\nL 525 4134 \r\nL 525 4666 \r\nz\r\n\" id=\"DejaVuSans-37\" transform=\"scale(0.015625)\"/>\r\n     </defs>\r\n     <use xlink:href=\"#DejaVuSans-33\"/>\r\n     <use x=\"63.623047\" xlink:href=\"#DejaVuSans-37\"/>\r\n     <use x=\"127.246094\" xlink:href=\"#DejaVuSans-32\"/>\r\n     <use x=\"190.869141\" xlink:href=\"#DejaVuSans-34\"/>\r\n     <use x=\"254.492188\" xlink:href=\"#DejaVuSans-37\"/>\r\n    </g>\r\n   </g>\r\n   <g id=\"text_20\">\r\n    <!-- 4 -->\r\n    <g style=\"fill:#ffffff;\" transform=\"translate(189.305925 29.41325)scale(0.12 -0.12)\">\r\n     <use xlink:href=\"#DejaVuSans-34\"/>\r\n    </g>\r\n   </g>\r\n   <g id=\"text_21\">\r\n    <!-- 43 -->\r\n    <g style=\"fill:#262626;\" transform=\"translate(236.10067 29.41325)scale(0.12 -0.12)\">\r\n     <use xlink:href=\"#DejaVuSans-34\"/>\r\n     <use x=\"63.623047\" xlink:href=\"#DejaVuSans-33\"/>\r\n    </g>\r\n   </g>\r\n   <g id=\"text_22\">\r\n    <!-- 7 -->\r\n    <g style=\"fill:#ffffff;\" transform=\"translate(290.530415 29.41325)scale(0.12 -0.12)\">\r\n     <use xlink:href=\"#DejaVuSans-37\"/>\r\n    </g>\r\n   </g>\r\n   <g id=\"text_23\">\r\n    <!-- 123 -->\r\n    <g style=\"fill:#262626;\" transform=\"translate(333.507659 29.41325)scale(0.12 -0.12)\">\r\n     <use xlink:href=\"#DejaVuSans-31\"/>\r\n     <use x=\"63.623047\" xlink:href=\"#DejaVuSans-32\"/>\r\n     <use x=\"127.246094\" xlink:href=\"#DejaVuSans-33\"/>\r\n    </g>\r\n   </g>\r\n   <g id=\"text_24\">\r\n    <!-- 14 -->\r\n    <g style=\"fill:#ffffff;\" transform=\"translate(387.937404 29.41325)scale(0.12 -0.12)\">\r\n     <use xlink:href=\"#DejaVuSans-31\"/>\r\n     <use x=\"63.623047\" xlink:href=\"#DejaVuSans-34\"/>\r\n    </g>\r\n   </g>\r\n   <g id=\"text_25\">\r\n    <!-- 17 -->\r\n    <g style=\"fill:#ffffff;\" transform=\"translate(438.549649 29.41325)scale(0.12 -0.12)\">\r\n     <use xlink:href=\"#DejaVuSans-31\"/>\r\n     <use x=\"63.623047\" xlink:href=\"#DejaVuSans-37\"/>\r\n    </g>\r\n   </g>\r\n   <g id=\"text_26\">\r\n    <!-- 33 -->\r\n    <g style=\"fill:#262626;\" transform=\"translate(489.161894 29.41325)scale(0.12 -0.12)\">\r\n     <use xlink:href=\"#DejaVuSans-33\"/>\r\n     <use x=\"63.623047\" xlink:href=\"#DejaVuSans-33\"/>\r\n    </g>\r\n   </g>\r\n   <g id=\"text_27\">\r\n    <!-- 110 -->\r\n    <g style=\"fill:#262626;\" transform=\"translate(535.956639 29.41325)scale(0.12 -0.12)\">\r\n     <use xlink:href=\"#DejaVuSans-31\"/>\r\n     <use x=\"63.623047\" xlink:href=\"#DejaVuSans-31\"/>\r\n     <use x=\"127.246094\" xlink:href=\"#DejaVuSans-30\"/>\r\n    </g>\r\n   </g>\r\n   <g id=\"text_28\">\r\n    <!-- 2 -->\r\n    <g style=\"fill:#ffffff;\" transform=\"translate(88.081435 60.21725)scale(0.12 -0.12)\">\r\n     <use xlink:href=\"#DejaVuSans-32\"/>\r\n    </g>\r\n   </g>\r\n   <g id=\"text_29\">\r\n    <!-- 28941 -->\r\n    <g style=\"fill:#262626;\" transform=\"translate(123.42368 60.21725)scale(0.12 -0.12)\">\r\n     <defs>\r\n      <path d=\"M 2034 2216 \r\nQ 1584 2216 1326 1975 \r\nQ 1069 1734 1069 1313 \r\nQ 1069 891 1326 650 \r\nQ 1584 409 2034 409 \r\nQ 2484 409 2743 651 \r\nQ 3003 894 3003 1313 \r\nQ 3003 1734 2745 1975 \r\nQ 2488 2216 2034 2216 \r\nz\r\nM 1403 2484 \r\nQ 997 2584 770 2862 \r\nQ 544 3141 544 3541 \r\nQ 544 4100 942 4425 \r\nQ 1341 4750 2034 4750 \r\nQ 2731 4750 3128 4425 \r\nQ 3525 4100 3525 3541 \r\nQ 3525 3141 3298 2862 \r\nQ 3072 2584 2669 2484 \r\nQ 3125 2378 3379 2068 \r\nQ 3634 1759 3634 1313 \r\nQ 3634 634 3220 271 \r\nQ 2806 -91 2034 -91 \r\nQ 1263 -91 848 271 \r\nQ 434 634 434 1313 \r\nQ 434 1759 690 2068 \r\nQ 947 2378 1403 2484 \r\nz\r\nM 1172 3481 \r\nQ 1172 3119 1398 2916 \r\nQ 1625 2713 2034 2713 \r\nQ 2441 2713 2670 2916 \r\nQ 2900 3119 2900 3481 \r\nQ 2900 3844 2670 4047 \r\nQ 2441 4250 2034 4250 \r\nQ 1625 4250 1398 4047 \r\nQ 1172 3844 1172 3481 \r\nz\r\n\" id=\"DejaVuSans-38\" transform=\"scale(0.015625)\"/>\r\n      <path d=\"M 703 97 \r\nL 703 672 \r\nQ 941 559 1184 500 \r\nQ 1428 441 1663 441 \r\nQ 2288 441 2617 861 \r\nQ 2947 1281 2994 2138 \r\nQ 2813 1869 2534 1725 \r\nQ 2256 1581 1919 1581 \r\nQ 1219 1581 811 2004 \r\nQ 403 2428 403 3163 \r\nQ 403 3881 828 4315 \r\nQ 1253 4750 1959 4750 \r\nQ 2769 4750 3195 4129 \r\nQ 3622 3509 3622 2328 \r\nQ 3622 1225 3098 567 \r\nQ 2575 -91 1691 -91 \r\nQ 1453 -91 1209 -44 \r\nQ 966 3 703 97 \r\nz\r\nM 1959 2075 \r\nQ 2384 2075 2632 2365 \r\nQ 2881 2656 2881 3163 \r\nQ 2881 3666 2632 3958 \r\nQ 2384 4250 1959 4250 \r\nQ 1534 4250 1286 3958 \r\nQ 1038 3666 1038 3163 \r\nQ 1038 2656 1286 2365 \r\nQ 1534 2075 1959 2075 \r\nz\r\n\" id=\"DejaVuSans-39\" transform=\"scale(0.015625)\"/>\r\n     </defs>\r\n     <use xlink:href=\"#DejaVuSans-32\"/>\r\n     <use x=\"63.623047\" xlink:href=\"#DejaVuSans-38\"/>\r\n     <use x=\"127.246094\" xlink:href=\"#DejaVuSans-39\"/>\r\n     <use x=\"190.869141\" xlink:href=\"#DejaVuSans-34\"/>\r\n     <use x=\"254.492188\" xlink:href=\"#DejaVuSans-31\"/>\r\n    </g>\r\n   </g>\r\n   <g id=\"text_30\">\r\n    <!-- 3 -->\r\n    <g style=\"fill:#ffffff;\" transform=\"translate(189.305925 60.21725)scale(0.12 -0.12)\">\r\n     <use xlink:href=\"#DejaVuSans-33\"/>\r\n    </g>\r\n   </g>\r\n   <g id=\"text_31\">\r\n    <!-- 25 -->\r\n    <g style=\"fill:#ffffff;\" transform=\"translate(236.10067 60.21725)scale(0.12 -0.12)\">\r\n     <use xlink:href=\"#DejaVuSans-32\"/>\r\n     <use x=\"63.623047\" xlink:href=\"#DejaVuSans-35\"/>\r\n    </g>\r\n   </g>\r\n   <g id=\"text_32\">\r\n    <!-- 4 -->\r\n    <g style=\"fill:#ffffff;\" transform=\"translate(290.530415 60.21725)scale(0.12 -0.12)\">\r\n     <use xlink:href=\"#DejaVuSans-34\"/>\r\n    </g>\r\n   </g>\r\n   <g id=\"text_33\">\r\n    <!-- 45 -->\r\n    <g style=\"fill:#262626;\" transform=\"translate(337.325159 60.21725)scale(0.12 -0.12)\">\r\n     <use xlink:href=\"#DejaVuSans-34\"/>\r\n     <use x=\"63.623047\" xlink:href=\"#DejaVuSans-35\"/>\r\n    </g>\r\n   </g>\r\n   <g id=\"text_34\">\r\n    <!-- 4 -->\r\n    <g style=\"fill:#ffffff;\" transform=\"translate(391.754904 60.21725)scale(0.12 -0.12)\">\r\n     <use xlink:href=\"#DejaVuSans-34\"/>\r\n    </g>\r\n   </g>\r\n   <g id=\"text_35\">\r\n    <!-- 13 -->\r\n    <g style=\"fill:#ffffff;\" transform=\"translate(438.549649 60.21725)scale(0.12 -0.12)\">\r\n     <use xlink:href=\"#DejaVuSans-31\"/>\r\n     <use x=\"63.623047\" xlink:href=\"#DejaVuSans-33\"/>\r\n    </g>\r\n   </g>\r\n   <g id=\"text_36\">\r\n    <!-- 15 -->\r\n    <g style=\"fill:#ffffff;\" transform=\"translate(489.161894 60.21725)scale(0.12 -0.12)\">\r\n     <use xlink:href=\"#DejaVuSans-31\"/>\r\n     <use x=\"63.623047\" xlink:href=\"#DejaVuSans-35\"/>\r\n    </g>\r\n   </g>\r\n   <g id=\"text_37\">\r\n    <!-- 93 -->\r\n    <g style=\"fill:#262626;\" transform=\"translate(539.774139 60.21725)scale(0.12 -0.12)\">\r\n     <use xlink:href=\"#DejaVuSans-39\"/>\r\n     <use x=\"63.623047\" xlink:href=\"#DejaVuSans-33\"/>\r\n    </g>\r\n   </g>\r\n   <g id=\"text_38\">\r\n    <!-- 1 -->\r\n    <g style=\"fill:#ffffff;\" transform=\"translate(88.081435 91.02125)scale(0.12 -0.12)\">\r\n     <use xlink:href=\"#DejaVuSans-31\"/>\r\n    </g>\r\n   </g>\r\n   <g id=\"text_39\">\r\n    <!-- 22498 -->\r\n    <g style=\"fill:#262626;\" transform=\"translate(123.42368 91.02125)scale(0.12 -0.12)\">\r\n     <use xlink:href=\"#DejaVuSans-32\"/>\r\n     <use x=\"63.623047\" xlink:href=\"#DejaVuSans-32\"/>\r\n     <use x=\"127.246094\" xlink:href=\"#DejaVuSans-34\"/>\r\n     <use x=\"190.869141\" xlink:href=\"#DejaVuSans-39\"/>\r\n     <use x=\"254.492188\" xlink:href=\"#DejaVuSans-38\"/>\r\n    </g>\r\n   </g>\r\n   <g id=\"text_40\">\r\n    <!-- 3 -->\r\n    <g style=\"fill:#ffffff;\" transform=\"translate(189.305925 91.02125)scale(0.12 -0.12)\">\r\n     <use xlink:href=\"#DejaVuSans-33\"/>\r\n    </g>\r\n   </g>\r\n   <g id=\"text_41\">\r\n    <!-- 19 -->\r\n    <g style=\"fill:#ffffff;\" transform=\"translate(236.10067 91.02125)scale(0.12 -0.12)\">\r\n     <use xlink:href=\"#DejaVuSans-31\"/>\r\n     <use x=\"63.623047\" xlink:href=\"#DejaVuSans-39\"/>\r\n    </g>\r\n   </g>\r\n   <g id=\"text_42\">\r\n    <!-- 2 -->\r\n    <g style=\"fill:#ffffff;\" transform=\"translate(290.530415 91.02125)scale(0.12 -0.12)\">\r\n     <use xlink:href=\"#DejaVuSans-32\"/>\r\n    </g>\r\n   </g>\r\n   <g id=\"text_43\">\r\n    <!-- 38 -->\r\n    <g style=\"fill:#262626;\" transform=\"translate(337.325159 91.02125)scale(0.12 -0.12)\">\r\n     <use xlink:href=\"#DejaVuSans-33\"/>\r\n     <use x=\"63.623047\" xlink:href=\"#DejaVuSans-38\"/>\r\n    </g>\r\n   </g>\r\n   <g id=\"text_44\">\r\n    <!-- 9 -->\r\n    <g style=\"fill:#ffffff;\" transform=\"translate(391.754904 91.02125)scale(0.12 -0.12)\">\r\n     <use xlink:href=\"#DejaVuSans-39\"/>\r\n    </g>\r\n   </g>\r\n   <g id=\"text_45\">\r\n    <!-- 23 -->\r\n    <g style=\"fill:#ffffff;\" transform=\"translate(438.549649 91.02125)scale(0.12 -0.12)\">\r\n     <use xlink:href=\"#DejaVuSans-32\"/>\r\n     <use x=\"63.623047\" xlink:href=\"#DejaVuSans-33\"/>\r\n    </g>\r\n   </g>\r\n   <g id=\"text_46\">\r\n    <!-- 9 -->\r\n    <g style=\"fill:#ffffff;\" transform=\"translate(492.979394 91.02125)scale(0.12 -0.12)\">\r\n     <use xlink:href=\"#DejaVuSans-39\"/>\r\n    </g>\r\n   </g>\r\n   <g id=\"text_47\">\r\n    <!-- 138 -->\r\n    <g style=\"fill:#262626;\" transform=\"translate(535.956639 91.02125)scale(0.12 -0.12)\">\r\n     <use xlink:href=\"#DejaVuSans-31\"/>\r\n     <use x=\"63.623047\" xlink:href=\"#DejaVuSans-33\"/>\r\n     <use x=\"127.246094\" xlink:href=\"#DejaVuSans-38\"/>\r\n    </g>\r\n   </g>\r\n   <g id=\"text_48\">\r\n    <!-- 1 -->\r\n    <g style=\"fill:#ffffff;\" transform=\"translate(88.081435 121.82525)scale(0.12 -0.12)\">\r\n     <use xlink:href=\"#DejaVuSans-31\"/>\r\n    </g>\r\n   </g>\r\n   <g id=\"text_49\">\r\n    <!-- 4869 -->\r\n    <g style=\"fill:#262626;\" transform=\"translate(127.24118 121.82525)scale(0.12 -0.12)\">\r\n     <defs>\r\n      <path d=\"M 2113 2584 \r\nQ 1688 2584 1439 2293 \r\nQ 1191 2003 1191 1497 \r\nQ 1191 994 1439 701 \r\nQ 1688 409 2113 409 \r\nQ 2538 409 2786 701 \r\nQ 3034 994 3034 1497 \r\nQ 3034 2003 2786 2293 \r\nQ 2538 2584 2113 2584 \r\nz\r\nM 3366 4563 \r\nL 3366 3988 \r\nQ 3128 4100 2886 4159 \r\nQ 2644 4219 2406 4219 \r\nQ 1781 4219 1451 3797 \r\nQ 1122 3375 1075 2522 \r\nQ 1259 2794 1537 2939 \r\nQ 1816 3084 2150 3084 \r\nQ 2853 3084 3261 2657 \r\nQ 3669 2231 3669 1497 \r\nQ 3669 778 3244 343 \r\nQ 2819 -91 2113 -91 \r\nQ 1303 -91 875 529 \r\nQ 447 1150 447 2328 \r\nQ 447 3434 972 4092 \r\nQ 1497 4750 2381 4750 \r\nQ 2619 4750 2861 4703 \r\nQ 3103 4656 3366 4563 \r\nz\r\n\" id=\"DejaVuSans-36\" transform=\"scale(0.015625)\"/>\r\n     </defs>\r\n     <use xlink:href=\"#DejaVuSans-34\"/>\r\n     <use x=\"63.623047\" xlink:href=\"#DejaVuSans-38\"/>\r\n     <use x=\"127.246094\" xlink:href=\"#DejaVuSans-36\"/>\r\n     <use x=\"190.869141\" xlink:href=\"#DejaVuSans-39\"/>\r\n    </g>\r\n   </g>\r\n   <g id=\"text_50\">\r\n    <!-- 2 -->\r\n    <g style=\"fill:#ffffff;\" transform=\"translate(189.305925 121.82525)scale(0.12 -0.12)\">\r\n     <use xlink:href=\"#DejaVuSans-32\"/>\r\n    </g>\r\n   </g>\r\n   <g id=\"text_51\">\r\n    <!-- 18 -->\r\n    <g style=\"fill:#ffffff;\" transform=\"translate(236.10067 121.82525)scale(0.12 -0.12)\">\r\n     <use xlink:href=\"#DejaVuSans-31\"/>\r\n     <use x=\"63.623047\" xlink:href=\"#DejaVuSans-38\"/>\r\n    </g>\r\n   </g>\r\n   <g id=\"text_52\">\r\n    <!-- 2 -->\r\n    <g style=\"fill:#ffffff;\" transform=\"translate(290.530415 121.82525)scale(0.12 -0.12)\">\r\n     <use xlink:href=\"#DejaVuSans-32\"/>\r\n    </g>\r\n   </g>\r\n   <g id=\"text_53\">\r\n    <!-- 26 -->\r\n    <g style=\"fill:#ffffff;\" transform=\"translate(337.325159 121.82525)scale(0.12 -0.12)\">\r\n     <use xlink:href=\"#DejaVuSans-32\"/>\r\n     <use x=\"63.623047\" xlink:href=\"#DejaVuSans-36\"/>\r\n    </g>\r\n   </g>\r\n   <g id=\"text_54\">\r\n    <!-- 5 -->\r\n    <g style=\"fill:#ffffff;\" transform=\"translate(391.754904 121.82525)scale(0.12 -0.12)\">\r\n     <use xlink:href=\"#DejaVuSans-35\"/>\r\n    </g>\r\n   </g>\r\n   <g id=\"text_55\">\r\n    <!-- 20 -->\r\n    <g style=\"fill:#ffffff;\" transform=\"translate(438.549649 121.82525)scale(0.12 -0.12)\">\r\n     <use xlink:href=\"#DejaVuSans-32\"/>\r\n     <use x=\"63.623047\" xlink:href=\"#DejaVuSans-30\"/>\r\n    </g>\r\n   </g>\r\n   <g id=\"text_56\">\r\n    <!-- 7 -->\r\n    <g style=\"fill:#ffffff;\" transform=\"translate(492.979394 121.82525)scale(0.12 -0.12)\">\r\n     <use xlink:href=\"#DejaVuSans-37\"/>\r\n    </g>\r\n   </g>\r\n   <g id=\"text_57\">\r\n    <!-- 124 -->\r\n    <g style=\"fill:#262626;\" transform=\"translate(535.956639 121.82525)scale(0.12 -0.12)\">\r\n     <use xlink:href=\"#DejaVuSans-31\"/>\r\n     <use x=\"63.623047\" xlink:href=\"#DejaVuSans-32\"/>\r\n     <use x=\"127.246094\" xlink:href=\"#DejaVuSans-34\"/>\r\n    </g>\r\n   </g>\r\n   <g id=\"text_58\">\r\n    <!-- 1 -->\r\n    <g style=\"fill:#ffffff;\" transform=\"translate(88.081435 152.62925)scale(0.12 -0.12)\">\r\n     <use xlink:href=\"#DejaVuSans-31\"/>\r\n    </g>\r\n   </g>\r\n   <g id=\"text_59\">\r\n    <!-- 511 -->\r\n    <g style=\"fill:#262626;\" transform=\"translate(131.05868 152.62925)scale(0.12 -0.12)\">\r\n     <use xlink:href=\"#DejaVuSans-35\"/>\r\n     <use x=\"63.623047\" xlink:href=\"#DejaVuSans-31\"/>\r\n     <use x=\"127.246094\" xlink:href=\"#DejaVuSans-31\"/>\r\n    </g>\r\n   </g>\r\n   <g id=\"text_60\">\r\n    <!-- 2 -->\r\n    <g style=\"fill:#ffffff;\" transform=\"translate(189.305925 152.62925)scale(0.12 -0.12)\">\r\n     <use xlink:href=\"#DejaVuSans-32\"/>\r\n    </g>\r\n   </g>\r\n   <g id=\"text_61\">\r\n    <!-- 39 -->\r\n    <g style=\"fill:#262626;\" transform=\"translate(236.10067 152.62925)scale(0.12 -0.12)\">\r\n     <use xlink:href=\"#DejaVuSans-33\"/>\r\n     <use x=\"63.623047\" xlink:href=\"#DejaVuSans-39\"/>\r\n    </g>\r\n   </g>\r\n   <g id=\"text_62\">\r\n    <!-- 2 -->\r\n    <g style=\"fill:#ffffff;\" transform=\"translate(290.530415 152.62925)scale(0.12 -0.12)\">\r\n     <use xlink:href=\"#DejaVuSans-32\"/>\r\n    </g>\r\n   </g>\r\n   <g id=\"text_63\">\r\n    <!-- 21 -->\r\n    <g style=\"fill:#ffffff;\" transform=\"translate(337.325159 152.62925)scale(0.12 -0.12)\">\r\n     <use xlink:href=\"#DejaVuSans-32\"/>\r\n     <use x=\"63.623047\" xlink:href=\"#DejaVuSans-31\"/>\r\n    </g>\r\n   </g>\r\n   <g id=\"text_64\">\r\n    <!-- 6 -->\r\n    <g style=\"fill:#ffffff;\" transform=\"translate(391.754904 152.62925)scale(0.12 -0.12)\">\r\n     <use xlink:href=\"#DejaVuSans-36\"/>\r\n    </g>\r\n   </g>\r\n   <g id=\"text_65\">\r\n    <!-- 18 -->\r\n    <g style=\"fill:#ffffff;\" transform=\"translate(438.549649 152.62925)scale(0.12 -0.12)\">\r\n     <use xlink:href=\"#DejaVuSans-31\"/>\r\n     <use x=\"63.623047\" xlink:href=\"#DejaVuSans-38\"/>\r\n    </g>\r\n   </g>\r\n   <g id=\"text_66\">\r\n    <!-- 8 -->\r\n    <g style=\"fill:#ffffff;\" transform=\"translate(492.979394 152.62925)scale(0.12 -0.12)\">\r\n     <use xlink:href=\"#DejaVuSans-38\"/>\r\n    </g>\r\n   </g>\r\n   <g id=\"text_67\">\r\n    <!-- 68 -->\r\n    <g style=\"fill:#262626;\" transform=\"translate(539.774139 152.62925)scale(0.12 -0.12)\">\r\n     <use xlink:href=\"#DejaVuSans-36\"/>\r\n     <use x=\"63.623047\" xlink:href=\"#DejaVuSans-38\"/>\r\n    </g>\r\n   </g>\r\n   <g id=\"text_68\">\r\n    <!-- 1 -->\r\n    <g style=\"fill:#ffffff;\" transform=\"translate(88.081435 183.43325)scale(0.12 -0.12)\">\r\n     <use xlink:href=\"#DejaVuSans-31\"/>\r\n    </g>\r\n   </g>\r\n   <g id=\"text_69\">\r\n    <!-- 1 -->\r\n    <g style=\"fill:#ffffff;\" transform=\"translate(138.69368 183.43325)scale(0.12 -0.12)\">\r\n     <use xlink:href=\"#DejaVuSans-31\"/>\r\n    </g>\r\n   </g>\r\n   <g id=\"text_70\">\r\n    <!-- 1 -->\r\n    <g style=\"fill:#ffffff;\" transform=\"translate(189.305925 183.43325)scale(0.12 -0.12)\">\r\n     <use xlink:href=\"#DejaVuSans-31\"/>\r\n    </g>\r\n   </g>\r\n   <g id=\"text_71\">\r\n    <!-- 10 -->\r\n    <g style=\"fill:#ffffff;\" transform=\"translate(236.10067 183.43325)scale(0.12 -0.12)\">\r\n     <use xlink:href=\"#DejaVuSans-31\"/>\r\n     <use x=\"63.623047\" xlink:href=\"#DejaVuSans-30\"/>\r\n    </g>\r\n   </g>\r\n   <g id=\"text_72\">\r\n    <!-- 1 -->\r\n    <g style=\"fill:#ffffff;\" transform=\"translate(290.530415 183.43325)scale(0.12 -0.12)\">\r\n     <use xlink:href=\"#DejaVuSans-31\"/>\r\n    </g>\r\n   </g>\r\n   <g id=\"text_73\">\r\n    <!-- 6 -->\r\n    <g style=\"fill:#ffffff;\" transform=\"translate(341.142659 183.43325)scale(0.12 -0.12)\">\r\n     <use xlink:href=\"#DejaVuSans-36\"/>\r\n    </g>\r\n   </g>\r\n   <g id=\"text_74\">\r\n    <!-- 3 -->\r\n    <g style=\"fill:#ffffff;\" transform=\"translate(391.754904 183.43325)scale(0.12 -0.12)\">\r\n     <use xlink:href=\"#DejaVuSans-33\"/>\r\n    </g>\r\n   </g>\r\n   <g id=\"text_75\">\r\n    <!-- 13 -->\r\n    <g style=\"fill:#ffffff;\" transform=\"translate(438.549649 183.43325)scale(0.12 -0.12)\">\r\n     <use xlink:href=\"#DejaVuSans-31\"/>\r\n     <use x=\"63.623047\" xlink:href=\"#DejaVuSans-33\"/>\r\n    </g>\r\n   </g>\r\n   <g id=\"text_76\">\r\n    <!-- 17 -->\r\n    <g style=\"fill:#ffffff;\" transform=\"translate(489.161894 183.43325)scale(0.12 -0.12)\">\r\n     <use xlink:href=\"#DejaVuSans-31\"/>\r\n     <use x=\"63.623047\" xlink:href=\"#DejaVuSans-37\"/>\r\n    </g>\r\n   </g>\r\n   <g id=\"text_77\">\r\n    <!-- 14 -->\r\n    <g style=\"fill:#ffffff;\" transform=\"translate(539.774139 183.43325)scale(0.12 -0.12)\">\r\n     <use xlink:href=\"#DejaVuSans-31\"/>\r\n     <use x=\"63.623047\" xlink:href=\"#DejaVuSans-34\"/>\r\n    </g>\r\n   </g>\r\n  </g>\r\n  <g id=\"axes_2\">\r\n   <g id=\"patch_3\">\r\n    <path d=\"M 599.28669 195.524 \r\nL 624.592813 195.524 \r\nL 624.592813 10.7 \r\nL 599.28669 10.7 \r\nz\r\n\" style=\"fill:#ffffff;\"/>\r\n   </g>\r\n   <g id=\"patch_4\">\r\n    <path clip-path=\"url(#pe7c8e7e740)\" d=\"M 611.939751 195.524 \r\nL 599.28669 187.122909 \r\nL 599.28669 19.101091 \r\nL 611.939751 10.7 \r\nL 611.939751 10.7 \r\nL 624.592813 19.101091 \r\nL 624.592813 187.122909 \r\nL 611.939751 195.524 \r\nz\r\n\" style=\"fill:#ffffff;stroke:#ffffff;stroke-linejoin:miter;stroke-width:0.01;\"/>\r\n   </g>\r\n   <image height=\"185\" id=\"image23d5c61be9\" transform=\"scale(1 -1)translate(0 -185)\" width=\"26\" x=\"599\" xlink:href=\"data:image/png;base64,\r\niVBORw0KGgoAAAANSUhEUgAAABoAAAC5CAYAAAA2wi+OAAABsElEQVR4nO2cQW7CMBBFbSvn6E2670V6inbZU7R3bbpoQUCdxJkJT+jrzwaEjF/+zPjbBEGd57mMxld7vxr8+v1RR9/bopCl15aibikanWxL3aqiPVe8NbaraA+gFz11/xRlIUtznBUdAejFSV27J+Ry7vpZ3+4GuYzp5fmJ4JSpDi/ZLKgOu0gOVBgOmDpOEVUjiFOm8R0pCYIEoV1HNQOkCMJo1oizIAjEOYOce+vtsE5dGOTDSRikaEEQSO5wwq2j0tS8jlLEHSD1alTlFGEWhG0TVpQAIRzXKAVCOD6cZEDeysMgtRoJLljBGmEWBOWO/FSupkhwHblGcRDCkWwGwdRhIL0DJAMCFendyVdrb0lnwEC2oFgIWpBie2Mg1ygWene3SGeAQNQ3YoKpswU9PMgWFA7J9tarEZU67L63Xtc5dY8P0qsRp8imatBvgL9tkVMk1wyKpuquC4PU9iM3QwaEcNze8XDXJUBuhmBYUQaEcATPdXXe889EiWiFyV2dTk/+Ho9WdxZxu46OVHc117QyIKque7E9UBS4mo0RCxpJ5+aYNUW9iW7VDdf0B1iXOxf658MvAAAAAElFTkSuQmCC\" y=\"-10\"/>\r\n   <g id=\"matplotlib.axis_3\"/>\r\n   <g id=\"matplotlib.axis_4\">\r\n    <g id=\"ytick_7\">\r\n     <g id=\"line2d_17\">\r\n      <defs>\r\n       <path d=\"M 0 0 \r\nL 3.5 0 \r\n\" id=\"m1a9ffd18ab\" style=\"stroke:#000000;stroke-width:0.8;\"/>\r\n      </defs>\r\n      <g>\r\n       <use style=\"stroke:#000000;stroke-width:0.8;\" x=\"624.592813\" xlink:href=\"#m1a9ffd18ab\" y=\"152.560141\"/>\r\n      </g>\r\n     </g>\r\n     <g id=\"text_78\">\r\n      <!-- 10 -->\r\n      <g transform=\"translate(631.592813 156.35936)scale(0.1 -0.1)\">\r\n       <use xlink:href=\"#DejaVuSans-31\"/>\r\n       <use x=\"63.623047\" xlink:href=\"#DejaVuSans-30\"/>\r\n      </g>\r\n     </g>\r\n    </g>\r\n    <g id=\"ytick_8\">\r\n     <g id=\"line2d_18\">\r\n      <g>\r\n       <use style=\"stroke:#000000;stroke-width:0.8;\" x=\"624.592813\" xlink:href=\"#m1a9ffd18ab\" y=\"103.112\"/>\r\n      </g>\r\n     </g>\r\n     <g id=\"text_79\">\r\n      <!-- 100 -->\r\n      <g transform=\"translate(631.592813 106.911219)scale(0.1 -0.1)\">\r\n       <use xlink:href=\"#DejaVuSans-31\"/>\r\n       <use x=\"63.623047\" xlink:href=\"#DejaVuSans-30\"/>\r\n       <use x=\"127.246094\" xlink:href=\"#DejaVuSans-30\"/>\r\n      </g>\r\n     </g>\r\n    </g>\r\n    <g id=\"ytick_9\">\r\n     <g id=\"line2d_19\">\r\n      <g>\r\n       <use style=\"stroke:#000000;stroke-width:0.8;\" x=\"624.592813\" xlink:href=\"#m1a9ffd18ab\" y=\"53.663859\"/>\r\n      </g>\r\n     </g>\r\n     <g id=\"text_80\">\r\n      <!-- 1,000 -->\r\n      <g transform=\"translate(631.592813 57.463077)scale(0.1 -0.1)\">\r\n       <defs>\r\n        <path d=\"M 750 794 \r\nL 1409 794 \r\nL 1409 256 \r\nL 897 -744 \r\nL 494 -744 \r\nL 750 256 \r\nL 750 794 \r\nz\r\n\" id=\"DejaVuSans-2c\" transform=\"scale(0.015625)\"/>\r\n       </defs>\r\n       <use xlink:href=\"#DejaVuSans-31\"/>\r\n       <use x=\"63.623047\" xlink:href=\"#DejaVuSans-2c\"/>\r\n       <use x=\"95.410156\" xlink:href=\"#DejaVuSans-30\"/>\r\n       <use x=\"159.033203\" xlink:href=\"#DejaVuSans-30\"/>\r\n       <use x=\"222.65625\" xlink:href=\"#DejaVuSans-30\"/>\r\n      </g>\r\n     </g>\r\n    </g>\r\n    <g id=\"ytick_10\">\r\n     <g id=\"line2d_20\">\r\n      <defs>\r\n       <path d=\"M 0 0 \r\nL 2 0 \r\n\" id=\"m40372cd8cd\" style=\"stroke:#000000;stroke-width:0.6;\"/>\r\n      </defs>\r\n      <g>\r\n       <use style=\"stroke:#000000;stroke-width:0.6;\" x=\"624.592813\" xlink:href=\"#m40372cd8cd\" y=\"187.122909\"/>\r\n      </g>\r\n     </g>\r\n    </g>\r\n    <g id=\"ytick_11\">\r\n     <g id=\"line2d_21\">\r\n      <g>\r\n       <use style=\"stroke:#000000;stroke-width:0.6;\" x=\"624.592813\" xlink:href=\"#m40372cd8cd\" y=\"178.415524\"/>\r\n      </g>\r\n     </g>\r\n    </g>\r\n    <g id=\"ytick_12\">\r\n     <g id=\"line2d_22\">\r\n      <g>\r\n       <use style=\"stroke:#000000;stroke-width:0.6;\" x=\"624.592813\" xlink:href=\"#m40372cd8cd\" y=\"172.237535\"/>\r\n      </g>\r\n     </g>\r\n    </g>\r\n    <g id=\"ytick_13\">\r\n     <g id=\"line2d_23\">\r\n      <g>\r\n       <use style=\"stroke:#000000;stroke-width:0.6;\" x=\"624.592813\" xlink:href=\"#m40372cd8cd\" y=\"167.445515\"/>\r\n      </g>\r\n     </g>\r\n    </g>\r\n    <g id=\"ytick_14\">\r\n     <g id=\"line2d_24\">\r\n      <g>\r\n       <use style=\"stroke:#000000;stroke-width:0.6;\" x=\"624.592813\" xlink:href=\"#m40372cd8cd\" y=\"163.53015\"/>\r\n      </g>\r\n     </g>\r\n    </g>\r\n    <g id=\"ytick_15\">\r\n     <g id=\"line2d_25\">\r\n      <g>\r\n       <use style=\"stroke:#000000;stroke-width:0.6;\" x=\"624.592813\" xlink:href=\"#m40372cd8cd\" y=\"160.219755\"/>\r\n      </g>\r\n     </g>\r\n    </g>\r\n    <g id=\"ytick_16\">\r\n     <g id=\"line2d_26\">\r\n      <g>\r\n       <use style=\"stroke:#000000;stroke-width:0.6;\" x=\"624.592813\" xlink:href=\"#m40372cd8cd\" y=\"157.352161\"/>\r\n      </g>\r\n     </g>\r\n    </g>\r\n    <g id=\"ytick_17\">\r\n     <g id=\"line2d_27\">\r\n      <g>\r\n       <use style=\"stroke:#000000;stroke-width:0.6;\" x=\"624.592813\" xlink:href=\"#m40372cd8cd\" y=\"154.822764\"/>\r\n      </g>\r\n     </g>\r\n    </g>\r\n    <g id=\"ytick_18\">\r\n     <g id=\"line2d_28\">\r\n      <g>\r\n       <use style=\"stroke:#000000;stroke-width:0.6;\" x=\"624.592813\" xlink:href=\"#m40372cd8cd\" y=\"137.674768\"/>\r\n      </g>\r\n     </g>\r\n    </g>\r\n    <g id=\"ytick_19\">\r\n     <g id=\"line2d_29\">\r\n      <g>\r\n       <use style=\"stroke:#000000;stroke-width:0.6;\" x=\"624.592813\" xlink:href=\"#m40372cd8cd\" y=\"128.967382\"/>\r\n      </g>\r\n     </g>\r\n    </g>\r\n    <g id=\"ytick_20\">\r\n     <g id=\"line2d_30\">\r\n      <g>\r\n       <use style=\"stroke:#000000;stroke-width:0.6;\" x=\"624.592813\" xlink:href=\"#m40372cd8cd\" y=\"122.789394\"/>\r\n      </g>\r\n     </g>\r\n    </g>\r\n    <g id=\"ytick_21\">\r\n     <g id=\"line2d_31\">\r\n      <g>\r\n       <use style=\"stroke:#000000;stroke-width:0.6;\" x=\"624.592813\" xlink:href=\"#m40372cd8cd\" y=\"117.997374\"/>\r\n      </g>\r\n     </g>\r\n    </g>\r\n    <g id=\"ytick_22\">\r\n     <g id=\"line2d_32\">\r\n      <g>\r\n       <use style=\"stroke:#000000;stroke-width:0.6;\" x=\"624.592813\" xlink:href=\"#m40372cd8cd\" y=\"114.082008\"/>\r\n      </g>\r\n     </g>\r\n    </g>\r\n    <g id=\"ytick_23\">\r\n     <g id=\"line2d_33\">\r\n      <g>\r\n       <use style=\"stroke:#000000;stroke-width:0.6;\" x=\"624.592813\" xlink:href=\"#m40372cd8cd\" y=\"110.771614\"/>\r\n      </g>\r\n     </g>\r\n    </g>\r\n    <g id=\"ytick_24\">\r\n     <g id=\"line2d_34\">\r\n      <g>\r\n       <use style=\"stroke:#000000;stroke-width:0.6;\" x=\"624.592813\" xlink:href=\"#m40372cd8cd\" y=\"107.90402\"/>\r\n      </g>\r\n     </g>\r\n    </g>\r\n    <g id=\"ytick_25\">\r\n     <g id=\"line2d_35\">\r\n      <g>\r\n       <use style=\"stroke:#000000;stroke-width:0.6;\" x=\"624.592813\" xlink:href=\"#m40372cd8cd\" y=\"105.374623\"/>\r\n      </g>\r\n     </g>\r\n    </g>\r\n    <g id=\"ytick_26\">\r\n     <g id=\"line2d_36\">\r\n      <g>\r\n       <use style=\"stroke:#000000;stroke-width:0.6;\" x=\"624.592813\" xlink:href=\"#m40372cd8cd\" y=\"88.226626\"/>\r\n      </g>\r\n     </g>\r\n    </g>\r\n    <g id=\"ytick_27\">\r\n     <g id=\"line2d_37\">\r\n      <g>\r\n       <use style=\"stroke:#000000;stroke-width:0.6;\" x=\"624.592813\" xlink:href=\"#m40372cd8cd\" y=\"79.519241\"/>\r\n      </g>\r\n     </g>\r\n    </g>\r\n    <g id=\"ytick_28\">\r\n     <g id=\"line2d_38\">\r\n      <g>\r\n       <use style=\"stroke:#000000;stroke-width:0.6;\" x=\"624.592813\" xlink:href=\"#m40372cd8cd\" y=\"73.341252\"/>\r\n      </g>\r\n     </g>\r\n    </g>\r\n    <g id=\"ytick_29\">\r\n     <g id=\"line2d_39\">\r\n      <g>\r\n       <use style=\"stroke:#000000;stroke-width:0.6;\" x=\"624.592813\" xlink:href=\"#m40372cd8cd\" y=\"68.549232\"/>\r\n      </g>\r\n     </g>\r\n    </g>\r\n    <g id=\"ytick_30\">\r\n     <g id=\"line2d_40\">\r\n      <g>\r\n       <use style=\"stroke:#000000;stroke-width:0.6;\" x=\"624.592813\" xlink:href=\"#m40372cd8cd\" y=\"64.633867\"/>\r\n      </g>\r\n     </g>\r\n    </g>\r\n    <g id=\"ytick_31\">\r\n     <g id=\"line2d_41\">\r\n      <g>\r\n       <use style=\"stroke:#000000;stroke-width:0.6;\" x=\"624.592813\" xlink:href=\"#m40372cd8cd\" y=\"61.323473\"/>\r\n      </g>\r\n     </g>\r\n    </g>\r\n    <g id=\"ytick_32\">\r\n     <g id=\"line2d_42\">\r\n      <g>\r\n       <use style=\"stroke:#000000;stroke-width:0.6;\" x=\"624.592813\" xlink:href=\"#m40372cd8cd\" y=\"58.455879\"/>\r\n      </g>\r\n     </g>\r\n    </g>\r\n    <g id=\"ytick_33\">\r\n     <g id=\"line2d_43\">\r\n      <g>\r\n       <use style=\"stroke:#000000;stroke-width:0.6;\" x=\"624.592813\" xlink:href=\"#m40372cd8cd\" y=\"55.926481\"/>\r\n      </g>\r\n     </g>\r\n    </g>\r\n    <g id=\"ytick_34\">\r\n     <g id=\"line2d_44\">\r\n      <g>\r\n       <use style=\"stroke:#000000;stroke-width:0.6;\" x=\"624.592813\" xlink:href=\"#m40372cd8cd\" y=\"38.778485\"/>\r\n      </g>\r\n     </g>\r\n    </g>\r\n    <g id=\"ytick_35\">\r\n     <g id=\"line2d_45\">\r\n      <g>\r\n       <use style=\"stroke:#000000;stroke-width:0.6;\" x=\"624.592813\" xlink:href=\"#m40372cd8cd\" y=\"30.071099\"/>\r\n      </g>\r\n     </g>\r\n    </g>\r\n    <g id=\"ytick_36\">\r\n     <g id=\"line2d_46\">\r\n      <g>\r\n       <use style=\"stroke:#000000;stroke-width:0.6;\" x=\"624.592813\" xlink:href=\"#m40372cd8cd\" y=\"23.893111\"/>\r\n      </g>\r\n     </g>\r\n    </g>\r\n    <g id=\"ytick_37\">\r\n     <g id=\"line2d_47\">\r\n      <g>\r\n       <use style=\"stroke:#000000;stroke-width:0.6;\" x=\"624.592813\" xlink:href=\"#m40372cd8cd\" y=\"19.101091\"/>\r\n      </g>\r\n     </g>\r\n    </g>\r\n    <g id=\"text_81\">\r\n     <!-- Ranking of token (by score) -->\r\n     <g transform=\"translate(671.819375 171.956531)rotate(-90)scale(0.1 -0.1)\">\r\n      <defs>\r\n       <path d=\"M 2841 2188 \r\nQ 3044 2119 3236 1894 \r\nQ 3428 1669 3622 1275 \r\nL 4263 0 \r\nL 3584 0 \r\nL 2988 1197 \r\nQ 2756 1666 2539 1819 \r\nQ 2322 1972 1947 1972 \r\nL 1259 1972 \r\nL 1259 0 \r\nL 628 0 \r\nL 628 4666 \r\nL 2053 4666 \r\nQ 2853 4666 3247 4331 \r\nQ 3641 3997 3641 3322 \r\nQ 3641 2881 3436 2590 \r\nQ 3231 2300 2841 2188 \r\nz\r\nM 1259 4147 \r\nL 1259 2491 \r\nL 2053 2491 \r\nQ 2509 2491 2742 2702 \r\nQ 2975 2913 2975 3322 \r\nQ 2975 3731 2742 3939 \r\nQ 2509 4147 2053 4147 \r\nL 1259 4147 \r\nz\r\n\" id=\"DejaVuSans-52\" transform=\"scale(0.015625)\"/>\r\n       <path d=\"M 2906 1791 \r\nQ 2906 2416 2648 2759 \r\nQ 2391 3103 1925 3103 \r\nQ 1463 3103 1205 2759 \r\nQ 947 2416 947 1791 \r\nQ 947 1169 1205 825 \r\nQ 1463 481 1925 481 \r\nQ 2391 481 2648 825 \r\nQ 2906 1169 2906 1791 \r\nz\r\nM 3481 434 \r\nQ 3481 -459 3084 -895 \r\nQ 2688 -1331 1869 -1331 \r\nQ 1566 -1331 1297 -1286 \r\nQ 1028 -1241 775 -1147 \r\nL 775 -588 \r\nQ 1028 -725 1275 -790 \r\nQ 1522 -856 1778 -856 \r\nQ 2344 -856 2625 -561 \r\nQ 2906 -266 2906 331 \r\nL 2906 616 \r\nQ 2728 306 2450 153 \r\nQ 2172 0 1784 0 \r\nQ 1141 0 747 490 \r\nQ 353 981 353 1791 \r\nQ 353 2603 747 3093 \r\nQ 1141 3584 1784 3584 \r\nQ 2172 3584 2450 3431 \r\nQ 2728 3278 2906 2969 \r\nL 2906 3500 \r\nL 3481 3500 \r\nL 3481 434 \r\nz\r\n\" id=\"DejaVuSans-67\" transform=\"scale(0.015625)\"/>\r\n       <path d=\"M 3116 1747 \r\nQ 3116 2381 2855 2742 \r\nQ 2594 3103 2138 3103 \r\nQ 1681 3103 1420 2742 \r\nQ 1159 2381 1159 1747 \r\nQ 1159 1113 1420 752 \r\nQ 1681 391 2138 391 \r\nQ 2594 391 2855 752 \r\nQ 3116 1113 3116 1747 \r\nz\r\nM 1159 2969 \r\nQ 1341 3281 1617 3432 \r\nQ 1894 3584 2278 3584 \r\nQ 2916 3584 3314 3078 \r\nQ 3713 2572 3713 1747 \r\nQ 3713 922 3314 415 \r\nQ 2916 -91 2278 -91 \r\nQ 1894 -91 1617 61 \r\nQ 1341 213 1159 525 \r\nL 1159 0 \r\nL 581 0 \r\nL 581 4863 \r\nL 1159 4863 \r\nL 1159 2969 \r\nz\r\n\" id=\"DejaVuSans-62\" transform=\"scale(0.015625)\"/>\r\n       <path d=\"M 3122 3366 \r\nL 3122 2828 \r\nQ 2878 2963 2633 3030 \r\nQ 2388 3097 2138 3097 \r\nQ 1578 3097 1268 2742 \r\nQ 959 2388 959 1747 \r\nQ 959 1106 1268 751 \r\nQ 1578 397 2138 397 \r\nQ 2388 397 2633 464 \r\nQ 2878 531 3122 666 \r\nL 3122 134 \r\nQ 2881 22 2623 -34 \r\nQ 2366 -91 2075 -91 \r\nQ 1284 -91 818 406 \r\nQ 353 903 353 1747 \r\nQ 353 2603 823 3093 \r\nQ 1294 3584 2113 3584 \r\nQ 2378 3584 2631 3529 \r\nQ 2884 3475 3122 3366 \r\nz\r\n\" id=\"DejaVuSans-63\" transform=\"scale(0.015625)\"/>\r\n       <path d=\"M 513 4856 \r\nL 1013 4856 \r\nQ 1481 4119 1714 3412 \r\nQ 1947 2706 1947 2009 \r\nQ 1947 1309 1714 600 \r\nQ 1481 -109 1013 -844 \r\nL 513 -844 \r\nQ 928 -128 1133 580 \r\nQ 1338 1288 1338 2009 \r\nQ 1338 2731 1133 3434 \r\nQ 928 4138 513 4856 \r\nz\r\n\" id=\"DejaVuSans-29\" transform=\"scale(0.015625)\"/>\r\n      </defs>\r\n      <use xlink:href=\"#DejaVuSans-52\"/>\r\n      <use x=\"67.232422\" xlink:href=\"#DejaVuSans-61\"/>\r\n      <use x=\"128.511719\" xlink:href=\"#DejaVuSans-6e\"/>\r\n      <use x=\"191.890625\" xlink:href=\"#DejaVuSans-6b\"/>\r\n      <use x=\"249.800781\" xlink:href=\"#DejaVuSans-69\"/>\r\n      <use x=\"277.583984\" xlink:href=\"#DejaVuSans-6e\"/>\r\n      <use x=\"340.962891\" xlink:href=\"#DejaVuSans-67\"/>\r\n      <use x=\"404.439453\" xlink:href=\"#DejaVuSans-20\"/>\r\n      <use x=\"436.226562\" xlink:href=\"#DejaVuSans-6f\"/>\r\n      <use x=\"497.408203\" xlink:href=\"#DejaVuSans-66\"/>\r\n      <use x=\"532.613281\" xlink:href=\"#DejaVuSans-20\"/>\r\n      <use x=\"564.400391\" xlink:href=\"#DejaVuSans-74\"/>\r\n      <use x=\"603.609375\" xlink:href=\"#DejaVuSans-6f\"/>\r\n      <use x=\"664.791016\" xlink:href=\"#DejaVuSans-6b\"/>\r\n      <use x=\"719.076172\" xlink:href=\"#DejaVuSans-65\"/>\r\n      <use x=\"780.599609\" xlink:href=\"#DejaVuSans-6e\"/>\r\n      <use x=\"843.978516\" xlink:href=\"#DejaVuSans-20\"/>\r\n      <use x=\"875.765625\" xlink:href=\"#DejaVuSans-28\"/>\r\n      <use x=\"914.779297\" xlink:href=\"#DejaVuSans-62\"/>\r\n      <use x=\"978.255859\" xlink:href=\"#DejaVuSans-79\"/>\r\n      <use x=\"1037.435547\" xlink:href=\"#DejaVuSans-20\"/>\r\n      <use x=\"1069.222656\" xlink:href=\"#DejaVuSans-73\"/>\r\n      <use x=\"1121.322266\" xlink:href=\"#DejaVuSans-63\"/>\r\n      <use x=\"1176.302734\" xlink:href=\"#DejaVuSans-6f\"/>\r\n      <use x=\"1237.484375\" xlink:href=\"#DejaVuSans-72\"/>\r\n      <use x=\"1276.347656\" xlink:href=\"#DejaVuSans-65\"/>\r\n      <use x=\"1337.871094\" xlink:href=\"#DejaVuSans-29\"/>\r\n     </g>\r\n    </g>\r\n   </g>\r\n   <g id=\"LineCollection_1\"/>\r\n   <g id=\"patch_5\">\r\n    <path d=\"M 611.939751 195.524 \r\nL 599.28669 187.122909 \r\nL 599.28669 19.101091 \r\nL 611.939751 10.7 \r\nL 611.939751 10.7 \r\nL 624.592813 19.101091 \r\nL 624.592813 187.122909 \r\nL 611.939751 195.524 \r\nz\r\n\" style=\"fill:none;stroke:#000000;stroke-linecap:square;stroke-linejoin:miter;stroke-width:0.8;\"/>\r\n   </g>\r\n  </g>\r\n  <g id=\"axes_3\">\r\n   <g id=\"matplotlib.axis_5\"/>\r\n   <g id=\"patch_6\">\r\n    <path d=\"M 66.592813 195.524 \r\nL 66.592813 10.7 \r\n\" style=\"fill:none;stroke:#000000;stroke-linecap:square;stroke-linejoin:miter;stroke-width:0.8;\"/>\r\n   </g>\r\n   <g id=\"patch_7\">\r\n    <path d=\"M 572.715261 195.524 \r\nL 572.715261 10.7 \r\n\" style=\"fill:none;stroke:#000000;stroke-linecap:square;stroke-linejoin:miter;stroke-width:0.8;\"/>\r\n   </g>\r\n   <g id=\"patch_8\">\r\n    <path d=\"M 66.592813 195.524 \r\nL 572.715261 195.524 \r\n\" style=\"fill:none;stroke:#000000;stroke-linecap:square;stroke-linejoin:miter;stroke-width:0.8;\"/>\r\n   </g>\r\n   <g id=\"patch_9\">\r\n    <path d=\"M 66.592813 10.7 \r\nL 572.715261 10.7 \r\n\" style=\"fill:none;stroke:#000000;stroke-linecap:square;stroke-linejoin:miter;stroke-width:0.8;\"/>\r\n   </g>\r\n  </g>\r\n </g>\r\n <defs>\r\n  <clipPath id=\"p2c740c725f\">\r\n   <rect height=\"184.824\" width=\"506.122449\" x=\"66.592813\" y=\"10.7\"/>\r\n  </clipPath>\r\n  <clipPath id=\"pe7c8e7e740\">\r\n   <rect height=\"184.824\" width=\"25.306122\" x=\"599.28669\" y=\"10.7\"/>\r\n  </clipPath>\r\n </defs>\r\n</svg>\r\n",
            "image/png": "[encoded data removed]"
          },
          "metadata": {}
        }
      ]
    },
    {
      "cell_type": "code",
      "metadata": {
        "id": "BwnGMmniH6j9"
      },
      "source": [
        "output.saliency()"
      ],
      "execution_count": 48,
      "outputs": [
        {
          "output_type": "display_data",
          "data": {
            "text/plain": "<IPython.core.display.HTML object>",
            "text/html": "<html lang=\"en\">\n<script src=\"https://requirejs.org/docs/release/2.3.6/minified/require.js\"></script>\n<script>\n    var ecco_url = 'https://storage.googleapis.com/ml-intro/ecco/'\n    // var ecco_url = 'http://localhost:8000/ecco/'\n\n    if (window.ecco === undefined) window.ecco = {}\n\n    requirejs.config({\n        urlArgs: \"bust=\" + (new Date()).getTime(),\n        nodeRequire: require,\n        paths: {\n            d3: \"https://d3js.org/d3.v5.min\",\n            \"d3-array\": \"https://d3js.org/d3-array.v2.min\",\n            jquery: \"https://code.jquery.com/jquery-3.5.1.min\",\n            // oldEcco: ecco_url + 'ecco',\n            ecco: ecco_url + 'js/0.0.4/ecco-bundle.min',\n            xregexp: 'https://cdnjs.cloudflare.com/ajax/libs/xregexp/3.2.0/xregexp-all.min'\n        }\n    });\n    requirejs(['d3'],\n        function (d3) {\n            d3.select('#css').attr('href', ecco_url + 'html/styles.css')\n        })\n\n    console.log('Ecco initialize.')\n</script>\n\n<head>\n    <link id='css' rel=\"stylesheet\" type=\"text/css\">\n</head>\n"
          },
          "metadata": {}
        },
        {
          "output_type": "display_data",
          "data": {
            "text/plain": "<IPython.core.display.HTML object>",
            "text/html": "<script>\n    // console.log('defining basic')\n    define('basic', ['d3'],\n        function (d3) {\n            return {\n                init: function (viz_id = null) {\n\n                    // console.log('basic init')\n                    if (viz_id == null){\n                        viz_id = \"viz_\" + Math.round(Math.random() * 10000000)\n                    }\n                    const div = d3.select('#basic').attr('id', viz_id),\n                        div_parent = d3.select('#' + viz_id).node().parentNode\n\n                    // Link to CSS file\n                    d3.select(div_parent).insert('link')\n                        .attr('rel', 'stylesheet')\n                        .attr('type', 'text/css')\n                        .attr('href', ecco_url + 'html/styles.css')\n\n                    return viz_id\n                }\n            }\n        }, function (err) {console.log(err);}\n    )\n    // console.log('after defining basic')\n\n</script>\n<div id=\"basic\"></div>\n"
          },
          "metadata": {}
        },
        {
          "output_type": "display_data",
          "data": {
            "text/plain": "<IPython.core.display.Javascript object>",
            "application/javascript": "\n             requirejs(['basic', 'ecco'], function(basic, ecco){\n                const viz_id = basic.init()\n                // ecco.interactiveTokens(viz_id, {})\n                window.ecco[viz_id] = new ecco.MinimalHighlighter({\n                parentDiv: viz_id,\n                data: {'tokens': [{'token': 'The', 'token_id': 464, 'type': 'input', 'value': '0.062988035', 'position': 0}, {'token': ' four', 'token_id': 1440, 'type': 'input', 'value': '0.035878893', 'position': 1}, {'token': ' Pro', 'token_id': 1041, 'type': 'input', 'value': '0.050534263', 'position': 2}, {'token': 'vin', 'token_id': 7114, 'type': 'input', 'value': '0.07867755', 'position': 3}, {'token': 'ces', 'token_id': 728, 'type': 'input', 'value': '0.084989555', 'position': 4}, {'token': ' in', 'token_id': 287, 'type': 'input', 'value': '0.019305132', 'position': 5}, {'token': ' Ireland', 'token_id': 7517, 'type': 'input', 'value': '0.08182479', 'position': 6}, {'token': ' are', 'token_id': 389, 'type': 'input', 'value': '0.020829652', 'position': 7}, {'token': ';', 'token_id': 26, 'type': 'input', 'value': '0.038763963', 'position': 8}, {'token': ' Ulster', 'token_id': 50026, 'type': 'input', 'value': '0.11614461', 'position': 9}, {'token': ',', 'token_id': 11, 'type': 'input', 'value': '0.023753999', 'position': 10}, {'token': ' Mun', 'token_id': 12107, 'type': 'input', 'value': '0.17519727', 'position': 11}, {'token': 'ster', 'token_id': 1706, 'type': 'input', 'value': '0.15977512', 'position': 12}, {'token': ',', 'token_id': 11, 'type': 'input', 'value': '0.051337115', 'position': 13}, {'token': ' and', 'token_id': 290, 'type': 'output', 'value': '0', 'position': 14}, {'token': ' Ulster', 'token_id': 50026, 'type': 'output', 'value': '0', 'position': 15}, {'token': '.', 'token_id': 13, 'type': 'output', 'value': '0', 'position': 16}, {'token': ' There', 'token_id': 1318, 'type': 'output', 'value': '0', 'position': 17}, {'token': ' are', 'token_id': 389, 'type': 'output', 'value': '0', 'position': 18}, {'token': ' five', 'token_id': 1936, 'type': 'output', 'value': '0', 'position': 19}, {'token': ' other', 'token_id': 584, 'type': 'output', 'value': '0', 'position': 20}, {'token': ' three', 'token_id': 1115, 'type': 'output', 'value': '0', 'position': 21}, {'token': ' (', 'token_id': 357, 'type': 'output', 'value': '0', 'position': 22}, {'token': 'T', 'token_id': 51, 'type': 'output', 'value': '0', 'position': 23}], 'attributions': [[0.0629880353808403, 0.03587889298796654, 0.050534263253211975, 0.07867754995822906, 0.08498955518007278, 0.01930513232946396, 0.08182478696107864, 0.02082965150475502, 0.03876396268606186, 0.11614461243152618, 0.023753998801112175, 0.1751972734928131, 0.15977512300014496, 0.051337115466594696], [0.06496356427669525, 0.03771434724330902, 0.04719216376543045, 0.0925009623169899, 0.09628564119338989, 0.018329467624425888, 0.0847155973315239, 0.028387119993567467, 0.035526156425476074, 0.12409097701311111, 0.024443479254841805, 0.14553570747375488, 0.11439598351716995, 0.026098474860191345, 0.059820350259542465], [0.057756636291742325, 0.052638325840234756, 0.03687182441353798, 0.059020936489105225, 0.0671265572309494, 0.019496124237775803, 0.0638541579246521, 0.03536808118224144, 0.06563589721918106, 0.11828705668449402, 0.039518896490335464, 0.07058347016572952, 0.048091743141412735, 0.028459420427680016, 0.04226454719901085, 0.19502633810043335], [0.10543621331453323, 0.055588044226169586, 0.053606633096933365, 0.08882017433643341, 0.0997859388589859, 0.028397517278790474, 0.07685473561286926, 0.07319116592407227, 0.07705459743738174, 0.05767853558063507, 0.020357200875878334, 0.04008129984140396, 0.027293812483549118, 0.027381200343370438, 0.030439624562859535, 0.05967332050204277, 0.07835996896028519], [0.07158725708723068, 0.05476583167910576, 0.04663785174489021, 0.07704246044158936, 0.080234095454216, 0.023084541782736778, 0.06494494527578354, 0.04468589648604393, 0.054352276027202606, 0.0568247027695179, 0.01902804709970951, 0.05624885857105255, 0.030338715761899948, 0.017900560051202774, 0.022591788321733475, 0.050509702414274216, 0.04686223343014717, 0.18236027657985687], [0.07719363272190094, 0.05083845183253288, 0.03848744183778763, 0.07137999683618546, 0.07012735307216644, 0.022003065794706345, 0.050930630415678024, 0.06917835772037506, 0.07133553922176361, 0.04536033049225807, 0.012793750502169132, 0.03904453292489052, 0.026526525616645813, 0.014108791016042233, 0.022869925945997238, 0.045230764895677567, 0.042708802968263626, 0.15063060820102692, 0.07925155758857727], [0.04967378079891205, 0.08780786395072937, 0.054383862763643265, 0.07236092537641525, 0.08429199457168579, 0.014014028944075108, 0.03830986097455025, 0.029497280716896057, 0.028396259993314743, 0.04825984686613083, 0.012916709296405315, 0.033741582185029984, 0.028195152059197426, 0.01324972789734602, 0.017063802108168602, 0.04540195316076279, 0.02707284316420555, 0.11773369461297989, 0.03990388289093971, 0.15772485733032227], [0.05501595512032509, 0.052646275609731674, 0.07109815627336502, 0.1096051037311554, 0.11892915517091751, 0.0150064118206501, 0.04551343992352486, 0.02558264322578907, 0.02290414460003376, 0.050813596695661545, 0.009125331416726112, 0.02799951285123825, 0.01996893808245659, 0.009479064494371414, 0.015611620619893074, 0.03346187248826027, 0.0219435915350914, 0.07953459024429321, 0.027665460482239723, 0.05747677758336067, 0.13061831891536713], [0.04575574770569801, 0.07892347127199173, 0.05914103612303734, 0.08620152622461319, 0.09918136894702911, 0.012560099363327026, 0.030786670744419098, 0.019364632666110992, 0.019900452345609665, 0.04046201333403587, 0.009238442406058311, 0.022563157603144646, 0.016199782490730286, 0.010417872108519077, 0.014315536245703697, 0.042018961161375046, 0.024457985535264015, 0.06224386394023895, 0.029614724218845367, 0.040087200701236725, 0.094156414270401, 0.14240901172161102], [0.053213223814964294, 0.03229924663901329, 0.03802918642759323, 0.07799968123435974, 0.08070769160985947, 0.01634112372994423, 0.046246208250522614, 0.02213774062693119, 0.029044514521956444, 0.06134345009922981, 0.009489757008850574, 0.04814991354942322, 0.03172437846660614, 0.009793215431272984, 0.013486811891198158, 0.03608761727809906, 0.025482352823019028, 0.04385170713067055, 0.02418229728937149, 0.0447331964969635, 0.06815751641988754, 0.09321337938308716, 0.094285748898983]]},\n                preset: 'viridis'\n             })\n\n             window.ecco[viz_id].init();\n             window.ecco[viz_id].selectFirstToken();\n\n             }, function (err) {\n                console.log(err);\n            })"
          },
          "metadata": {}
        }
      ]
    },
    {
      "cell_type": "code",
      "metadata": {
        "id": "4Gcfre8fZMMT"
      },
      "source": [
        "tokenized = lm.tokenizer(text, return_tensors=\"pt\")\n",
        "tokenized"
      ],
      "execution_count": 49,
      "outputs": [
        {
          "output_type": "execute_result",
          "data": {
            "text/plain": [
              "{'input_ids': tensor([[  464,  1440,  1041,  7114,   728,   287,  7517,   389,    26, 50026,\n",
              "            11, 12107,  1706,    11]]), 'attention_mask': tensor([[1, 1, 1, 1, 1, 1, 1, 1, 1, 1, 1, 1, 1, 1]])}"
            ]
          },
          "metadata": {},
          "execution_count": 49
        }
      ]
    },
    {
      "cell_type": "code",
      "execution_count": 33,
      "metadata": {},
      "outputs": [
        {
          "output_type": "execute_result",
          "data": {
            "text/plain": [
              "464"
            ]
          },
          "metadata": {},
          "execution_count": 33
        }
      ],
      "source": [
        "lm.tokenizer.get_vocab()['The']"
      ]
    },
    {
      "cell_type": "code",
      "execution_count": 45,
      "metadata": {},
      "outputs": [
        {
          "output_type": "execute_result",
          "data": {
            "text/plain": [
              "['The',\n",
              " ' 4',\n",
              " ' Pro',\n",
              " 'vin',\n",
              " 'ces',\n",
              " ' in',\n",
              " ' Ireland',\n",
              " ' are',\n",
              " ';',\n",
              " ' M',\n",
              " 'nd',\n",
              " 'th',\n",
              " 'aj',\n",
              " 'd',\n",
              " 'xd',\n",
              " ',',\n",
              " ' Ulster',\n",
              " ',',\n",
              " ' Mun',\n",
              " 'ster',\n",
              " ',']"
            ]
          },
          "metadata": {},
          "execution_count": 45
        }
      ],
      "source": [
        "input_ids = output['input_ids'][0]\n",
        "lm.tokenizer.batch_decode(input_ids)"
      ]
    },
    {
      "cell_type": "code",
      "execution_count": 94,
      "metadata": {},
      "outputs": [
        {
          "output_type": "execute_result",
          "data": {
            "text/plain": [
              "torch.Size([21])"
            ]
          },
          "metadata": {},
          "execution_count": 94
        }
      ],
      "source": [
        "input_ids.shape"
      ]
    },
    {
      "cell_type": "code",
      "execution_count": 42,
      "metadata": {},
      "outputs": [
        {
          "output_type": "execute_result",
          "data": {
            "text/plain": [
              "GPT2Model(\n",
              "  (wte): Embedding(50257, 768)\n",
              "  (wpe): Embedding(1024, 768)\n",
              "  (drop): Dropout(p=0.1, inplace=False)\n",
              "  (h): ModuleList(\n",
              "    (0): Block(\n",
              "      (ln_1): LayerNorm((768,), eps=1e-05, elementwise_affine=True)\n",
              "      (attn): Attention(\n",
              "        (c_attn): Conv1D()\n",
              "        (c_proj): Conv1D()\n",
              "        (attn_dropout): Dropout(p=0.1, inplace=False)\n",
              "        (resid_dropout): Dropout(p=0.1, inplace=False)\n",
              "      )\n",
              "      (ln_2): LayerNorm((768,), eps=1e-05, elementwise_affine=True)\n",
              "      (mlp): MLP(\n",
              "        (c_fc): Conv1D()\n",
              "        (c_proj): Conv1D()\n",
              "        (dropout): Dropout(p=0.1, inplace=False)\n",
              "      )\n",
              "    )\n",
              "    (1): Block(\n",
              "      (ln_1): LayerNorm((768,), eps=1e-05, elementwise_affine=True)\n",
              "      (attn): Attention(\n",
              "        (c_attn): Conv1D()\n",
              "        (c_proj): Conv1D()\n",
              "        (attn_dropout): Dropout(p=0.1, inplace=False)\n",
              "        (resid_dropout): Dropout(p=0.1, inplace=False)\n",
              "      )\n",
              "      (ln_2): LayerNorm((768,), eps=1e-05, elementwise_affine=True)\n",
              "      (mlp): MLP(\n",
              "        (c_fc): Conv1D()\n",
              "        (c_proj): Conv1D()\n",
              "        (dropout): Dropout(p=0.1, inplace=False)\n",
              "      )\n",
              "    )\n",
              "    (2): Block(\n",
              "      (ln_1): LayerNorm((768,), eps=1e-05, elementwise_affine=True)\n",
              "      (attn): Attention(\n",
              "        (c_attn): Conv1D()\n",
              "        (c_proj): Conv1D()\n",
              "        (attn_dropout): Dropout(p=0.1, inplace=False)\n",
              "        (resid_dropout): Dropout(p=0.1, inplace=False)\n",
              "      )\n",
              "      (ln_2): LayerNorm((768,), eps=1e-05, elementwise_affine=True)\n",
              "      (mlp): MLP(\n",
              "        (c_fc): Conv1D()\n",
              "        (c_proj): Conv1D()\n",
              "        (dropout): Dropout(p=0.1, inplace=False)\n",
              "      )\n",
              "    )\n",
              "    (3): Block(\n",
              "      (ln_1): LayerNorm((768,), eps=1e-05, elementwise_affine=True)\n",
              "      (attn): Attention(\n",
              "        (c_attn): Conv1D()\n",
              "        (c_proj): Conv1D()\n",
              "        (attn_dropout): Dropout(p=0.1, inplace=False)\n",
              "        (resid_dropout): Dropout(p=0.1, inplace=False)\n",
              "      )\n",
              "      (ln_2): LayerNorm((768,), eps=1e-05, elementwise_affine=True)\n",
              "      (mlp): MLP(\n",
              "        (c_fc): Conv1D()\n",
              "        (c_proj): Conv1D()\n",
              "        (dropout): Dropout(p=0.1, inplace=False)\n",
              "      )\n",
              "    )\n",
              "    (4): Block(\n",
              "      (ln_1): LayerNorm((768,), eps=1e-05, elementwise_affine=True)\n",
              "      (attn): Attention(\n",
              "        (c_attn): Conv1D()\n",
              "        (c_proj): Conv1D()\n",
              "        (attn_dropout): Dropout(p=0.1, inplace=False)\n",
              "        (resid_dropout): Dropout(p=0.1, inplace=False)\n",
              "      )\n",
              "      (ln_2): LayerNorm((768,), eps=1e-05, elementwise_affine=True)\n",
              "      (mlp): MLP(\n",
              "        (c_fc): Conv1D()\n",
              "        (c_proj): Conv1D()\n",
              "        (dropout): Dropout(p=0.1, inplace=False)\n",
              "      )\n",
              "    )\n",
              "    (5): Block(\n",
              "      (ln_1): LayerNorm((768,), eps=1e-05, elementwise_affine=True)\n",
              "      (attn): Attention(\n",
              "        (c_attn): Conv1D()\n",
              "        (c_proj): Conv1D()\n",
              "        (attn_dropout): Dropout(p=0.1, inplace=False)\n",
              "        (resid_dropout): Dropout(p=0.1, inplace=False)\n",
              "      )\n",
              "      (ln_2): LayerNorm((768,), eps=1e-05, elementwise_affine=True)\n",
              "      (mlp): MLP(\n",
              "        (c_fc): Conv1D()\n",
              "        (c_proj): Conv1D()\n",
              "        (dropout): Dropout(p=0.1, inplace=False)\n",
              "      )\n",
              "    )\n",
              "  )\n",
              "  (ln_f): LayerNorm((768,), eps=1e-05, elementwise_affine=True)\n",
              ")"
            ]
          },
          "metadata": {},
          "execution_count": 42
        }
      ],
      "source": [
        "lm.model.transformer"
      ]
    },
    {
      "cell_type": "code",
      "execution_count": 50,
      "metadata": {},
      "outputs": [
        {
          "output_type": "error",
          "ename": "RuntimeError",
          "evalue": "Input, output and indices must be on the current device",
          "traceback": [
            "\u001b[1;31m---------------------------------------------------------------------------\u001b[0m",
            "\u001b[1;31mRuntimeError\u001b[0m                              Traceback (most recent call last)",
            "\u001b[1;32m<ipython-input-50-f5c2732e71a5>\u001b[0m in \u001b[0;36m<module>\u001b[1;34m\u001b[0m\n\u001b[1;32m----> 1\u001b[1;33m \u001b[0mlm\u001b[0m\u001b[1;33m.\u001b[0m\u001b[0mmodel\u001b[0m\u001b[1;33m.\u001b[0m\u001b[0mtransformer\u001b[0m\u001b[1;33m(\u001b[0m\u001b[0minput_ids\u001b[0m\u001b[1;33m)\u001b[0m\u001b[1;33m\u001b[0m\u001b[1;33m\u001b[0m\u001b[0m\n\u001b[0m",
            "\u001b[1;32m~\\AppData\\Local\\Programs\\Python\\Python39\\lib\\site-packages\\torch\\nn\\modules\\module.py\u001b[0m in \u001b[0;36m_call_impl\u001b[1;34m(self, *input, **kwargs)\u001b[0m\n\u001b[0;32m    887\u001b[0m             \u001b[0mresult\u001b[0m \u001b[1;33m=\u001b[0m \u001b[0mself\u001b[0m\u001b[1;33m.\u001b[0m\u001b[0m_slow_forward\u001b[0m\u001b[1;33m(\u001b[0m\u001b[1;33m*\u001b[0m\u001b[0minput\u001b[0m\u001b[1;33m,\u001b[0m \u001b[1;33m**\u001b[0m\u001b[0mkwargs\u001b[0m\u001b[1;33m)\u001b[0m\u001b[1;33m\u001b[0m\u001b[1;33m\u001b[0m\u001b[0m\n\u001b[0;32m    888\u001b[0m         \u001b[1;32melse\u001b[0m\u001b[1;33m:\u001b[0m\u001b[1;33m\u001b[0m\u001b[1;33m\u001b[0m\u001b[0m\n\u001b[1;32m--> 889\u001b[1;33m             \u001b[0mresult\u001b[0m \u001b[1;33m=\u001b[0m \u001b[0mself\u001b[0m\u001b[1;33m.\u001b[0m\u001b[0mforward\u001b[0m\u001b[1;33m(\u001b[0m\u001b[1;33m*\u001b[0m\u001b[0minput\u001b[0m\u001b[1;33m,\u001b[0m \u001b[1;33m**\u001b[0m\u001b[0mkwargs\u001b[0m\u001b[1;33m)\u001b[0m\u001b[1;33m\u001b[0m\u001b[1;33m\u001b[0m\u001b[0m\n\u001b[0m\u001b[0;32m    890\u001b[0m         for hook in itertools.chain(\n\u001b[0;32m    891\u001b[0m                 \u001b[0m_global_forward_hooks\u001b[0m\u001b[1;33m.\u001b[0m\u001b[0mvalues\u001b[0m\u001b[1;33m(\u001b[0m\u001b[1;33m)\u001b[0m\u001b[1;33m,\u001b[0m\u001b[1;33m\u001b[0m\u001b[1;33m\u001b[0m\u001b[0m\n",
            "\u001b[1;32m~\\AppData\\Local\\Programs\\Python\\Python39\\lib\\site-packages\\transformers\\models\\gpt2\\modeling_gpt2.py\u001b[0m in \u001b[0;36mforward\u001b[1;34m(self, input_ids, past_key_values, attention_mask, token_type_ids, position_ids, head_mask, inputs_embeds, encoder_hidden_states, encoder_attention_mask, use_cache, output_attentions, output_hidden_states, return_dict)\u001b[0m\n\u001b[0;32m    692\u001b[0m \u001b[1;33m\u001b[0m\u001b[0m\n\u001b[0;32m    693\u001b[0m         \u001b[1;32mif\u001b[0m \u001b[0minputs_embeds\u001b[0m \u001b[1;32mis\u001b[0m \u001b[1;32mNone\u001b[0m\u001b[1;33m:\u001b[0m\u001b[1;33m\u001b[0m\u001b[1;33m\u001b[0m\u001b[0m\n\u001b[1;32m--> 694\u001b[1;33m             \u001b[0minputs_embeds\u001b[0m \u001b[1;33m=\u001b[0m \u001b[0mself\u001b[0m\u001b[1;33m.\u001b[0m\u001b[0mwte\u001b[0m\u001b[1;33m(\u001b[0m\u001b[0minput_ids\u001b[0m\u001b[1;33m)\u001b[0m\u001b[1;33m\u001b[0m\u001b[1;33m\u001b[0m\u001b[0m\n\u001b[0m\u001b[0;32m    695\u001b[0m         \u001b[0mposition_embeds\u001b[0m \u001b[1;33m=\u001b[0m \u001b[0mself\u001b[0m\u001b[1;33m.\u001b[0m\u001b[0mwpe\u001b[0m\u001b[1;33m(\u001b[0m\u001b[0mposition_ids\u001b[0m\u001b[1;33m)\u001b[0m\u001b[1;33m\u001b[0m\u001b[1;33m\u001b[0m\u001b[0m\n\u001b[0;32m    696\u001b[0m         \u001b[0mhidden_states\u001b[0m \u001b[1;33m=\u001b[0m \u001b[0minputs_embeds\u001b[0m \u001b[1;33m+\u001b[0m \u001b[0mposition_embeds\u001b[0m\u001b[1;33m\u001b[0m\u001b[1;33m\u001b[0m\u001b[0m\n",
            "\u001b[1;32m~\\AppData\\Local\\Programs\\Python\\Python39\\lib\\site-packages\\torch\\nn\\modules\\module.py\u001b[0m in \u001b[0;36m_call_impl\u001b[1;34m(self, *input, **kwargs)\u001b[0m\n\u001b[0;32m    887\u001b[0m             \u001b[0mresult\u001b[0m \u001b[1;33m=\u001b[0m \u001b[0mself\u001b[0m\u001b[1;33m.\u001b[0m\u001b[0m_slow_forward\u001b[0m\u001b[1;33m(\u001b[0m\u001b[1;33m*\u001b[0m\u001b[0minput\u001b[0m\u001b[1;33m,\u001b[0m \u001b[1;33m**\u001b[0m\u001b[0mkwargs\u001b[0m\u001b[1;33m)\u001b[0m\u001b[1;33m\u001b[0m\u001b[1;33m\u001b[0m\u001b[0m\n\u001b[0;32m    888\u001b[0m         \u001b[1;32melse\u001b[0m\u001b[1;33m:\u001b[0m\u001b[1;33m\u001b[0m\u001b[1;33m\u001b[0m\u001b[0m\n\u001b[1;32m--> 889\u001b[1;33m             \u001b[0mresult\u001b[0m \u001b[1;33m=\u001b[0m \u001b[0mself\u001b[0m\u001b[1;33m.\u001b[0m\u001b[0mforward\u001b[0m\u001b[1;33m(\u001b[0m\u001b[1;33m*\u001b[0m\u001b[0minput\u001b[0m\u001b[1;33m,\u001b[0m \u001b[1;33m**\u001b[0m\u001b[0mkwargs\u001b[0m\u001b[1;33m)\u001b[0m\u001b[1;33m\u001b[0m\u001b[1;33m\u001b[0m\u001b[0m\n\u001b[0m\u001b[0;32m    890\u001b[0m         for hook in itertools.chain(\n\u001b[0;32m    891\u001b[0m                 \u001b[0m_global_forward_hooks\u001b[0m\u001b[1;33m.\u001b[0m\u001b[0mvalues\u001b[0m\u001b[1;33m(\u001b[0m\u001b[1;33m)\u001b[0m\u001b[1;33m,\u001b[0m\u001b[1;33m\u001b[0m\u001b[1;33m\u001b[0m\u001b[0m\n",
            "\u001b[1;32m~\\AppData\\Local\\Programs\\Python\\Python39\\lib\\site-packages\\torch\\nn\\modules\\sparse.py\u001b[0m in \u001b[0;36mforward\u001b[1;34m(self, input)\u001b[0m\n\u001b[0;32m    154\u001b[0m \u001b[1;33m\u001b[0m\u001b[0m\n\u001b[0;32m    155\u001b[0m     \u001b[1;32mdef\u001b[0m \u001b[0mforward\u001b[0m\u001b[1;33m(\u001b[0m\u001b[0mself\u001b[0m\u001b[1;33m,\u001b[0m \u001b[0minput\u001b[0m\u001b[1;33m:\u001b[0m \u001b[0mTensor\u001b[0m\u001b[1;33m)\u001b[0m \u001b[1;33m->\u001b[0m \u001b[0mTensor\u001b[0m\u001b[1;33m:\u001b[0m\u001b[1;33m\u001b[0m\u001b[1;33m\u001b[0m\u001b[0m\n\u001b[1;32m--> 156\u001b[1;33m         return F.embedding(\n\u001b[0m\u001b[0;32m    157\u001b[0m             \u001b[0minput\u001b[0m\u001b[1;33m,\u001b[0m \u001b[0mself\u001b[0m\u001b[1;33m.\u001b[0m\u001b[0mweight\u001b[0m\u001b[1;33m,\u001b[0m \u001b[0mself\u001b[0m\u001b[1;33m.\u001b[0m\u001b[0mpadding_idx\u001b[0m\u001b[1;33m,\u001b[0m \u001b[0mself\u001b[0m\u001b[1;33m.\u001b[0m\u001b[0mmax_norm\u001b[0m\u001b[1;33m,\u001b[0m\u001b[1;33m\u001b[0m\u001b[1;33m\u001b[0m\u001b[0m\n\u001b[0;32m    158\u001b[0m             self.norm_type, self.scale_grad_by_freq, self.sparse)\n",
            "\u001b[1;32m~\\AppData\\Local\\Programs\\Python\\Python39\\lib\\site-packages\\torch\\nn\\functional.py\u001b[0m in \u001b[0;36membedding\u001b[1;34m(input, weight, padding_idx, max_norm, norm_type, scale_grad_by_freq, sparse)\u001b[0m\n\u001b[0;32m   1914\u001b[0m         \u001b[1;31m# remove once script supports set_grad_enabled\u001b[0m\u001b[1;33m\u001b[0m\u001b[1;33m\u001b[0m\u001b[1;33m\u001b[0m\u001b[0m\n\u001b[0;32m   1915\u001b[0m         \u001b[0m_no_grad_embedding_renorm_\u001b[0m\u001b[1;33m(\u001b[0m\u001b[0mweight\u001b[0m\u001b[1;33m,\u001b[0m \u001b[0minput\u001b[0m\u001b[1;33m,\u001b[0m \u001b[0mmax_norm\u001b[0m\u001b[1;33m,\u001b[0m \u001b[0mnorm_type\u001b[0m\u001b[1;33m)\u001b[0m\u001b[1;33m\u001b[0m\u001b[1;33m\u001b[0m\u001b[0m\n\u001b[1;32m-> 1916\u001b[1;33m     \u001b[1;32mreturn\u001b[0m \u001b[0mtorch\u001b[0m\u001b[1;33m.\u001b[0m\u001b[0membedding\u001b[0m\u001b[1;33m(\u001b[0m\u001b[0mweight\u001b[0m\u001b[1;33m,\u001b[0m \u001b[0minput\u001b[0m\u001b[1;33m,\u001b[0m \u001b[0mpadding_idx\u001b[0m\u001b[1;33m,\u001b[0m \u001b[0mscale_grad_by_freq\u001b[0m\u001b[1;33m,\u001b[0m \u001b[0msparse\u001b[0m\u001b[1;33m)\u001b[0m\u001b[1;33m\u001b[0m\u001b[1;33m\u001b[0m\u001b[0m\n\u001b[0m\u001b[0;32m   1917\u001b[0m \u001b[1;33m\u001b[0m\u001b[0m\n\u001b[0;32m   1918\u001b[0m \u001b[1;33m\u001b[0m\u001b[0m\n",
            "\u001b[1;31mRuntimeError\u001b[0m: Input, output and indices must be on the current device"
          ]
        }
      ],
      "source": [
        "lm.model.transformer(input_ids)"
      ]
    },
    {
      "cell_type": "code",
      "execution_count": 57,
      "metadata": {},
      "outputs": [
        {
          "output_type": "execute_result",
          "data": {
            "text/plain": [
              "<torch.cuda.device at 0x1eb183e4b80>"
            ]
          },
          "metadata": {},
          "execution_count": 57
        }
      ],
      "source": [
        "import torch\n"
      ]
    },
    {
      "cell_type": "code",
      "execution_count": 61,
      "metadata": {},
      "outputs": [],
      "source": [
        "device = \"cuda:0\"\n",
        "model = lm.model.transformer\n",
        "mode = model.to(device)"
      ]
    },
    {
      "cell_type": "code",
      "execution_count": 62,
      "metadata": {},
      "outputs": [
        {
          "output_type": "execute_result",
          "data": {
            "text/plain": [
              "tensor([  464,   604,  1041,  7114,   728,   287,  7517,   389,    26,   337,\n",
              "          358,   400,  1228,    67, 24954,    11, 50026,    11, 12107,  1706,\n",
              "           11], device='cuda:0')"
            ]
          },
          "metadata": {},
          "execution_count": 62
        }
      ],
      "source": [
        "input_ids.to(device)"
      ]
    },
    {
      "cell_type": "code",
      "execution_count": 63,
      "metadata": {},
      "outputs": [
        {
          "output_type": "error",
          "ename": "RuntimeError",
          "evalue": "Input, output and indices must be on the current device",
          "traceback": [
            "\u001b[1;31m---------------------------------------------------------------------------\u001b[0m",
            "\u001b[1;31mRuntimeError\u001b[0m                              Traceback (most recent call last)",
            "\u001b[1;32m<ipython-input-63-f5c2732e71a5>\u001b[0m in \u001b[0;36m<module>\u001b[1;34m\u001b[0m\n\u001b[1;32m----> 1\u001b[1;33m \u001b[0mlm\u001b[0m\u001b[1;33m.\u001b[0m\u001b[0mmodel\u001b[0m\u001b[1;33m.\u001b[0m\u001b[0mtransformer\u001b[0m\u001b[1;33m(\u001b[0m\u001b[0minput_ids\u001b[0m\u001b[1;33m)\u001b[0m\u001b[1;33m\u001b[0m\u001b[1;33m\u001b[0m\u001b[0m\n\u001b[0m",
            "\u001b[1;32m~\\AppData\\Local\\Programs\\Python\\Python39\\lib\\site-packages\\torch\\nn\\modules\\module.py\u001b[0m in \u001b[0;36m_call_impl\u001b[1;34m(self, *input, **kwargs)\u001b[0m\n\u001b[0;32m    887\u001b[0m             \u001b[0mresult\u001b[0m \u001b[1;33m=\u001b[0m \u001b[0mself\u001b[0m\u001b[1;33m.\u001b[0m\u001b[0m_slow_forward\u001b[0m\u001b[1;33m(\u001b[0m\u001b[1;33m*\u001b[0m\u001b[0minput\u001b[0m\u001b[1;33m,\u001b[0m \u001b[1;33m**\u001b[0m\u001b[0mkwargs\u001b[0m\u001b[1;33m)\u001b[0m\u001b[1;33m\u001b[0m\u001b[1;33m\u001b[0m\u001b[0m\n\u001b[0;32m    888\u001b[0m         \u001b[1;32melse\u001b[0m\u001b[1;33m:\u001b[0m\u001b[1;33m\u001b[0m\u001b[1;33m\u001b[0m\u001b[0m\n\u001b[1;32m--> 889\u001b[1;33m             \u001b[0mresult\u001b[0m \u001b[1;33m=\u001b[0m \u001b[0mself\u001b[0m\u001b[1;33m.\u001b[0m\u001b[0mforward\u001b[0m\u001b[1;33m(\u001b[0m\u001b[1;33m*\u001b[0m\u001b[0minput\u001b[0m\u001b[1;33m,\u001b[0m \u001b[1;33m**\u001b[0m\u001b[0mkwargs\u001b[0m\u001b[1;33m)\u001b[0m\u001b[1;33m\u001b[0m\u001b[1;33m\u001b[0m\u001b[0m\n\u001b[0m\u001b[0;32m    890\u001b[0m         for hook in itertools.chain(\n\u001b[0;32m    891\u001b[0m                 \u001b[0m_global_forward_hooks\u001b[0m\u001b[1;33m.\u001b[0m\u001b[0mvalues\u001b[0m\u001b[1;33m(\u001b[0m\u001b[1;33m)\u001b[0m\u001b[1;33m,\u001b[0m\u001b[1;33m\u001b[0m\u001b[1;33m\u001b[0m\u001b[0m\n",
            "\u001b[1;32m~\\AppData\\Local\\Programs\\Python\\Python39\\lib\\site-packages\\transformers\\models\\gpt2\\modeling_gpt2.py\u001b[0m in \u001b[0;36mforward\u001b[1;34m(self, input_ids, past_key_values, attention_mask, token_type_ids, position_ids, head_mask, inputs_embeds, encoder_hidden_states, encoder_attention_mask, use_cache, output_attentions, output_hidden_states, return_dict)\u001b[0m\n\u001b[0;32m    692\u001b[0m \u001b[1;33m\u001b[0m\u001b[0m\n\u001b[0;32m    693\u001b[0m         \u001b[1;32mif\u001b[0m \u001b[0minputs_embeds\u001b[0m \u001b[1;32mis\u001b[0m \u001b[1;32mNone\u001b[0m\u001b[1;33m:\u001b[0m\u001b[1;33m\u001b[0m\u001b[1;33m\u001b[0m\u001b[0m\n\u001b[1;32m--> 694\u001b[1;33m             \u001b[0minputs_embeds\u001b[0m \u001b[1;33m=\u001b[0m \u001b[0mself\u001b[0m\u001b[1;33m.\u001b[0m\u001b[0mwte\u001b[0m\u001b[1;33m(\u001b[0m\u001b[0minput_ids\u001b[0m\u001b[1;33m)\u001b[0m\u001b[1;33m\u001b[0m\u001b[1;33m\u001b[0m\u001b[0m\n\u001b[0m\u001b[0;32m    695\u001b[0m         \u001b[0mposition_embeds\u001b[0m \u001b[1;33m=\u001b[0m \u001b[0mself\u001b[0m\u001b[1;33m.\u001b[0m\u001b[0mwpe\u001b[0m\u001b[1;33m(\u001b[0m\u001b[0mposition_ids\u001b[0m\u001b[1;33m)\u001b[0m\u001b[1;33m\u001b[0m\u001b[1;33m\u001b[0m\u001b[0m\n\u001b[0;32m    696\u001b[0m         \u001b[0mhidden_states\u001b[0m \u001b[1;33m=\u001b[0m \u001b[0minputs_embeds\u001b[0m \u001b[1;33m+\u001b[0m \u001b[0mposition_embeds\u001b[0m\u001b[1;33m\u001b[0m\u001b[1;33m\u001b[0m\u001b[0m\n",
            "\u001b[1;32m~\\AppData\\Local\\Programs\\Python\\Python39\\lib\\site-packages\\torch\\nn\\modules\\module.py\u001b[0m in \u001b[0;36m_call_impl\u001b[1;34m(self, *input, **kwargs)\u001b[0m\n\u001b[0;32m    887\u001b[0m             \u001b[0mresult\u001b[0m \u001b[1;33m=\u001b[0m \u001b[0mself\u001b[0m\u001b[1;33m.\u001b[0m\u001b[0m_slow_forward\u001b[0m\u001b[1;33m(\u001b[0m\u001b[1;33m*\u001b[0m\u001b[0minput\u001b[0m\u001b[1;33m,\u001b[0m \u001b[1;33m**\u001b[0m\u001b[0mkwargs\u001b[0m\u001b[1;33m)\u001b[0m\u001b[1;33m\u001b[0m\u001b[1;33m\u001b[0m\u001b[0m\n\u001b[0;32m    888\u001b[0m         \u001b[1;32melse\u001b[0m\u001b[1;33m:\u001b[0m\u001b[1;33m\u001b[0m\u001b[1;33m\u001b[0m\u001b[0m\n\u001b[1;32m--> 889\u001b[1;33m             \u001b[0mresult\u001b[0m \u001b[1;33m=\u001b[0m \u001b[0mself\u001b[0m\u001b[1;33m.\u001b[0m\u001b[0mforward\u001b[0m\u001b[1;33m(\u001b[0m\u001b[1;33m*\u001b[0m\u001b[0minput\u001b[0m\u001b[1;33m,\u001b[0m \u001b[1;33m**\u001b[0m\u001b[0mkwargs\u001b[0m\u001b[1;33m)\u001b[0m\u001b[1;33m\u001b[0m\u001b[1;33m\u001b[0m\u001b[0m\n\u001b[0m\u001b[0;32m    890\u001b[0m         for hook in itertools.chain(\n\u001b[0;32m    891\u001b[0m                 \u001b[0m_global_forward_hooks\u001b[0m\u001b[1;33m.\u001b[0m\u001b[0mvalues\u001b[0m\u001b[1;33m(\u001b[0m\u001b[1;33m)\u001b[0m\u001b[1;33m,\u001b[0m\u001b[1;33m\u001b[0m\u001b[1;33m\u001b[0m\u001b[0m\n",
            "\u001b[1;32m~\\AppData\\Local\\Programs\\Python\\Python39\\lib\\site-packages\\torch\\nn\\modules\\sparse.py\u001b[0m in \u001b[0;36mforward\u001b[1;34m(self, input)\u001b[0m\n\u001b[0;32m    154\u001b[0m \u001b[1;33m\u001b[0m\u001b[0m\n\u001b[0;32m    155\u001b[0m     \u001b[1;32mdef\u001b[0m \u001b[0mforward\u001b[0m\u001b[1;33m(\u001b[0m\u001b[0mself\u001b[0m\u001b[1;33m,\u001b[0m \u001b[0minput\u001b[0m\u001b[1;33m:\u001b[0m \u001b[0mTensor\u001b[0m\u001b[1;33m)\u001b[0m \u001b[1;33m->\u001b[0m \u001b[0mTensor\u001b[0m\u001b[1;33m:\u001b[0m\u001b[1;33m\u001b[0m\u001b[1;33m\u001b[0m\u001b[0m\n\u001b[1;32m--> 156\u001b[1;33m         return F.embedding(\n\u001b[0m\u001b[0;32m    157\u001b[0m             \u001b[0minput\u001b[0m\u001b[1;33m,\u001b[0m \u001b[0mself\u001b[0m\u001b[1;33m.\u001b[0m\u001b[0mweight\u001b[0m\u001b[1;33m,\u001b[0m \u001b[0mself\u001b[0m\u001b[1;33m.\u001b[0m\u001b[0mpadding_idx\u001b[0m\u001b[1;33m,\u001b[0m \u001b[0mself\u001b[0m\u001b[1;33m.\u001b[0m\u001b[0mmax_norm\u001b[0m\u001b[1;33m,\u001b[0m\u001b[1;33m\u001b[0m\u001b[1;33m\u001b[0m\u001b[0m\n\u001b[0;32m    158\u001b[0m             self.norm_type, self.scale_grad_by_freq, self.sparse)\n",
            "\u001b[1;32m~\\AppData\\Local\\Programs\\Python\\Python39\\lib\\site-packages\\torch\\nn\\functional.py\u001b[0m in \u001b[0;36membedding\u001b[1;34m(input, weight, padding_idx, max_norm, norm_type, scale_grad_by_freq, sparse)\u001b[0m\n\u001b[0;32m   1914\u001b[0m         \u001b[1;31m# remove once script supports set_grad_enabled\u001b[0m\u001b[1;33m\u001b[0m\u001b[1;33m\u001b[0m\u001b[1;33m\u001b[0m\u001b[0m\n\u001b[0;32m   1915\u001b[0m         \u001b[0m_no_grad_embedding_renorm_\u001b[0m\u001b[1;33m(\u001b[0m\u001b[0mweight\u001b[0m\u001b[1;33m,\u001b[0m \u001b[0minput\u001b[0m\u001b[1;33m,\u001b[0m \u001b[0mmax_norm\u001b[0m\u001b[1;33m,\u001b[0m \u001b[0mnorm_type\u001b[0m\u001b[1;33m)\u001b[0m\u001b[1;33m\u001b[0m\u001b[1;33m\u001b[0m\u001b[0m\n\u001b[1;32m-> 1916\u001b[1;33m     \u001b[1;32mreturn\u001b[0m \u001b[0mtorch\u001b[0m\u001b[1;33m.\u001b[0m\u001b[0membedding\u001b[0m\u001b[1;33m(\u001b[0m\u001b[0mweight\u001b[0m\u001b[1;33m,\u001b[0m \u001b[0minput\u001b[0m\u001b[1;33m,\u001b[0m \u001b[0mpadding_idx\u001b[0m\u001b[1;33m,\u001b[0m \u001b[0mscale_grad_by_freq\u001b[0m\u001b[1;33m,\u001b[0m \u001b[0msparse\u001b[0m\u001b[1;33m)\u001b[0m\u001b[1;33m\u001b[0m\u001b[1;33m\u001b[0m\u001b[0m\n\u001b[0m\u001b[0;32m   1917\u001b[0m \u001b[1;33m\u001b[0m\u001b[0m\n\u001b[0;32m   1918\u001b[0m \u001b[1;33m\u001b[0m\u001b[0m\n",
            "\u001b[1;31mRuntimeError\u001b[0m: Input, output and indices must be on the current device"
          ]
        }
      ],
      "source": [
        "lm.model.transformer(input_ids)"
      ]
    },
    {
      "cell_type": "code",
      "execution_count": 65,
      "metadata": {},
      "outputs": [
        {
          "output_type": "execute_result",
          "data": {
            "text/plain": [
              "tensor([[0., 0., 0.,  ..., 0., 0., 0.],\n",
              "        [0., 0., 0.,  ..., 0., 0., 0.],\n",
              "        [0., 0., 0.,  ..., 0., 0., 0.],\n",
              "        ...,\n",
              "        [0., 0., 0.,  ..., 0., 0., 0.],\n",
              "        [0., 0., 0.,  ..., 0., 0., 0.],\n",
              "        [0., 0., 0.,  ..., 0., 0., 0.]], device='cuda:0')"
            ]
          },
          "metadata": {},
          "execution_count": 65
        }
      ],
      "source": [
        "def _one_hot(token_ids, vocab_size):\n",
        "    return torch.zeros(len(token_ids), vocab_size).scatter_(1, token_ids.unsqueeze(1), 1.)\n",
        "\n",
        "embedding_matrix = lm.model_embeddings\n",
        "\n",
        "vocab_size = embedding_matrix.shape[0]\n",
        "one_hot_tensor = lm.to(_one_hot(input_ids, vocab_size))\n",
        "one_hot_tensor"
      ]
    },
    {
      "cell_type": "code",
      "execution_count": 67,
      "metadata": {},
      "outputs": [
        {
          "output_type": "execute_result",
          "data": {
            "text/plain": [
              "tensor([0., 0., 0.,  ..., 0., 0., 0.], device='cuda:0')"
            ]
          },
          "metadata": {},
          "execution_count": 67
        }
      ],
      "source": [
        "one_hot_tensor[1]"
      ]
    },
    {
      "cell_type": "code",
      "execution_count": 93,
      "metadata": {},
      "outputs": [
        {
          "output_type": "execute_result",
          "data": {
            "text/plain": [
              "torch.Size([21, 50257])"
            ]
          },
          "metadata": {},
          "execution_count": 93
        }
      ],
      "source": [
        "one_hot_tensor.shape"
      ]
    },
    {
      "cell_type": "code",
      "execution_count": 69,
      "metadata": {},
      "outputs": [
        {
          "output_type": "execute_result",
          "data": {
            "text/plain": [
              "(tensor([[-0.0626, -0.0449,  0.0559,  ...,  0.0781, -0.0297, -0.0243],\n",
              "         [-0.1686, -0.0275,  0.0320,  ..., -0.0621,  0.2120,  0.1868],\n",
              "         [-0.0270, -0.0099,  0.2377,  ..., -0.0518,  0.1315, -0.0012],\n",
              "         ...,\n",
              "         [ 0.0203, -0.0914,  0.2287,  ...,  0.2563,  0.0751,  0.0450],\n",
              "         [ 0.0719, -0.1795,  0.1472,  ..., -0.0917,  0.0388,  0.0854],\n",
              "         [ 0.0086, -0.0009,  0.0056,  ...,  0.0484, -0.0737, -0.0636]],\n",
              "        device='cuda:0', grad_fn=<MmBackward>),\n",
              " tensor([[0., 0., 0.,  ..., 0., 0., 0.],\n",
              "         [0., 0., 0.,  ..., 0., 0., 0.],\n",
              "         [0., 0., 0.,  ..., 0., 0., 0.],\n",
              "         ...,\n",
              "         [0., 0., 0.,  ..., 0., 0., 0.],\n",
              "         [0., 0., 0.,  ..., 0., 0., 0.],\n",
              "         [0., 0., 0.,  ..., 0., 0., 0.]], device='cuda:0', requires_grad=True))"
            ]
          },
          "metadata": {},
          "execution_count": 69
        }
      ],
      "source": [
        "token_ids_tensor_one_hot = one_hot_tensor.clone().requires_grad_(True)\n",
        "        # token_ids_tensor_one_hot.requires_grad_(True)\n",
        "\n",
        "inputs_embeds = torch.matmul(token_ids_tensor_one_hot, embedding_matrix)\n",
        "inputs_embeds, token_ids_tensor_one_hot"
      ]
    },
    {
      "cell_type": "code",
      "execution_count": 75,
      "metadata": {},
      "outputs": [
        {
          "output_type": "execute_result",
          "data": {
            "text/plain": [
              "(tensor(0., device='cuda:0', grad_fn=<SelectBackward>),\n",
              " tensor(1., device='cuda:0', grad_fn=<SelectBackward>),\n",
              " tensor(0., device='cuda:0', grad_fn=<SelectBackward>))"
            ]
          },
          "metadata": {},
          "execution_count": 75
        }
      ],
      "source": [
        "token_ids_tensor_one_hot[0][463],token_ids_tensor_one_hot[0][464],token_ids_tensor_one_hot[0][465]"
      ]
    },
    {
      "cell_type": "code",
      "execution_count": 92,
      "metadata": {},
      "outputs": [
        {
          "output_type": "execute_result",
          "data": {
            "text/plain": [
              "torch.Size([21, 768])"
            ]
          },
          "metadata": {},
          "execution_count": 92
        }
      ],
      "source": [
        "inputs_embeds.shape"
      ]
    },
    {
      "cell_type": "code",
      "execution_count": 79,
      "metadata": {},
      "outputs": [],
      "source": [
        "result = lm.model.transformer(inputs_embeds = inputs_embeds,return_dict=True, use_cache=False )"
      ]
    },
    {
      "cell_type": "code",
      "execution_count": 80,
      "metadata": {},
      "outputs": [
        {
          "output_type": "execute_result",
          "data": {
            "text/plain": [
              "transformers.modeling_outputs.BaseModelOutputWithPastAndCrossAttentions"
            ]
          },
          "metadata": {},
          "execution_count": 80
        }
      ],
      "source": [
        "type(result)"
      ]
    },
    {
      "cell_type": "code",
      "execution_count": 83,
      "metadata": {},
      "outputs": [
        {
          "output_type": "execute_result",
          "data": {
            "text/plain": [
              "odict_keys(['last_hidden_state', 'hidden_states'])"
            ]
          },
          "metadata": {},
          "execution_count": 83
        }
      ],
      "source": [
        "result.keys()"
      ]
    },
    {
      "cell_type": "code",
      "execution_count": 84,
      "metadata": {},
      "outputs": [
        {
          "output_type": "execute_result",
          "data": {
            "text/plain": [
              "(tensor([[[-0.0815, -0.2423,  0.0599,  ...,  0.0350, -0.0015,  0.0302],\n",
              "          [-0.1447, -0.0813, -0.0628,  ..., -0.0279,  0.2221,  0.1866],\n",
              "          [-0.0228, -0.0947,  0.2922,  ..., -0.0321,  0.1508, -0.0226],\n",
              "          ...,\n",
              "          [ 0.0210, -0.0627,  0.3042,  ...,  0.2526,  0.0726,  0.0423],\n",
              "          [ 0.0652, -0.1475,  0.2299,  ..., -0.0959,  0.0340,  0.0843],\n",
              "          [ 0.0084,  0.0259,  0.0756,  ...,  0.0482, -0.0773, -0.0648]]],\n",
              "        device='cuda:0', grad_fn=<AddBackward0>),\n",
              " tensor([[[-1.8613e-01, -8.6017e-01,  1.0876e+00,  ..., -2.5868e+00,\n",
              "           -1.0287e-02, -5.2870e-01],\n",
              "          [ 2.0093e+00, -2.0152e-01,  1.1645e+00,  ..., -1.0006e+00,\n",
              "            5.5839e-01, -6.7677e-01],\n",
              "          [ 5.0977e+00, -1.7863e+00, -5.8685e-01,  ..., -1.4364e+00,\n",
              "           -8.3528e-01, -1.7980e+00],\n",
              "          ...,\n",
              "          [ 7.6839e+00, -2.9927e-01, -1.3368e+00,  ..., -3.7637e-01,\n",
              "           -7.7816e-01, -3.7674e-01],\n",
              "          [ 3.0583e-02, -4.2647e-03,  5.4010e-02,  ...,  6.6096e-01,\n",
              "           -5.2857e-01, -1.1550e+00],\n",
              "          [ 1.2841e+00, -7.0663e-01, -1.8181e-01,  ...,  9.4660e-01,\n",
              "           -1.2563e-01,  3.0200e-01]]], device='cuda:0', grad_fn=<AddBackward0>),\n",
              " tensor([[[-0.0509, -0.8755,  1.7362,  ..., -2.3045,  0.2794, -0.4976],\n",
              "          [ 2.3972, -0.1285,  2.4336,  ..., -0.9912,  0.2513, -1.0984],\n",
              "          [ 5.7438, -1.6027, -0.2370,  ..., -0.5574, -0.7795, -2.2592],\n",
              "          ...,\n",
              "          [ 8.1628,  0.0386, -1.3963,  ..., -1.3991, -1.0499, -0.5625],\n",
              "          [ 0.5740, -0.3562,  0.4640,  ...,  0.1352,  0.1214, -0.9757],\n",
              "          [ 0.3738,  0.4014,  0.0945,  ...,  1.2914,  0.5298,  0.1603]]],\n",
              "        device='cuda:0', grad_fn=<AddBackward0>),\n",
              " tensor([[[ 0.1184, -1.1790,  1.9850,  ..., -3.0871,  0.1342, -0.7166],\n",
              "          [ 2.3101, -0.1279,  2.1220,  ..., -1.7807, -0.0645, -1.1175],\n",
              "          [ 6.4129, -0.5550, -0.7563,  ..., -0.2230, -0.9159, -2.1703],\n",
              "          ...,\n",
              "          [ 8.0314,  0.0473, -1.4453,  ..., -1.7569, -1.7853, -1.0475],\n",
              "          [ 0.7909, -0.4909,  0.0742,  ...,  0.0405,  0.3913, -1.6581],\n",
              "          [ 0.6969,  0.3410, -0.3488,  ...,  1.1578,  1.8797, -0.4172]]],\n",
              "        device='cuda:0', grad_fn=<AddBackward0>),\n",
              " tensor([[[-1.5011e-01, -1.0488e+00,  2.0781e+00,  ..., -3.5368e+00,\n",
              "            1.3445e-01, -1.0043e+00],\n",
              "          [ 2.7370e+00,  1.2021e+00,  1.8053e+00,  ..., -1.3827e+00,\n",
              "           -7.7978e-01, -9.2686e-01],\n",
              "          [ 6.4160e+00, -4.3080e-01, -2.2005e+00,  ...,  7.6554e-01,\n",
              "           -1.1582e+00, -2.4102e+00],\n",
              "          ...,\n",
              "          [ 8.3738e+00,  4.5438e-01, -1.1594e+00,  ..., -1.6474e+00,\n",
              "           -3.0253e+00, -2.5519e+00],\n",
              "          [ 1.7604e+00, -1.4772e+00, -3.7220e-01,  ..., -8.4952e-01,\n",
              "            1.3902e+00, -2.0549e+00],\n",
              "          [ 1.9290e+00,  1.7104e+00,  1.1951e+00,  ...,  6.9552e-03,\n",
              "           -3.5769e-03, -1.7644e+00]]], device='cuda:0', grad_fn=<AddBackward0>),\n",
              " tensor([[[-2.9595e-01, -5.0727e-01,  2.0092e+00,  ..., -3.7364e+00,\n",
              "            7.5026e-01, -1.5237e+00],\n",
              "          [ 4.1668e+00,  2.4171e+00,  2.3392e+00,  ..., -9.4533e-01,\n",
              "           -6.2091e-01, -3.7281e-03],\n",
              "          [ 8.3327e+00, -4.8041e-02, -1.9868e+00,  ...,  2.9245e+00,\n",
              "           -1.2349e+00, -2.1517e+00],\n",
              "          ...,\n",
              "          [ 9.0215e+00,  9.1464e-01, -1.1343e-01,  ..., -1.3631e-02,\n",
              "           -4.3674e+00, -2.9321e+00],\n",
              "          [ 2.4647e-01, -1.7371e+00, -1.0872e-01,  ..., -1.3306e+00,\n",
              "            3.0191e+00, -2.4439e+00],\n",
              "          [ 2.5711e+00,  2.0681e+00,  1.6522e+00,  ...,  7.5259e-01,\n",
              "            5.2427e-01, -1.5528e+00]]], device='cuda:0', grad_fn=<AddBackward0>),\n",
              " tensor([[-0.0301,  0.3668,  0.0901,  ..., -0.2221,  0.1273, -0.1497],\n",
              "         [ 0.7003,  0.3581,  0.4199,  ..., -0.0703, -0.1778,  0.2605],\n",
              "         [ 1.5859, -0.1958, -0.6693,  ...,  0.4534,  0.0583,  0.0112],\n",
              "         ...,\n",
              "         [ 1.3995, -0.5561,  0.5528,  ..., -0.0715, -0.5667, -0.0540],\n",
              "         [ 0.3283,  0.0109, -0.0740,  ...,  0.0872,  0.2107, -0.1472],\n",
              "         [ 0.2094,  0.2516,  0.7074,  ..., -0.0078,  0.4084, -0.0302]],\n",
              "        device='cuda:0', grad_fn=<ViewBackward>))"
            ]
          },
          "metadata": {},
          "execution_count": 84
        }
      ],
      "source": [
        "result.hidden_states"
      ]
    },
    {
      "cell_type": "code",
      "execution_count": 85,
      "metadata": {},
      "outputs": [
        {
          "output_type": "execute_result",
          "data": {
            "text/plain": [
              "CausalLMOutputWithCrossAttentions(loss=None, logits=tensor([[-31.6921, -29.4775, -31.2145,  ..., -42.1520, -42.1397, -31.2937],\n",
              "        [-42.9858, -40.1557, -44.6920,  ..., -50.1688, -50.0359, -42.3772],\n",
              "        [-51.4205, -50.8926, -54.7623,  ..., -58.6062, -59.6251, -50.8977],\n",
              "        ...,\n",
              "        [-70.8204, -67.8289, -72.5279,  ..., -81.0127, -79.7652, -68.8450],\n",
              "        [-14.0877, -13.9825, -15.3471,  ..., -25.0423, -23.4864, -10.7735],\n",
              "        [-77.1462, -76.3484, -77.6311,  ..., -84.6266, -82.7487, -72.7337]],\n",
              "       device='cuda:0', grad_fn=<MmBackward>), past_key_values=None, hidden_states=(tensor([[[-0.0815, -0.2423,  0.0599,  ...,  0.0350, -0.0015,  0.0302],\n",
              "         [-0.1447, -0.0813, -0.0628,  ..., -0.0279,  0.2221,  0.1866],\n",
              "         [-0.0228, -0.0947,  0.2922,  ..., -0.0321,  0.1508, -0.0226],\n",
              "         ...,\n",
              "         [ 0.0210, -0.0627,  0.3042,  ...,  0.2526,  0.0726,  0.0423],\n",
              "         [ 0.0652, -0.1475,  0.2299,  ..., -0.0959,  0.0340,  0.0843],\n",
              "         [ 0.0084,  0.0259,  0.0756,  ...,  0.0482, -0.0773, -0.0648]]],\n",
              "       device='cuda:0', grad_fn=<AddBackward0>), tensor([[[-1.8613e-01, -8.6017e-01,  1.0876e+00,  ..., -2.5868e+00,\n",
              "          -1.0287e-02, -5.2870e-01],\n",
              "         [ 2.0093e+00, -2.0152e-01,  1.1645e+00,  ..., -1.0006e+00,\n",
              "           5.5839e-01, -6.7677e-01],\n",
              "         [ 5.0977e+00, -1.7863e+00, -5.8685e-01,  ..., -1.4364e+00,\n",
              "          -8.3528e-01, -1.7980e+00],\n",
              "         ...,\n",
              "         [ 7.6839e+00, -2.9927e-01, -1.3368e+00,  ..., -3.7637e-01,\n",
              "          -7.7816e-01, -3.7674e-01],\n",
              "         [ 3.0583e-02, -4.2647e-03,  5.4010e-02,  ...,  6.6096e-01,\n",
              "          -5.2857e-01, -1.1550e+00],\n",
              "         [ 1.2841e+00, -7.0663e-01, -1.8181e-01,  ...,  9.4660e-01,\n",
              "          -1.2563e-01,  3.0200e-01]]], device='cuda:0', grad_fn=<AddBackward0>), tensor([[[-0.0509, -0.8755,  1.7362,  ..., -2.3045,  0.2794, -0.4976],\n",
              "         [ 2.3972, -0.1285,  2.4336,  ..., -0.9912,  0.2513, -1.0984],\n",
              "         [ 5.7438, -1.6027, -0.2370,  ..., -0.5574, -0.7795, -2.2592],\n",
              "         ...,\n",
              "         [ 8.1628,  0.0386, -1.3963,  ..., -1.3991, -1.0499, -0.5625],\n",
              "         [ 0.5740, -0.3562,  0.4640,  ...,  0.1352,  0.1214, -0.9757],\n",
              "         [ 0.3738,  0.4014,  0.0945,  ...,  1.2914,  0.5298,  0.1603]]],\n",
              "       device='cuda:0', grad_fn=<AddBackward0>), tensor([[[ 0.1184, -1.1790,  1.9850,  ..., -3.0871,  0.1342, -0.7166],\n",
              "         [ 2.3101, -0.1279,  2.1220,  ..., -1.7807, -0.0645, -1.1175],\n",
              "         [ 6.4129, -0.5550, -0.7563,  ..., -0.2230, -0.9159, -2.1703],\n",
              "         ...,\n",
              "         [ 8.0314,  0.0473, -1.4453,  ..., -1.7569, -1.7853, -1.0475],\n",
              "         [ 0.7909, -0.4909,  0.0742,  ...,  0.0405,  0.3913, -1.6581],\n",
              "         [ 0.6969,  0.3410, -0.3488,  ...,  1.1578,  1.8797, -0.4172]]],\n",
              "       device='cuda:0', grad_fn=<AddBackward0>), tensor([[[-1.5011e-01, -1.0488e+00,  2.0781e+00,  ..., -3.5368e+00,\n",
              "           1.3445e-01, -1.0043e+00],\n",
              "         [ 2.7370e+00,  1.2021e+00,  1.8053e+00,  ..., -1.3827e+00,\n",
              "          -7.7978e-01, -9.2686e-01],\n",
              "         [ 6.4160e+00, -4.3080e-01, -2.2005e+00,  ...,  7.6554e-01,\n",
              "          -1.1582e+00, -2.4102e+00],\n",
              "         ...,\n",
              "         [ 8.3738e+00,  4.5438e-01, -1.1594e+00,  ..., -1.6474e+00,\n",
              "          -3.0253e+00, -2.5519e+00],\n",
              "         [ 1.7604e+00, -1.4772e+00, -3.7220e-01,  ..., -8.4952e-01,\n",
              "           1.3902e+00, -2.0549e+00],\n",
              "         [ 1.9290e+00,  1.7104e+00,  1.1951e+00,  ...,  6.9552e-03,\n",
              "          -3.5769e-03, -1.7644e+00]]], device='cuda:0', grad_fn=<AddBackward0>), tensor([[[-2.9595e-01, -5.0727e-01,  2.0092e+00,  ..., -3.7364e+00,\n",
              "           7.5026e-01, -1.5237e+00],\n",
              "         [ 4.1668e+00,  2.4171e+00,  2.3392e+00,  ..., -9.4533e-01,\n",
              "          -6.2091e-01, -3.7281e-03],\n",
              "         [ 8.3327e+00, -4.8041e-02, -1.9868e+00,  ...,  2.9245e+00,\n",
              "          -1.2349e+00, -2.1517e+00],\n",
              "         ...,\n",
              "         [ 9.0215e+00,  9.1464e-01, -1.1343e-01,  ..., -1.3631e-02,\n",
              "          -4.3674e+00, -2.9321e+00],\n",
              "         [ 2.4647e-01, -1.7371e+00, -1.0872e-01,  ..., -1.3306e+00,\n",
              "           3.0191e+00, -2.4439e+00],\n",
              "         [ 2.5711e+00,  2.0681e+00,  1.6522e+00,  ...,  7.5259e-01,\n",
              "           5.2427e-01, -1.5528e+00]]], device='cuda:0', grad_fn=<AddBackward0>), tensor([[-0.0301,  0.3668,  0.0901,  ..., -0.2221,  0.1273, -0.1497],\n",
              "        [ 0.7003,  0.3581,  0.4199,  ..., -0.0703, -0.1778,  0.2605],\n",
              "        [ 1.5859, -0.1958, -0.6693,  ...,  0.4534,  0.0583,  0.0112],\n",
              "        ...,\n",
              "        [ 1.3995, -0.5561,  0.5528,  ..., -0.0715, -0.5667, -0.0540],\n",
              "        [ 0.3283,  0.0109, -0.0740,  ...,  0.0872,  0.2107, -0.1472],\n",
              "        [ 0.2094,  0.2516,  0.7074,  ..., -0.0078,  0.4084, -0.0302]],\n",
              "       device='cuda:0', grad_fn=<ViewBackward>)), attentions=None, cross_attentions=None)"
            ]
          },
          "metadata": {},
          "execution_count": 85
        }
      ],
      "source": [
        "lmresult = lm.model(inputs_embeds = inputs_embeds,return_dict=True, use_cache=False )\n",
        "lmresult"
      ]
    },
    {
      "cell_type": "code",
      "execution_count": 87,
      "metadata": {},
      "outputs": [
        {
          "output_type": "execute_result",
          "data": {
            "text/plain": [
              "odict_keys(['logits', 'hidden_states'])"
            ]
          },
          "metadata": {},
          "execution_count": 87
        }
      ],
      "source": [
        "lmresult.keys()"
      ]
    },
    {
      "cell_type": "code",
      "execution_count": 91,
      "metadata": {},
      "outputs": [
        {
          "output_type": "execute_result",
          "data": {
            "text/plain": [
              "(torch.Size([21, 50257]),\n",
              " tensor([[-31.6921, -29.4775, -31.2145,  ..., -42.1520, -42.1397, -31.2937],\n",
              "         [-42.9858, -40.1557, -44.6920,  ..., -50.1688, -50.0359, -42.3772],\n",
              "         [-51.4205, -50.8926, -54.7623,  ..., -58.6062, -59.6251, -50.8977],\n",
              "         ...,\n",
              "         [-70.8204, -67.8289, -72.5279,  ..., -81.0127, -79.7652, -68.8450],\n",
              "         [-14.0877, -13.9825, -15.3471,  ..., -25.0423, -23.4864, -10.7735],\n",
              "         [-77.1462, -76.3484, -77.6311,  ..., -84.6266, -82.7487, -72.7337]],\n",
              "        device='cuda:0', grad_fn=<MmBackward>))"
            ]
          },
          "metadata": {},
          "execution_count": 91
        }
      ],
      "source": [
        "lmresult.logits.shape, lmresult.logits"
      ]
    },
    {
      "cell_type": "code",
      "execution_count": null,
      "metadata": {},
      "outputs": [],
      "source": []
    }
  ]
}